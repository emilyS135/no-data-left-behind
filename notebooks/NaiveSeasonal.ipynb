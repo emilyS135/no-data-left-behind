{
 "cells": [
  {
   "cell_type": "markdown",
   "metadata": {},
   "source": [
    "# Naive Seasonal Baseline"
   ]
  },
  {
   "cell_type": "markdown",
   "metadata": {},
   "source": [
    "#### Setup"
   ]
  },
  {
   "cell_type": "code",
   "execution_count": 1,
   "metadata": {},
   "outputs": [],
   "source": [
    "%load_ext autoreload\n",
    "%autoreload 2"
   ]
  },
  {
   "cell_type": "code",
   "execution_count": 2,
   "metadata": {},
   "outputs": [],
   "source": [
    "import os\n",
    "import sys\n",
    "from pathlib import Path\n",
    "from hydra import initialize, initialize_config_module, initialize_config_dir, compose\n",
    "from omegaconf import OmegaConf\n",
    "from matplotlib import pyplot as plt\n",
    "from utilsforecast.evaluation import evaluate\n",
    "\n",
    "from darts import TimeSeries\n",
    "from pandas import DataFrame"
   ]
  },
  {
   "cell_type": "markdown",
   "metadata": {},
   "source": [
    "configure logging output"
   ]
  },
  {
   "cell_type": "code",
   "execution_count": 3,
   "metadata": {},
   "outputs": [],
   "source": [
    "from rich.logging import RichHandler\n",
    "import logging\n",
    "\n",
    "logging.basicConfig(level=logging.INFO, handlers=[RichHandler()])"
   ]
  },
  {
   "cell_type": "markdown",
   "metadata": {},
   "source": [
    "using default YAML but overwriting the relative data path"
   ]
  },
  {
   "cell_type": "code",
   "execution_count": 4,
   "metadata": {},
   "outputs": [
    {
     "name": "stderr",
     "output_type": "stream",
     "text": [
      "/usr/local/lib/python3.10/site-packages/hydra/_internal/defaults_list.py:251: UserWarning: In 'train_ltsf.yaml': Defaults list is missing `_self_`. See https://hydra.cc/docs/1.2/upgrades/1.0_to_1.1/default_composition_order for more information\n",
      "  warnings.warn(msg, UserWarning)\n"
     ]
    }
   ],
   "source": [
    "initialize(\n",
    "    version_base=None,\n",
    "    config_path=\"../configs\",\n",
    ")\n",
    "cfg = compose(\n",
    "    config_name=\"train_ltsf.yaml\",\n",
    "    overrides=[\"dataset.datamodule.path=/workspaces/ai4healthcare/data/external/kispp\"],\n",
    ")"
   ]
  },
  {
   "cell_type": "markdown",
   "metadata": {},
   "source": [
    "#### Replication of Training Pipeline Steps"
   ]
  },
  {
   "cell_type": "markdown",
   "metadata": {},
   "source": [
    "###### Resolve Hydra Config"
   ]
  },
  {
   "cell_type": "code",
   "execution_count": 5,
   "metadata": {},
   "outputs": [
    {
     "name": "stderr",
     "output_type": "stream",
     "text": [
      "2024-04-24 09:11:32,094\tINFO util.py:154 -- Outdated packages:\n",
      "  ipywidgets==7.7.1 found, needs ipywidgets>=8\n",
      "Run `pip install -U ipywidgets`, then restart the notebook server for rich notebook output.\n",
      "2024-04-24 09:11:32,203\tINFO util.py:154 -- Outdated packages:\n",
      "  ipywidgets==7.7.1 found, needs ipywidgets>=8\n",
      "Run `pip install -U ipywidgets`, then restart the notebook server for rich notebook output.\n"
     ]
    },
    {
     "data": {
      "text/html": [
       "<pre style=\"white-space:pre;overflow-x:auto;line-height:normal;font-family:Menlo,'DejaVu Sans Mono',consolas,'Courier New',monospace\"><span style=\"color: #7fbfbf; text-decoration-color: #7fbfbf\">[04/24/24 09:11:34] </span><span style=\"color: #000080; text-decoration-color: #000080\">INFO    </span> INFO:src.pipelines:Loaded Config:                                     <a href=\"file:///workspaces/ai4healthcare/src/pipelines.py\" target=\"_blank\"><span style=\"color: #7f7f7f; text-decoration-color: #7f7f7f\">pipelines.py</span></a><span style=\"color: #7f7f7f; text-decoration-color: #7f7f7f\">:</span><a href=\"file:///workspaces/ai4healthcare/src/pipelines.py#665\" target=\"_blank\"><span style=\"color: #7f7f7f; text-decoration-color: #7f7f7f\">665</span></a>\n",
       "</pre>\n"
      ],
      "text/plain": [
       "\u001b[2;36m[04/24/24 09:11:34]\u001b[0m\u001b[2;36m \u001b[0m\u001b[34mINFO    \u001b[0m INFO:src.pipelines:Loaded Config:                                     \u001b]8;id=688757;file:///workspaces/ai4healthcare/src/pipelines.py\u001b\\\u001b[2mpipelines.py\u001b[0m\u001b]8;;\u001b\\\u001b[2m:\u001b[0m\u001b]8;id=377182;file:///workspaces/ai4healthcare/src/pipelines.py#665\u001b\\\u001b[2m665\u001b[0m\u001b]8;;\u001b\\\n"
      ]
     },
     "metadata": {},
     "output_type": "display_data"
    },
    {
     "data": {
      "text/html": [
       "<pre style=\"white-space:pre;overflow-x:auto;line-height:normal;font-family:Menlo,'DejaVu Sans Mono',consolas,'Courier New',monospace\"><span style=\"color: #7fbfbf; text-decoration-color: #7fbfbf\">                    </span><span style=\"color: #000080; text-decoration-color: #000080\">INFO    </span> INFO:src.utils:Global seed set to <span style=\"color: #008080; text-decoration-color: #008080; font-weight: bold\">123</span>                                   <a href=\"file:///workspaces/ai4healthcare/src/utils/__init__.py\" target=\"_blank\"><span style=\"color: #7f7f7f; text-decoration-color: #7f7f7f\">__init__.py</span></a><span style=\"color: #7f7f7f; text-decoration-color: #7f7f7f\">:</span><a href=\"file:///workspaces/ai4healthcare/src/utils/__init__.py#94\" target=\"_blank\"><span style=\"color: #7f7f7f; text-decoration-color: #7f7f7f\">94</span></a>\n",
       "</pre>\n"
      ],
      "text/plain": [
       "\u001b[2;36m                   \u001b[0m\u001b[2;36m \u001b[0m\u001b[34mINFO    \u001b[0m INFO:src.utils:Global seed set to \u001b[1;36m123\u001b[0m                                   \u001b]8;id=175756;file:///workspaces/ai4healthcare/src/utils/__init__.py\u001b\\\u001b[2m__init__.py\u001b[0m\u001b]8;;\u001b\\\u001b[2m:\u001b[0m\u001b]8;id=781455;file:///workspaces/ai4healthcare/src/utils/__init__.py#94\u001b\\\u001b[2m94\u001b[0m\u001b]8;;\u001b\\\n"
      ]
     },
     "metadata": {},
     "output_type": "display_data"
    },
    {
     "data": {
      "text/html": [
       "<pre style=\"white-space:pre;overflow-x:auto;line-height:normal;font-family:Menlo,'DejaVu Sans Mono',consolas,'Courier New',monospace\"><span style=\"color: #7fbfbf; text-decoration-color: #7fbfbf\">                    </span><span style=\"color: #000080; text-decoration-color: #000080\">INFO    </span> INFO:src.pipelines:Instantiating datamodule                           <a href=\"file:///workspaces/ai4healthcare/src/pipelines.py\" target=\"_blank\"><span style=\"color: #7f7f7f; text-decoration-color: #7f7f7f\">pipelines.py</span></a><span style=\"color: #7f7f7f; text-decoration-color: #7f7f7f\">:</span><a href=\"file:///workspaces/ai4healthcare/src/pipelines.py#672\" target=\"_blank\"><span style=\"color: #7f7f7f; text-decoration-color: #7f7f7f\">672</span></a>\n",
       "<span style=\"color: #7fbfbf; text-decoration-color: #7fbfbf\">                    </span>         <span style=\"font-weight: bold\">&lt;</span><span style=\"color: #ff00ff; text-decoration-color: #ff00ff; font-weight: bold\">src.data.kispp_datamodule.KisppDataModule</span><span style=\"font-weight: bold\">&gt;</span>                           <span style=\"color: #7f7f7f; text-decoration-color: #7f7f7f\">                </span>\n",
       "</pre>\n"
      ],
      "text/plain": [
       "\u001b[2;36m                   \u001b[0m\u001b[2;36m \u001b[0m\u001b[34mINFO    \u001b[0m INFO:src.pipelines:Instantiating datamodule                           \u001b]8;id=279501;file:///workspaces/ai4healthcare/src/pipelines.py\u001b\\\u001b[2mpipelines.py\u001b[0m\u001b]8;;\u001b\\\u001b[2m:\u001b[0m\u001b]8;id=112931;file:///workspaces/ai4healthcare/src/pipelines.py#672\u001b\\\u001b[2m672\u001b[0m\u001b]8;;\u001b\\\n",
       "\u001b[2;36m                    \u001b[0m         \u001b[1m<\u001b[0m\u001b[1;95msrc.data.kispp_datamodule.KisppDataModule\u001b[0m\u001b[1m>\u001b[0m                           \u001b[2m                \u001b[0m\n"
      ]
     },
     "metadata": {},
     "output_type": "display_data"
    },
    {
     "data": {
      "text/html": [
       "<pre style=\"white-space:pre;overflow-x:auto;line-height:normal;font-family:Menlo,'DejaVu Sans Mono',consolas,'Courier New',monospace\"><span style=\"color: #7fbfbf; text-decoration-color: #7fbfbf\">                    </span><span style=\"color: #000080; text-decoration-color: #000080\">INFO    </span> INFO:src.pipelines:Instantiating model                                <a href=\"file:///workspaces/ai4healthcare/src/pipelines.py\" target=\"_blank\"><span style=\"color: #7f7f7f; text-decoration-color: #7f7f7f\">pipelines.py</span></a><span style=\"color: #7f7f7f; text-decoration-color: #7f7f7f\">:</span><a href=\"file:///workspaces/ai4healthcare/src/pipelines.py#675\" target=\"_blank\"><span style=\"color: #7f7f7f; text-decoration-color: #7f7f7f\">675</span></a>\n",
       "<span style=\"color: #7fbfbf; text-decoration-color: #7fbfbf\">                    </span>         <span style=\"font-weight: bold\">&lt;</span><span style=\"color: #ff00ff; text-decoration-color: #ff00ff; font-weight: bold\">neuralforecast.models.DLinear</span><span style=\"font-weight: bold\">&gt;</span>                                       <span style=\"color: #7f7f7f; text-decoration-color: #7f7f7f\">                </span>\n",
       "</pre>\n"
      ],
      "text/plain": [
       "\u001b[2;36m                   \u001b[0m\u001b[2;36m \u001b[0m\u001b[34mINFO    \u001b[0m INFO:src.pipelines:Instantiating model                                \u001b]8;id=562248;file:///workspaces/ai4healthcare/src/pipelines.py\u001b\\\u001b[2mpipelines.py\u001b[0m\u001b]8;;\u001b\\\u001b[2m:\u001b[0m\u001b]8;id=589633;file:///workspaces/ai4healthcare/src/pipelines.py#675\u001b\\\u001b[2m675\u001b[0m\u001b]8;;\u001b\\\n",
       "\u001b[2;36m                    \u001b[0m         \u001b[1m<\u001b[0m\u001b[1;95mneuralforecast.models.DLinear\u001b[0m\u001b[1m>\u001b[0m                                       \u001b[2m                \u001b[0m\n"
      ]
     },
     "metadata": {},
     "output_type": "display_data"
    },
    {
     "data": {
      "text/html": [
       "<pre style=\"white-space:pre;overflow-x:auto;line-height:normal;font-family:Menlo,'DejaVu Sans Mono',consolas,'Courier New',monospace\"><span style=\"color: #7fbfbf; text-decoration-color: #7fbfbf\">                    </span><span style=\"color: #000080; text-decoration-color: #000080\">INFO    </span> INFO:lightning_fabric.utilities.seed:Seed set to <span style=\"color: #008080; text-decoration-color: #008080; font-weight: bold\">123</span>                        <a href=\"file:///usr/local/lib/python3.10/site-packages/lightning_fabric/utilities/seed.py\" target=\"_blank\"><span style=\"color: #7f7f7f; text-decoration-color: #7f7f7f\">seed.py</span></a><span style=\"color: #7f7f7f; text-decoration-color: #7f7f7f\">:</span><a href=\"file:///usr/local/lib/python3.10/site-packages/lightning_fabric/utilities/seed.py#54\" target=\"_blank\"><span style=\"color: #7f7f7f; text-decoration-color: #7f7f7f\">54</span></a>\n",
       "</pre>\n"
      ],
      "text/plain": [
       "\u001b[2;36m                   \u001b[0m\u001b[2;36m \u001b[0m\u001b[34mINFO    \u001b[0m INFO:lightning_fabric.utilities.seed:Seed set to \u001b[1;36m123\u001b[0m                        \u001b]8;id=353597;file:///usr/local/lib/python3.10/site-packages/lightning_fabric/utilities/seed.py\u001b\\\u001b[2mseed.py\u001b[0m\u001b]8;;\u001b\\\u001b[2m:\u001b[0m\u001b]8;id=588211;file:///usr/local/lib/python3.10/site-packages/lightning_fabric/utilities/seed.py#54\u001b\\\u001b[2m54\u001b[0m\u001b]8;;\u001b\\\n"
      ]
     },
     "metadata": {},
     "output_type": "display_data"
    },
    {
     "data": {
      "text/html": [
       "<pre style=\"white-space:pre;overflow-x:auto;line-height:normal;font-family:Menlo,'DejaVu Sans Mono',consolas,'Courier New',monospace\"><span style=\"color: #7fbfbf; text-decoration-color: #7fbfbf\">                    </span><span style=\"color: #000080; text-decoration-color: #000080\">INFO    </span> INFO:src.pipelines:No logger has been initialized.                    <a href=\"file:///workspaces/ai4healthcare/src/pipelines.py\" target=\"_blank\"><span style=\"color: #7f7f7f; text-decoration-color: #7f7f7f\">pipelines.py</span></a><span style=\"color: #7f7f7f; text-decoration-color: #7f7f7f\">:</span><a href=\"file:///workspaces/ai4healthcare/src/pipelines.py#696\" target=\"_blank\"><span style=\"color: #7f7f7f; text-decoration-color: #7f7f7f\">696</span></a>\n",
       "</pre>\n"
      ],
      "text/plain": [
       "\u001b[2;36m                   \u001b[0m\u001b[2;36m \u001b[0m\u001b[34mINFO    \u001b[0m INFO:src.pipelines:No logger has been initialized.                    \u001b]8;id=279501;file:///workspaces/ai4healthcare/src/pipelines.py\u001b\\\u001b[2mpipelines.py\u001b[0m\u001b]8;;\u001b\\\u001b[2m:\u001b[0m\u001b]8;id=112931;file:///workspaces/ai4healthcare/src/pipelines.py#696\u001b\\\u001b[2m696\u001b[0m\u001b]8;;\u001b\\\n"
      ]
     },
     "metadata": {},
     "output_type": "display_data"
    }
   ],
   "source": [
    "from src import pipelines\n",
    "\n",
    "datamodule, _, _ = pipelines.resolve_config(cfg)"
   ]
  },
  {
   "cell_type": "markdown",
   "metadata": {},
   "source": [
    "##### run LTSF pipeline\n",
    "get dataset from datamodule. \n",
    "\n",
    "this reads the various KISPP excel files and does all the preprocessing (take a look into `src.data.uka.kispp.staff_data` if you're interested) and finally aggregates them in the given frequency, in the way our time series forecasting expects it, with 1 identifier column `unique_id` and one numerical column `y`."
   ]
  },
  {
   "cell_type": "code",
   "execution_count": 6,
   "metadata": {},
   "outputs": [
    {
     "data": {
      "text/html": [
       "<pre style=\"white-space:pre;overflow-x:auto;line-height:normal;font-family:Menlo,'DejaVu Sans Mono',consolas,'Courier New',monospace\"><span style=\"color: #7fbfbf; text-decoration-color: #7fbfbf\">[04/24/24 09:11:35] </span><span style=\"color: #000080; text-decoration-color: #000080\">INFO    </span> INFO:root:trying to load or build `staff_matrix_*` dataframe              <a href=\"file:///workspaces/ai4healthcare/src/data/utils.py\" target=\"_blank\"><span style=\"color: #7f7f7f; text-decoration-color: #7f7f7f\">utils.py</span></a><span style=\"color: #7f7f7f; text-decoration-color: #7f7f7f\">:</span><a href=\"file:///workspaces/ai4healthcare/src/data/utils.py#200\" target=\"_blank\"><span style=\"color: #7f7f7f; text-decoration-color: #7f7f7f\">200</span></a>\n",
       "</pre>\n"
      ],
      "text/plain": [
       "\u001b[2;36m[04/24/24 09:11:35]\u001b[0m\u001b[2;36m \u001b[0m\u001b[34mINFO    \u001b[0m INFO:root:trying to load or build `staff_matrix_*` dataframe              \u001b]8;id=589633;file:///workspaces/ai4healthcare/src/data/utils.py\u001b\\\u001b[2mutils.py\u001b[0m\u001b]8;;\u001b\\\u001b[2m:\u001b[0m\u001b]8;id=348334;file:///workspaces/ai4healthcare/src/data/utils.py#200\u001b\\\u001b[2m200\u001b[0m\u001b]8;;\u001b\\\n"
      ]
     },
     "metadata": {},
     "output_type": "display_data"
    },
    {
     "data": {
      "text/html": [
       "<pre style=\"white-space:pre;overflow-x:auto;line-height:normal;font-family:Menlo,'DejaVu Sans Mono',consolas,'Courier New',monospace\"><span style=\"color: #7fbfbf; text-decoration-color: #7fbfbf\">                    </span><span style=\"color: #000080; text-decoration-color: #000080\">INFO    </span> INFO:root:Load Dataframe staff_matrix_*                                   <a href=\"file:///workspaces/ai4healthcare/src/data/utils.py\" target=\"_blank\"><span style=\"color: #7f7f7f; text-decoration-color: #7f7f7f\">utils.py</span></a><span style=\"color: #7f7f7f; text-decoration-color: #7f7f7f\">:</span><a href=\"file:///workspaces/ai4healthcare/src/data/utils.py#264\" target=\"_blank\"><span style=\"color: #7f7f7f; text-decoration-color: #7f7f7f\">264</span></a>\n",
       "</pre>\n"
      ],
      "text/plain": [
       "\u001b[2;36m                   \u001b[0m\u001b[2;36m \u001b[0m\u001b[34mINFO    \u001b[0m INFO:root:Load Dataframe staff_matrix_*                                   \u001b]8;id=353597;file:///workspaces/ai4healthcare/src/data/utils.py\u001b\\\u001b[2mutils.py\u001b[0m\u001b]8;;\u001b\\\u001b[2m:\u001b[0m\u001b]8;id=588211;file:///workspaces/ai4healthcare/src/data/utils.py#264\u001b\\\u001b[2m264\u001b[0m\u001b]8;;\u001b\\\n"
      ]
     },
     "metadata": {},
     "output_type": "display_data"
    },
    {
     "data": {
      "text/html": [
       "<pre style=\"white-space:pre;overflow-x:auto;line-height:normal;font-family:Menlo,'DejaVu Sans Mono',consolas,'Courier New',monospace\"><span style=\"color: #7fbfbf; text-decoration-color: #7fbfbf\">                    </span><span style=\"color: #000080; text-decoration-color: #000080\">INFO    </span> INFO:root:dataframe not found -&gt; rebuilding                               <a href=\"file:///workspaces/ai4healthcare/src/data/utils.py\" target=\"_blank\"><span style=\"color: #7f7f7f; text-decoration-color: #7f7f7f\">utils.py</span></a><span style=\"color: #7f7f7f; text-decoration-color: #7f7f7f\">:</span><a href=\"file:///workspaces/ai4healthcare/src/data/utils.py#208\" target=\"_blank\"><span style=\"color: #7f7f7f; text-decoration-color: #7f7f7f\">208</span></a>\n",
       "</pre>\n"
      ],
      "text/plain": [
       "\u001b[2;36m                   \u001b[0m\u001b[2;36m \u001b[0m\u001b[34mINFO    \u001b[0m INFO:root:dataframe not found -> rebuilding                               \u001b]8;id=949910;file:///workspaces/ai4healthcare/src/data/utils.py\u001b\\\u001b[2mutils.py\u001b[0m\u001b]8;;\u001b\\\u001b[2m:\u001b[0m\u001b]8;id=457468;file:///workspaces/ai4healthcare/src/data/utils.py#208\u001b\\\u001b[2m208\u001b[0m\u001b]8;;\u001b\\\n"
      ]
     },
     "metadata": {},
     "output_type": "display_data"
    },
    {
     "name": "stdout",
     "output_type": "stream",
     "text": [
      "found staff file: /workspaces/ai4healthcare/data/external/kispp/uka_staff_matrix_231121.xlsx\n",
      "found header file to read dkeys: /workspaces/ai4healthcare/data/external/kispp/uka_personnel_indexed.xlsx\n",
      "found shift abbrv. file: /workspaces/ai4healthcare/data/external/kispp/list_of_abbreviations_231116.xlsx\n",
      "Reading sheet 8.5 1. HJ 23\n",
      "Reading sheet 8.5 2 HJ 22\n",
      "Reading sheet 8.5 1. HJ 22\n",
      "Reading sheet 8.8 1 HJ 23\n",
      "Reading sheet 8.8 2 HJ 22\n",
      "Reading sheet 8.8 1 HJ 22\n",
      "Reading sheet 9.7  1. HJ 23\n",
      "Reading sheet 9.7 2. HJ 22\n",
      "Reading sheet 9.7 1. HJ 22\n",
      "Reading sheet 10.3 1 HJ 23\n",
      "Reading sheet 10.3 2 HJ 22\n",
      "Reading sheet 10.3 1 HJ 22\n",
      "Reading sheet 11.0 2023\n",
      "Reading sheet 11.0 2022\n",
      "Reading sheet 11.4 1. HJ 22\n",
      "Reading sheet 11.4 1. HJ 23\n",
      "Reading sheet 11.4 2. HJ 22\n"
     ]
    },
    {
     "name": "stderr",
     "output_type": "stream",
     "text": [
      "processing sheet 8.5 1. HJ 23:   0%|          | 0/17 [00:00<?, ?it/s]"
     ]
    },
    {
     "data": {
      "text/html": [
       "<pre style=\"white-space:pre;overflow-x:auto;line-height:normal;font-family:Menlo,'DejaVu Sans Mono',consolas,'Courier New',monospace\"><span style=\"color: #7fbfbf; text-decoration-color: #7fbfbf\">[04/24/24 09:11:54] </span><span style=\"color: #000080; text-decoration-color: #000080\">INFO    </span> INFO:src.data.uka.kispp.staff_data:processing multiline rows         <a href=\"file:///workspaces/ai4healthcare/src/data/uka/kispp/staff_data.py\" target=\"_blank\"><span style=\"color: #7f7f7f; text-decoration-color: #7f7f7f\">staff_data.py</span></a><span style=\"color: #7f7f7f; text-decoration-color: #7f7f7f\">:</span><a href=\"file:///workspaces/ai4healthcare/src/data/uka/kispp/staff_data.py#815\" target=\"_blank\"><span style=\"color: #7f7f7f; text-decoration-color: #7f7f7f\">815</span></a>\n",
       "</pre>\n"
      ],
      "text/plain": [
       "\u001b[2;36m[04/24/24 09:11:54]\u001b[0m\u001b[2;36m \u001b[0m\u001b[34mINFO    \u001b[0m INFO:src.data.uka.kispp.staff_data:processing multiline rows         \u001b]8;id=6915;file:///workspaces/ai4healthcare/src/data/uka/kispp/staff_data.py\u001b\\\u001b[2mstaff_data.py\u001b[0m\u001b]8;;\u001b\\\u001b[2m:\u001b[0m\u001b]8;id=330782;file:///workspaces/ai4healthcare/src/data/uka/kispp/staff_data.py#815\u001b\\\u001b[2m815\u001b[0m\u001b]8;;\u001b\\\n"
      ]
     },
     "metadata": {},
     "output_type": "display_data"
    },
    {
     "data": {
      "text/html": [
       "<pre style=\"white-space:pre;overflow-x:auto;line-height:normal;font-family:Menlo,'DejaVu Sans Mono',consolas,'Courier New',monospace\"><span style=\"color: #7fbfbf; text-decoration-color: #7fbfbf\">                    </span><span style=\"color: #000080; text-decoration-color: #000080\">INFO    </span> INFO:src.data.uka.kispp.staff_data:re-pivoting dataframes            <a href=\"file:///workspaces/ai4healthcare/src/data/uka/kispp/staff_data.py\" target=\"_blank\"><span style=\"color: #7f7f7f; text-decoration-color: #7f7f7f\">staff_data.py</span></a><span style=\"color: #7f7f7f; text-decoration-color: #7f7f7f\">:</span><a href=\"file:///workspaces/ai4healthcare/src/data/uka/kispp/staff_data.py#839\" target=\"_blank\"><span style=\"color: #7f7f7f; text-decoration-color: #7f7f7f\">839</span></a>\n",
       "</pre>\n"
      ],
      "text/plain": [
       "\u001b[2;36m                   \u001b[0m\u001b[2;36m \u001b[0m\u001b[34mINFO    \u001b[0m INFO:src.data.uka.kispp.staff_data:re-pivoting dataframes            \u001b]8;id=97270;file:///workspaces/ai4healthcare/src/data/uka/kispp/staff_data.py\u001b\\\u001b[2mstaff_data.py\u001b[0m\u001b]8;;\u001b\\\u001b[2m:\u001b[0m\u001b]8;id=699545;file:///workspaces/ai4healthcare/src/data/uka/kispp/staff_data.py#839\u001b\\\u001b[2m839\u001b[0m\u001b]8;;\u001b\\\n"
      ]
     },
     "metadata": {},
     "output_type": "display_data"
    },
    {
     "data": {
      "text/html": [
       "<pre style=\"white-space:pre;overflow-x:auto;line-height:normal;font-family:Menlo,'DejaVu Sans Mono',consolas,'Courier New',monospace\"><span style=\"color: #7fbfbf; text-decoration-color: #7fbfbf\">[04/24/24 09:11:55] </span><span style=\"color: #000080; text-decoration-color: #000080\">INFO    </span> INFO:src.data.uka.kispp.staff_data:processing footer <span style=\"font-weight: bold\">(</span>patient/staff  <a href=\"file:///workspaces/ai4healthcare/src/data/uka/kispp/staff_data.py\" target=\"_blank\"><span style=\"color: #7f7f7f; text-decoration-color: #7f7f7f\">staff_data.py</span></a><span style=\"color: #7f7f7f; text-decoration-color: #7f7f7f\">:</span><a href=\"file:///workspaces/ai4healthcare/src/data/uka/kispp/staff_data.py#844\" target=\"_blank\"><span style=\"color: #7f7f7f; text-decoration-color: #7f7f7f\">844</span></a>\n",
       "<span style=\"color: #7fbfbf; text-decoration-color: #7fbfbf\">                    </span>         aggregations<span style=\"font-weight: bold\">)</span>                                                        <span style=\"color: #7f7f7f; text-decoration-color: #7f7f7f\">                 </span>\n",
       "</pre>\n"
      ],
      "text/plain": [
       "\u001b[2;36m[04/24/24 09:11:55]\u001b[0m\u001b[2;36m \u001b[0m\u001b[34mINFO    \u001b[0m INFO:src.data.uka.kispp.staff_data:processing footer \u001b[1m(\u001b[0mpatient/staff  \u001b]8;id=305976;file:///workspaces/ai4healthcare/src/data/uka/kispp/staff_data.py\u001b\\\u001b[2mstaff_data.py\u001b[0m\u001b]8;;\u001b\\\u001b[2m:\u001b[0m\u001b]8;id=955410;file:///workspaces/ai4healthcare/src/data/uka/kispp/staff_data.py#844\u001b\\\u001b[2m844\u001b[0m\u001b]8;;\u001b\\\n",
       "\u001b[2;36m                    \u001b[0m         aggregations\u001b[1m)\u001b[0m                                                        \u001b[2m                 \u001b[0m\n"
      ]
     },
     "metadata": {},
     "output_type": "display_data"
    },
    {
     "data": {
      "text/html": [
       "<pre style=\"white-space:pre;overflow-x:auto;line-height:normal;font-family:Menlo,'DejaVu Sans Mono',consolas,'Courier New',monospace\"><span style=\"color: #7fbfbf; text-decoration-color: #7fbfbf\">                    </span><span style=\"color: #000080; text-decoration-color: #000080\">INFO    </span> INFO:src.data.uka.kispp.staff_data:merging shift details             <a href=\"file:///workspaces/ai4healthcare/src/data/uka/kispp/staff_data.py\" target=\"_blank\"><span style=\"color: #7f7f7f; text-decoration-color: #7f7f7f\">staff_data.py</span></a><span style=\"color: #7f7f7f; text-decoration-color: #7f7f7f\">:</span><a href=\"file:///workspaces/ai4healthcare/src/data/uka/kispp/staff_data.py#850\" target=\"_blank\"><span style=\"color: #7f7f7f; text-decoration-color: #7f7f7f\">850</span></a>\n",
       "</pre>\n"
      ],
      "text/plain": [
       "\u001b[2;36m                   \u001b[0m\u001b[2;36m \u001b[0m\u001b[34mINFO    \u001b[0m INFO:src.data.uka.kispp.staff_data:merging shift details             \u001b]8;id=878536;file:///workspaces/ai4healthcare/src/data/uka/kispp/staff_data.py\u001b\\\u001b[2mstaff_data.py\u001b[0m\u001b]8;;\u001b\\\u001b[2m:\u001b[0m\u001b]8;id=38528;file:///workspaces/ai4healthcare/src/data/uka/kispp/staff_data.py#850\u001b\\\u001b[2m850\u001b[0m\u001b]8;;\u001b\\\n"
      ]
     },
     "metadata": {},
     "output_type": "display_data"
    },
    {
     "name": "stderr",
     "output_type": "stream",
     "text": [
      "processing sheet 8.5 2 HJ 22:   6%|▌         | 1/17 [00:00<00:08,  1.79it/s] "
     ]
    },
    {
     "data": {
      "text/html": [
       "<pre style=\"white-space:pre;overflow-x:auto;line-height:normal;font-family:Menlo,'DejaVu Sans Mono',consolas,'Courier New',monospace\"><span style=\"color: #7fbfbf; text-decoration-color: #7fbfbf\">                    </span><span style=\"color: #000080; text-decoration-color: #000080\">INFO    </span> INFO:src.data.uka.kispp.staff_data:processing multiline rows         <a href=\"file:///workspaces/ai4healthcare/src/data/uka/kispp/staff_data.py\" target=\"_blank\"><span style=\"color: #7f7f7f; text-decoration-color: #7f7f7f\">staff_data.py</span></a><span style=\"color: #7f7f7f; text-decoration-color: #7f7f7f\">:</span><a href=\"file:///workspaces/ai4healthcare/src/data/uka/kispp/staff_data.py#815\" target=\"_blank\"><span style=\"color: #7f7f7f; text-decoration-color: #7f7f7f\">815</span></a>\n",
       "</pre>\n"
      ],
      "text/plain": [
       "\u001b[2;36m                   \u001b[0m\u001b[2;36m \u001b[0m\u001b[34mINFO    \u001b[0m INFO:src.data.uka.kispp.staff_data:processing multiline rows         \u001b]8;id=840430;file:///workspaces/ai4healthcare/src/data/uka/kispp/staff_data.py\u001b\\\u001b[2mstaff_data.py\u001b[0m\u001b]8;;\u001b\\\u001b[2m:\u001b[0m\u001b]8;id=506421;file:///workspaces/ai4healthcare/src/data/uka/kispp/staff_data.py#815\u001b\\\u001b[2m815\u001b[0m\u001b]8;;\u001b\\\n"
      ]
     },
     "metadata": {},
     "output_type": "display_data"
    },
    {
     "data": {
      "text/html": [
       "<pre style=\"white-space:pre;overflow-x:auto;line-height:normal;font-family:Menlo,'DejaVu Sans Mono',consolas,'Courier New',monospace\"><span style=\"color: #7fbfbf; text-decoration-color: #7fbfbf\">                    </span><span style=\"color: #000080; text-decoration-color: #000080\">INFO    </span> INFO:src.data.uka.kispp.staff_data:re-pivoting dataframes            <a href=\"file:///workspaces/ai4healthcare/src/data/uka/kispp/staff_data.py\" target=\"_blank\"><span style=\"color: #7f7f7f; text-decoration-color: #7f7f7f\">staff_data.py</span></a><span style=\"color: #7f7f7f; text-decoration-color: #7f7f7f\">:</span><a href=\"file:///workspaces/ai4healthcare/src/data/uka/kispp/staff_data.py#839\" target=\"_blank\"><span style=\"color: #7f7f7f; text-decoration-color: #7f7f7f\">839</span></a>\n",
       "</pre>\n"
      ],
      "text/plain": [
       "\u001b[2;36m                   \u001b[0m\u001b[2;36m \u001b[0m\u001b[34mINFO    \u001b[0m INFO:src.data.uka.kispp.staff_data:re-pivoting dataframes            \u001b]8;id=552678;file:///workspaces/ai4healthcare/src/data/uka/kispp/staff_data.py\u001b\\\u001b[2mstaff_data.py\u001b[0m\u001b]8;;\u001b\\\u001b[2m:\u001b[0m\u001b]8;id=592250;file:///workspaces/ai4healthcare/src/data/uka/kispp/staff_data.py#839\u001b\\\u001b[2m839\u001b[0m\u001b]8;;\u001b\\\n"
      ]
     },
     "metadata": {},
     "output_type": "display_data"
    },
    {
     "data": {
      "text/html": [
       "<pre style=\"white-space:pre;overflow-x:auto;line-height:normal;font-family:Menlo,'DejaVu Sans Mono',consolas,'Courier New',monospace\"><span style=\"color: #7fbfbf; text-decoration-color: #7fbfbf\">                    </span><span style=\"color: #000080; text-decoration-color: #000080\">INFO    </span> INFO:src.data.uka.kispp.staff_data:processing footer <span style=\"font-weight: bold\">(</span>patient/staff  <a href=\"file:///workspaces/ai4healthcare/src/data/uka/kispp/staff_data.py\" target=\"_blank\"><span style=\"color: #7f7f7f; text-decoration-color: #7f7f7f\">staff_data.py</span></a><span style=\"color: #7f7f7f; text-decoration-color: #7f7f7f\">:</span><a href=\"file:///workspaces/ai4healthcare/src/data/uka/kispp/staff_data.py#844\" target=\"_blank\"><span style=\"color: #7f7f7f; text-decoration-color: #7f7f7f\">844</span></a>\n",
       "<span style=\"color: #7fbfbf; text-decoration-color: #7fbfbf\">                    </span>         aggregations<span style=\"font-weight: bold\">)</span>                                                        <span style=\"color: #7f7f7f; text-decoration-color: #7f7f7f\">                 </span>\n",
       "</pre>\n"
      ],
      "text/plain": [
       "\u001b[2;36m                   \u001b[0m\u001b[2;36m \u001b[0m\u001b[34mINFO    \u001b[0m INFO:src.data.uka.kispp.staff_data:processing footer \u001b[1m(\u001b[0mpatient/staff  \u001b]8;id=936316;file:///workspaces/ai4healthcare/src/data/uka/kispp/staff_data.py\u001b\\\u001b[2mstaff_data.py\u001b[0m\u001b]8;;\u001b\\\u001b[2m:\u001b[0m\u001b]8;id=806647;file:///workspaces/ai4healthcare/src/data/uka/kispp/staff_data.py#844\u001b\\\u001b[2m844\u001b[0m\u001b]8;;\u001b\\\n",
       "\u001b[2;36m                    \u001b[0m         aggregations\u001b[1m)\u001b[0m                                                        \u001b[2m                 \u001b[0m\n"
      ]
     },
     "metadata": {},
     "output_type": "display_data"
    },
    {
     "data": {
      "text/html": [
       "<pre style=\"white-space:pre;overflow-x:auto;line-height:normal;font-family:Menlo,'DejaVu Sans Mono',consolas,'Courier New',monospace\"><span style=\"color: #7fbfbf; text-decoration-color: #7fbfbf\">                    </span><span style=\"color: #000080; text-decoration-color: #000080\">INFO    </span> INFO:src.data.uka.kispp.staff_data:merging shift details             <a href=\"file:///workspaces/ai4healthcare/src/data/uka/kispp/staff_data.py\" target=\"_blank\"><span style=\"color: #7f7f7f; text-decoration-color: #7f7f7f\">staff_data.py</span></a><span style=\"color: #7f7f7f; text-decoration-color: #7f7f7f\">:</span><a href=\"file:///workspaces/ai4healthcare/src/data/uka/kispp/staff_data.py#850\" target=\"_blank\"><span style=\"color: #7f7f7f; text-decoration-color: #7f7f7f\">850</span></a>\n",
       "</pre>\n"
      ],
      "text/plain": [
       "\u001b[2;36m                   \u001b[0m\u001b[2;36m \u001b[0m\u001b[34mINFO    \u001b[0m INFO:src.data.uka.kispp.staff_data:merging shift details             \u001b]8;id=564678;file:///workspaces/ai4healthcare/src/data/uka/kispp/staff_data.py\u001b\\\u001b[2mstaff_data.py\u001b[0m\u001b]8;;\u001b\\\u001b[2m:\u001b[0m\u001b]8;id=669361;file:///workspaces/ai4healthcare/src/data/uka/kispp/staff_data.py#850\u001b\\\u001b[2m850\u001b[0m\u001b]8;;\u001b\\\n"
      ]
     },
     "metadata": {},
     "output_type": "display_data"
    },
    {
     "name": "stderr",
     "output_type": "stream",
     "text": [
      "processing sheet 8.5 1. HJ 22:  12%|█▏        | 2/17 [00:01<00:08,  1.83it/s]"
     ]
    },
    {
     "data": {
      "text/html": [
       "<pre style=\"white-space:pre;overflow-x:auto;line-height:normal;font-family:Menlo,'DejaVu Sans Mono',consolas,'Courier New',monospace\"><span style=\"color: #7fbfbf; text-decoration-color: #7fbfbf\">                    </span><span style=\"color: #000080; text-decoration-color: #000080\">INFO    </span> INFO:src.data.uka.kispp.staff_data:processing multiline rows         <a href=\"file:///workspaces/ai4healthcare/src/data/uka/kispp/staff_data.py\" target=\"_blank\"><span style=\"color: #7f7f7f; text-decoration-color: #7f7f7f\">staff_data.py</span></a><span style=\"color: #7f7f7f; text-decoration-color: #7f7f7f\">:</span><a href=\"file:///workspaces/ai4healthcare/src/data/uka/kispp/staff_data.py#815\" target=\"_blank\"><span style=\"color: #7f7f7f; text-decoration-color: #7f7f7f\">815</span></a>\n",
       "</pre>\n"
      ],
      "text/plain": [
       "\u001b[2;36m                   \u001b[0m\u001b[2;36m \u001b[0m\u001b[34mINFO    \u001b[0m INFO:src.data.uka.kispp.staff_data:processing multiline rows         \u001b]8;id=873999;file:///workspaces/ai4healthcare/src/data/uka/kispp/staff_data.py\u001b\\\u001b[2mstaff_data.py\u001b[0m\u001b]8;;\u001b\\\u001b[2m:\u001b[0m\u001b]8;id=509751;file:///workspaces/ai4healthcare/src/data/uka/kispp/staff_data.py#815\u001b\\\u001b[2m815\u001b[0m\u001b]8;;\u001b\\\n"
      ]
     },
     "metadata": {},
     "output_type": "display_data"
    },
    {
     "data": {
      "text/html": [
       "<pre style=\"white-space:pre;overflow-x:auto;line-height:normal;font-family:Menlo,'DejaVu Sans Mono',consolas,'Courier New',monospace\"><span style=\"color: #7fbfbf; text-decoration-color: #7fbfbf\">                    </span><span style=\"color: #000080; text-decoration-color: #000080\">INFO    </span> INFO:src.data.uka.kispp.staff_data:re-pivoting dataframes            <a href=\"file:///workspaces/ai4healthcare/src/data/uka/kispp/staff_data.py\" target=\"_blank\"><span style=\"color: #7f7f7f; text-decoration-color: #7f7f7f\">staff_data.py</span></a><span style=\"color: #7f7f7f; text-decoration-color: #7f7f7f\">:</span><a href=\"file:///workspaces/ai4healthcare/src/data/uka/kispp/staff_data.py#839\" target=\"_blank\"><span style=\"color: #7f7f7f; text-decoration-color: #7f7f7f\">839</span></a>\n",
       "</pre>\n"
      ],
      "text/plain": [
       "\u001b[2;36m                   \u001b[0m\u001b[2;36m \u001b[0m\u001b[34mINFO    \u001b[0m INFO:src.data.uka.kispp.staff_data:re-pivoting dataframes            \u001b]8;id=534843;file:///workspaces/ai4healthcare/src/data/uka/kispp/staff_data.py\u001b\\\u001b[2mstaff_data.py\u001b[0m\u001b]8;;\u001b\\\u001b[2m:\u001b[0m\u001b]8;id=33388;file:///workspaces/ai4healthcare/src/data/uka/kispp/staff_data.py#839\u001b\\\u001b[2m839\u001b[0m\u001b]8;;\u001b\\\n"
      ]
     },
     "metadata": {},
     "output_type": "display_data"
    },
    {
     "data": {
      "text/html": [
       "<pre style=\"white-space:pre;overflow-x:auto;line-height:normal;font-family:Menlo,'DejaVu Sans Mono',consolas,'Courier New',monospace\"><span style=\"color: #7fbfbf; text-decoration-color: #7fbfbf\">[04/24/24 09:11:56] </span><span style=\"color: #000080; text-decoration-color: #000080\">INFO    </span> INFO:src.data.uka.kispp.staff_data:processing footer <span style=\"font-weight: bold\">(</span>patient/staff  <a href=\"file:///workspaces/ai4healthcare/src/data/uka/kispp/staff_data.py\" target=\"_blank\"><span style=\"color: #7f7f7f; text-decoration-color: #7f7f7f\">staff_data.py</span></a><span style=\"color: #7f7f7f; text-decoration-color: #7f7f7f\">:</span><a href=\"file:///workspaces/ai4healthcare/src/data/uka/kispp/staff_data.py#844\" target=\"_blank\"><span style=\"color: #7f7f7f; text-decoration-color: #7f7f7f\">844</span></a>\n",
       "<span style=\"color: #7fbfbf; text-decoration-color: #7fbfbf\">                    </span>         aggregations<span style=\"font-weight: bold\">)</span>                                                        <span style=\"color: #7f7f7f; text-decoration-color: #7f7f7f\">                 </span>\n",
       "</pre>\n"
      ],
      "text/plain": [
       "\u001b[2;36m[04/24/24 09:11:56]\u001b[0m\u001b[2;36m \u001b[0m\u001b[34mINFO    \u001b[0m INFO:src.data.uka.kispp.staff_data:processing footer \u001b[1m(\u001b[0mpatient/staff  \u001b]8;id=761085;file:///workspaces/ai4healthcare/src/data/uka/kispp/staff_data.py\u001b\\\u001b[2mstaff_data.py\u001b[0m\u001b]8;;\u001b\\\u001b[2m:\u001b[0m\u001b]8;id=860031;file:///workspaces/ai4healthcare/src/data/uka/kispp/staff_data.py#844\u001b\\\u001b[2m844\u001b[0m\u001b]8;;\u001b\\\n",
       "\u001b[2;36m                    \u001b[0m         aggregations\u001b[1m)\u001b[0m                                                        \u001b[2m                 \u001b[0m\n"
      ]
     },
     "metadata": {},
     "output_type": "display_data"
    },
    {
     "data": {
      "text/html": [
       "<pre style=\"white-space:pre;overflow-x:auto;line-height:normal;font-family:Menlo,'DejaVu Sans Mono',consolas,'Courier New',monospace\"><span style=\"color: #7fbfbf; text-decoration-color: #7fbfbf\">                    </span><span style=\"color: #000080; text-decoration-color: #000080\">INFO    </span> INFO:src.data.uka.kispp.staff_data:merging shift details             <a href=\"file:///workspaces/ai4healthcare/src/data/uka/kispp/staff_data.py\" target=\"_blank\"><span style=\"color: #7f7f7f; text-decoration-color: #7f7f7f\">staff_data.py</span></a><span style=\"color: #7f7f7f; text-decoration-color: #7f7f7f\">:</span><a href=\"file:///workspaces/ai4healthcare/src/data/uka/kispp/staff_data.py#850\" target=\"_blank\"><span style=\"color: #7f7f7f; text-decoration-color: #7f7f7f\">850</span></a>\n",
       "</pre>\n"
      ],
      "text/plain": [
       "\u001b[2;36m                   \u001b[0m\u001b[2;36m \u001b[0m\u001b[34mINFO    \u001b[0m INFO:src.data.uka.kispp.staff_data:merging shift details             \u001b]8;id=274608;file:///workspaces/ai4healthcare/src/data/uka/kispp/staff_data.py\u001b\\\u001b[2mstaff_data.py\u001b[0m\u001b]8;;\u001b\\\u001b[2m:\u001b[0m\u001b]8;id=178390;file:///workspaces/ai4healthcare/src/data/uka/kispp/staff_data.py#850\u001b\\\u001b[2m850\u001b[0m\u001b]8;;\u001b\\\n"
      ]
     },
     "metadata": {},
     "output_type": "display_data"
    },
    {
     "name": "stderr",
     "output_type": "stream",
     "text": [
      "processing sheet 8.8 1 HJ 23:  18%|█▊        | 3/17 [00:01<00:07,  1.87it/s] "
     ]
    },
    {
     "data": {
      "text/html": [
       "<pre style=\"white-space:pre;overflow-x:auto;line-height:normal;font-family:Menlo,'DejaVu Sans Mono',consolas,'Courier New',monospace\"><span style=\"color: #7fbfbf; text-decoration-color: #7fbfbf\">                    </span><span style=\"color: #000080; text-decoration-color: #000080\">INFO    </span> INFO:src.data.uka.kispp.staff_data:processing multiline rows         <a href=\"file:///workspaces/ai4healthcare/src/data/uka/kispp/staff_data.py\" target=\"_blank\"><span style=\"color: #7f7f7f; text-decoration-color: #7f7f7f\">staff_data.py</span></a><span style=\"color: #7f7f7f; text-decoration-color: #7f7f7f\">:</span><a href=\"file:///workspaces/ai4healthcare/src/data/uka/kispp/staff_data.py#815\" target=\"_blank\"><span style=\"color: #7f7f7f; text-decoration-color: #7f7f7f\">815</span></a>\n",
       "</pre>\n"
      ],
      "text/plain": [
       "\u001b[2;36m                   \u001b[0m\u001b[2;36m \u001b[0m\u001b[34mINFO    \u001b[0m INFO:src.data.uka.kispp.staff_data:processing multiline rows         \u001b]8;id=926853;file:///workspaces/ai4healthcare/src/data/uka/kispp/staff_data.py\u001b\\\u001b[2mstaff_data.py\u001b[0m\u001b]8;;\u001b\\\u001b[2m:\u001b[0m\u001b]8;id=76850;file:///workspaces/ai4healthcare/src/data/uka/kispp/staff_data.py#815\u001b\\\u001b[2m815\u001b[0m\u001b]8;;\u001b\\\n"
      ]
     },
     "metadata": {},
     "output_type": "display_data"
    },
    {
     "data": {
      "text/html": [
       "<pre style=\"white-space:pre;overflow-x:auto;line-height:normal;font-family:Menlo,'DejaVu Sans Mono',consolas,'Courier New',monospace\"><span style=\"color: #7fbfbf; text-decoration-color: #7fbfbf\">                    </span><span style=\"color: #000080; text-decoration-color: #000080\">INFO    </span> INFO:src.data.uka.kispp.staff_data:re-pivoting dataframes            <a href=\"file:///workspaces/ai4healthcare/src/data/uka/kispp/staff_data.py\" target=\"_blank\"><span style=\"color: #7f7f7f; text-decoration-color: #7f7f7f\">staff_data.py</span></a><span style=\"color: #7f7f7f; text-decoration-color: #7f7f7f\">:</span><a href=\"file:///workspaces/ai4healthcare/src/data/uka/kispp/staff_data.py#839\" target=\"_blank\"><span style=\"color: #7f7f7f; text-decoration-color: #7f7f7f\">839</span></a>\n",
       "</pre>\n"
      ],
      "text/plain": [
       "\u001b[2;36m                   \u001b[0m\u001b[2;36m \u001b[0m\u001b[34mINFO    \u001b[0m INFO:src.data.uka.kispp.staff_data:re-pivoting dataframes            \u001b]8;id=816566;file:///workspaces/ai4healthcare/src/data/uka/kispp/staff_data.py\u001b\\\u001b[2mstaff_data.py\u001b[0m\u001b]8;;\u001b\\\u001b[2m:\u001b[0m\u001b]8;id=352432;file:///workspaces/ai4healthcare/src/data/uka/kispp/staff_data.py#839\u001b\\\u001b[2m839\u001b[0m\u001b]8;;\u001b\\\n"
      ]
     },
     "metadata": {},
     "output_type": "display_data"
    },
    {
     "data": {
      "text/html": [
       "<pre style=\"white-space:pre;overflow-x:auto;line-height:normal;font-family:Menlo,'DejaVu Sans Mono',consolas,'Courier New',monospace\"><span style=\"color: #7fbfbf; text-decoration-color: #7fbfbf\">                    </span><span style=\"color: #000080; text-decoration-color: #000080\">INFO    </span> INFO:src.data.uka.kispp.staff_data:processing footer <span style=\"font-weight: bold\">(</span>patient/staff  <a href=\"file:///workspaces/ai4healthcare/src/data/uka/kispp/staff_data.py\" target=\"_blank\"><span style=\"color: #7f7f7f; text-decoration-color: #7f7f7f\">staff_data.py</span></a><span style=\"color: #7f7f7f; text-decoration-color: #7f7f7f\">:</span><a href=\"file:///workspaces/ai4healthcare/src/data/uka/kispp/staff_data.py#844\" target=\"_blank\"><span style=\"color: #7f7f7f; text-decoration-color: #7f7f7f\">844</span></a>\n",
       "<span style=\"color: #7fbfbf; text-decoration-color: #7fbfbf\">                    </span>         aggregations<span style=\"font-weight: bold\">)</span>                                                        <span style=\"color: #7f7f7f; text-decoration-color: #7f7f7f\">                 </span>\n",
       "</pre>\n"
      ],
      "text/plain": [
       "\u001b[2;36m                   \u001b[0m\u001b[2;36m \u001b[0m\u001b[34mINFO    \u001b[0m INFO:src.data.uka.kispp.staff_data:processing footer \u001b[1m(\u001b[0mpatient/staff  \u001b]8;id=871999;file:///workspaces/ai4healthcare/src/data/uka/kispp/staff_data.py\u001b\\\u001b[2mstaff_data.py\u001b[0m\u001b]8;;\u001b\\\u001b[2m:\u001b[0m\u001b]8;id=658838;file:///workspaces/ai4healthcare/src/data/uka/kispp/staff_data.py#844\u001b\\\u001b[2m844\u001b[0m\u001b]8;;\u001b\\\n",
       "\u001b[2;36m                    \u001b[0m         aggregations\u001b[1m)\u001b[0m                                                        \u001b[2m                 \u001b[0m\n"
      ]
     },
     "metadata": {},
     "output_type": "display_data"
    },
    {
     "data": {
      "text/html": [
       "<pre style=\"white-space:pre;overflow-x:auto;line-height:normal;font-family:Menlo,'DejaVu Sans Mono',consolas,'Courier New',monospace\"><span style=\"color: #7fbfbf; text-decoration-color: #7fbfbf\">                    </span><span style=\"color: #000080; text-decoration-color: #000080\">INFO    </span> INFO:src.data.uka.kispp.staff_data:merging shift details             <a href=\"file:///workspaces/ai4healthcare/src/data/uka/kispp/staff_data.py\" target=\"_blank\"><span style=\"color: #7f7f7f; text-decoration-color: #7f7f7f\">staff_data.py</span></a><span style=\"color: #7f7f7f; text-decoration-color: #7f7f7f\">:</span><a href=\"file:///workspaces/ai4healthcare/src/data/uka/kispp/staff_data.py#850\" target=\"_blank\"><span style=\"color: #7f7f7f; text-decoration-color: #7f7f7f\">850</span></a>\n",
       "</pre>\n"
      ],
      "text/plain": [
       "\u001b[2;36m                   \u001b[0m\u001b[2;36m \u001b[0m\u001b[34mINFO    \u001b[0m INFO:src.data.uka.kispp.staff_data:merging shift details             \u001b]8;id=240259;file:///workspaces/ai4healthcare/src/data/uka/kispp/staff_data.py\u001b\\\u001b[2mstaff_data.py\u001b[0m\u001b]8;;\u001b\\\u001b[2m:\u001b[0m\u001b]8;id=425427;file:///workspaces/ai4healthcare/src/data/uka/kispp/staff_data.py#850\u001b\\\u001b[2m850\u001b[0m\u001b]8;;\u001b\\\n"
      ]
     },
     "metadata": {},
     "output_type": "display_data"
    },
    {
     "name": "stderr",
     "output_type": "stream",
     "text": [
      "processing sheet 8.8 2 HJ 22:  24%|██▎       | 4/17 [00:02<00:06,  2.07it/s]"
     ]
    },
    {
     "data": {
      "text/html": [
       "<pre style=\"white-space:pre;overflow-x:auto;line-height:normal;font-family:Menlo,'DejaVu Sans Mono',consolas,'Courier New',monospace\"><span style=\"color: #7fbfbf; text-decoration-color: #7fbfbf\">                    </span><span style=\"color: #000080; text-decoration-color: #000080\">INFO    </span> INFO:src.data.uka.kispp.staff_data:processing multiline rows         <a href=\"file:///workspaces/ai4healthcare/src/data/uka/kispp/staff_data.py\" target=\"_blank\"><span style=\"color: #7f7f7f; text-decoration-color: #7f7f7f\">staff_data.py</span></a><span style=\"color: #7f7f7f; text-decoration-color: #7f7f7f\">:</span><a href=\"file:///workspaces/ai4healthcare/src/data/uka/kispp/staff_data.py#815\" target=\"_blank\"><span style=\"color: #7f7f7f; text-decoration-color: #7f7f7f\">815</span></a>\n",
       "</pre>\n"
      ],
      "text/plain": [
       "\u001b[2;36m                   \u001b[0m\u001b[2;36m \u001b[0m\u001b[34mINFO    \u001b[0m INFO:src.data.uka.kispp.staff_data:processing multiline rows         \u001b]8;id=953316;file:///workspaces/ai4healthcare/src/data/uka/kispp/staff_data.py\u001b\\\u001b[2mstaff_data.py\u001b[0m\u001b]8;;\u001b\\\u001b[2m:\u001b[0m\u001b]8;id=62627;file:///workspaces/ai4healthcare/src/data/uka/kispp/staff_data.py#815\u001b\\\u001b[2m815\u001b[0m\u001b]8;;\u001b\\\n"
      ]
     },
     "metadata": {},
     "output_type": "display_data"
    },
    {
     "data": {
      "text/html": [
       "<pre style=\"white-space:pre;overflow-x:auto;line-height:normal;font-family:Menlo,'DejaVu Sans Mono',consolas,'Courier New',monospace\"><span style=\"color: #7fbfbf; text-decoration-color: #7fbfbf\">                    </span><span style=\"color: #000080; text-decoration-color: #000080\">INFO    </span> INFO:src.data.uka.kispp.staff_data:re-pivoting dataframes            <a href=\"file:///workspaces/ai4healthcare/src/data/uka/kispp/staff_data.py\" target=\"_blank\"><span style=\"color: #7f7f7f; text-decoration-color: #7f7f7f\">staff_data.py</span></a><span style=\"color: #7f7f7f; text-decoration-color: #7f7f7f\">:</span><a href=\"file:///workspaces/ai4healthcare/src/data/uka/kispp/staff_data.py#839\" target=\"_blank\"><span style=\"color: #7f7f7f; text-decoration-color: #7f7f7f\">839</span></a>\n",
       "</pre>\n"
      ],
      "text/plain": [
       "\u001b[2;36m                   \u001b[0m\u001b[2;36m \u001b[0m\u001b[34mINFO    \u001b[0m INFO:src.data.uka.kispp.staff_data:re-pivoting dataframes            \u001b]8;id=660593;file:///workspaces/ai4healthcare/src/data/uka/kispp/staff_data.py\u001b\\\u001b[2mstaff_data.py\u001b[0m\u001b]8;;\u001b\\\u001b[2m:\u001b[0m\u001b]8;id=755284;file:///workspaces/ai4healthcare/src/data/uka/kispp/staff_data.py#839\u001b\\\u001b[2m839\u001b[0m\u001b]8;;\u001b\\\n"
      ]
     },
     "metadata": {},
     "output_type": "display_data"
    },
    {
     "data": {
      "text/html": [
       "<pre style=\"white-space:pre;overflow-x:auto;line-height:normal;font-family:Menlo,'DejaVu Sans Mono',consolas,'Courier New',monospace\"><span style=\"color: #7fbfbf; text-decoration-color: #7fbfbf\">[04/24/24 09:11:57] </span><span style=\"color: #000080; text-decoration-color: #000080\">INFO    </span> INFO:src.data.uka.kispp.staff_data:processing footer <span style=\"font-weight: bold\">(</span>patient/staff  <a href=\"file:///workspaces/ai4healthcare/src/data/uka/kispp/staff_data.py\" target=\"_blank\"><span style=\"color: #7f7f7f; text-decoration-color: #7f7f7f\">staff_data.py</span></a><span style=\"color: #7f7f7f; text-decoration-color: #7f7f7f\">:</span><a href=\"file:///workspaces/ai4healthcare/src/data/uka/kispp/staff_data.py#844\" target=\"_blank\"><span style=\"color: #7f7f7f; text-decoration-color: #7f7f7f\">844</span></a>\n",
       "<span style=\"color: #7fbfbf; text-decoration-color: #7fbfbf\">                    </span>         aggregations<span style=\"font-weight: bold\">)</span>                                                        <span style=\"color: #7f7f7f; text-decoration-color: #7f7f7f\">                 </span>\n",
       "</pre>\n"
      ],
      "text/plain": [
       "\u001b[2;36m[04/24/24 09:11:57]\u001b[0m\u001b[2;36m \u001b[0m\u001b[34mINFO    \u001b[0m INFO:src.data.uka.kispp.staff_data:processing footer \u001b[1m(\u001b[0mpatient/staff  \u001b]8;id=161230;file:///workspaces/ai4healthcare/src/data/uka/kispp/staff_data.py\u001b\\\u001b[2mstaff_data.py\u001b[0m\u001b]8;;\u001b\\\u001b[2m:\u001b[0m\u001b]8;id=562435;file:///workspaces/ai4healthcare/src/data/uka/kispp/staff_data.py#844\u001b\\\u001b[2m844\u001b[0m\u001b]8;;\u001b\\\n",
       "\u001b[2;36m                    \u001b[0m         aggregations\u001b[1m)\u001b[0m                                                        \u001b[2m                 \u001b[0m\n"
      ]
     },
     "metadata": {},
     "output_type": "display_data"
    },
    {
     "data": {
      "text/html": [
       "<pre style=\"white-space:pre;overflow-x:auto;line-height:normal;font-family:Menlo,'DejaVu Sans Mono',consolas,'Courier New',monospace\"><span style=\"color: #7fbfbf; text-decoration-color: #7fbfbf\">                    </span><span style=\"color: #000080; text-decoration-color: #000080\">INFO    </span> INFO:src.data.uka.kispp.staff_data:merging shift details             <a href=\"file:///workspaces/ai4healthcare/src/data/uka/kispp/staff_data.py\" target=\"_blank\"><span style=\"color: #7f7f7f; text-decoration-color: #7f7f7f\">staff_data.py</span></a><span style=\"color: #7f7f7f; text-decoration-color: #7f7f7f\">:</span><a href=\"file:///workspaces/ai4healthcare/src/data/uka/kispp/staff_data.py#850\" target=\"_blank\"><span style=\"color: #7f7f7f; text-decoration-color: #7f7f7f\">850</span></a>\n",
       "</pre>\n"
      ],
      "text/plain": [
       "\u001b[2;36m                   \u001b[0m\u001b[2;36m \u001b[0m\u001b[34mINFO    \u001b[0m INFO:src.data.uka.kispp.staff_data:merging shift details             \u001b]8;id=46273;file:///workspaces/ai4healthcare/src/data/uka/kispp/staff_data.py\u001b\\\u001b[2mstaff_data.py\u001b[0m\u001b]8;;\u001b\\\u001b[2m:\u001b[0m\u001b]8;id=10645;file:///workspaces/ai4healthcare/src/data/uka/kispp/staff_data.py#850\u001b\\\u001b[2m850\u001b[0m\u001b]8;;\u001b\\\n"
      ]
     },
     "metadata": {},
     "output_type": "display_data"
    },
    {
     "name": "stderr",
     "output_type": "stream",
     "text": [
      "processing sheet 8.8 1 HJ 22:  29%|██▉       | 5/17 [00:02<00:05,  2.05it/s]"
     ]
    },
    {
     "data": {
      "text/html": [
       "<pre style=\"white-space:pre;overflow-x:auto;line-height:normal;font-family:Menlo,'DejaVu Sans Mono',consolas,'Courier New',monospace\"><span style=\"color: #7fbfbf; text-decoration-color: #7fbfbf\">                    </span><span style=\"color: #000080; text-decoration-color: #000080\">INFO    </span> INFO:src.data.uka.kispp.staff_data:processing multiline rows         <a href=\"file:///workspaces/ai4healthcare/src/data/uka/kispp/staff_data.py\" target=\"_blank\"><span style=\"color: #7f7f7f; text-decoration-color: #7f7f7f\">staff_data.py</span></a><span style=\"color: #7f7f7f; text-decoration-color: #7f7f7f\">:</span><a href=\"file:///workspaces/ai4healthcare/src/data/uka/kispp/staff_data.py#815\" target=\"_blank\"><span style=\"color: #7f7f7f; text-decoration-color: #7f7f7f\">815</span></a>\n",
       "</pre>\n"
      ],
      "text/plain": [
       "\u001b[2;36m                   \u001b[0m\u001b[2;36m \u001b[0m\u001b[34mINFO    \u001b[0m INFO:src.data.uka.kispp.staff_data:processing multiline rows         \u001b]8;id=268815;file:///workspaces/ai4healthcare/src/data/uka/kispp/staff_data.py\u001b\\\u001b[2mstaff_data.py\u001b[0m\u001b]8;;\u001b\\\u001b[2m:\u001b[0m\u001b]8;id=837695;file:///workspaces/ai4healthcare/src/data/uka/kispp/staff_data.py#815\u001b\\\u001b[2m815\u001b[0m\u001b]8;;\u001b\\\n"
      ]
     },
     "metadata": {},
     "output_type": "display_data"
    },
    {
     "data": {
      "text/html": [
       "<pre style=\"white-space:pre;overflow-x:auto;line-height:normal;font-family:Menlo,'DejaVu Sans Mono',consolas,'Courier New',monospace\"><span style=\"color: #7fbfbf; text-decoration-color: #7fbfbf\">                    </span><span style=\"color: #000080; text-decoration-color: #000080\">INFO    </span> INFO:src.data.uka.kispp.staff_data:re-pivoting dataframes            <a href=\"file:///workspaces/ai4healthcare/src/data/uka/kispp/staff_data.py\" target=\"_blank\"><span style=\"color: #7f7f7f; text-decoration-color: #7f7f7f\">staff_data.py</span></a><span style=\"color: #7f7f7f; text-decoration-color: #7f7f7f\">:</span><a href=\"file:///workspaces/ai4healthcare/src/data/uka/kispp/staff_data.py#839\" target=\"_blank\"><span style=\"color: #7f7f7f; text-decoration-color: #7f7f7f\">839</span></a>\n",
       "</pre>\n"
      ],
      "text/plain": [
       "\u001b[2;36m                   \u001b[0m\u001b[2;36m \u001b[0m\u001b[34mINFO    \u001b[0m INFO:src.data.uka.kispp.staff_data:re-pivoting dataframes            \u001b]8;id=665078;file:///workspaces/ai4healthcare/src/data/uka/kispp/staff_data.py\u001b\\\u001b[2mstaff_data.py\u001b[0m\u001b]8;;\u001b\\\u001b[2m:\u001b[0m\u001b]8;id=440776;file:///workspaces/ai4healthcare/src/data/uka/kispp/staff_data.py#839\u001b\\\u001b[2m839\u001b[0m\u001b]8;;\u001b\\\n"
      ]
     },
     "metadata": {},
     "output_type": "display_data"
    },
    {
     "data": {
      "text/html": [
       "<pre style=\"white-space:pre;overflow-x:auto;line-height:normal;font-family:Menlo,'DejaVu Sans Mono',consolas,'Courier New',monospace\"><span style=\"color: #7fbfbf; text-decoration-color: #7fbfbf\">                    </span><span style=\"color: #000080; text-decoration-color: #000080\">INFO    </span> INFO:src.data.uka.kispp.staff_data:processing footer <span style=\"font-weight: bold\">(</span>patient/staff  <a href=\"file:///workspaces/ai4healthcare/src/data/uka/kispp/staff_data.py\" target=\"_blank\"><span style=\"color: #7f7f7f; text-decoration-color: #7f7f7f\">staff_data.py</span></a><span style=\"color: #7f7f7f; text-decoration-color: #7f7f7f\">:</span><a href=\"file:///workspaces/ai4healthcare/src/data/uka/kispp/staff_data.py#844\" target=\"_blank\"><span style=\"color: #7f7f7f; text-decoration-color: #7f7f7f\">844</span></a>\n",
       "<span style=\"color: #7fbfbf; text-decoration-color: #7fbfbf\">                    </span>         aggregations<span style=\"font-weight: bold\">)</span>                                                        <span style=\"color: #7f7f7f; text-decoration-color: #7f7f7f\">                 </span>\n",
       "</pre>\n"
      ],
      "text/plain": [
       "\u001b[2;36m                   \u001b[0m\u001b[2;36m \u001b[0m\u001b[34mINFO    \u001b[0m INFO:src.data.uka.kispp.staff_data:processing footer \u001b[1m(\u001b[0mpatient/staff  \u001b]8;id=535109;file:///workspaces/ai4healthcare/src/data/uka/kispp/staff_data.py\u001b\\\u001b[2mstaff_data.py\u001b[0m\u001b]8;;\u001b\\\u001b[2m:\u001b[0m\u001b]8;id=372308;file:///workspaces/ai4healthcare/src/data/uka/kispp/staff_data.py#844\u001b\\\u001b[2m844\u001b[0m\u001b]8;;\u001b\\\n",
       "\u001b[2;36m                    \u001b[0m         aggregations\u001b[1m)\u001b[0m                                                        \u001b[2m                 \u001b[0m\n"
      ]
     },
     "metadata": {},
     "output_type": "display_data"
    },
    {
     "data": {
      "text/html": [
       "<pre style=\"white-space:pre;overflow-x:auto;line-height:normal;font-family:Menlo,'DejaVu Sans Mono',consolas,'Courier New',monospace\"><span style=\"color: #7fbfbf; text-decoration-color: #7fbfbf\">                    </span><span style=\"color: #000080; text-decoration-color: #000080\">INFO    </span> INFO:src.data.uka.kispp.staff_data:merging shift details             <a href=\"file:///workspaces/ai4healthcare/src/data/uka/kispp/staff_data.py\" target=\"_blank\"><span style=\"color: #7f7f7f; text-decoration-color: #7f7f7f\">staff_data.py</span></a><span style=\"color: #7f7f7f; text-decoration-color: #7f7f7f\">:</span><a href=\"file:///workspaces/ai4healthcare/src/data/uka/kispp/staff_data.py#850\" target=\"_blank\"><span style=\"color: #7f7f7f; text-decoration-color: #7f7f7f\">850</span></a>\n",
       "</pre>\n"
      ],
      "text/plain": [
       "\u001b[2;36m                   \u001b[0m\u001b[2;36m \u001b[0m\u001b[34mINFO    \u001b[0m INFO:src.data.uka.kispp.staff_data:merging shift details             \u001b]8;id=941075;file:///workspaces/ai4healthcare/src/data/uka/kispp/staff_data.py\u001b\\\u001b[2mstaff_data.py\u001b[0m\u001b]8;;\u001b\\\u001b[2m:\u001b[0m\u001b]8;id=8977;file:///workspaces/ai4healthcare/src/data/uka/kispp/staff_data.py#850\u001b\\\u001b[2m850\u001b[0m\u001b]8;;\u001b\\\n"
      ]
     },
     "metadata": {},
     "output_type": "display_data"
    },
    {
     "name": "stderr",
     "output_type": "stream",
     "text": [
      "processing sheet 9.7  1. HJ 23:  35%|███▌      | 6/17 [00:02<00:05,  2.17it/s]"
     ]
    },
    {
     "data": {
      "text/html": [
       "<pre style=\"white-space:pre;overflow-x:auto;line-height:normal;font-family:Menlo,'DejaVu Sans Mono',consolas,'Courier New',monospace\"><span style=\"color: #7fbfbf; text-decoration-color: #7fbfbf\">                    </span><span style=\"color: #000080; text-decoration-color: #000080\">INFO    </span> INFO:src.data.uka.kispp.staff_data:processing multiline rows         <a href=\"file:///workspaces/ai4healthcare/src/data/uka/kispp/staff_data.py\" target=\"_blank\"><span style=\"color: #7f7f7f; text-decoration-color: #7f7f7f\">staff_data.py</span></a><span style=\"color: #7f7f7f; text-decoration-color: #7f7f7f\">:</span><a href=\"file:///workspaces/ai4healthcare/src/data/uka/kispp/staff_data.py#815\" target=\"_blank\"><span style=\"color: #7f7f7f; text-decoration-color: #7f7f7f\">815</span></a>\n",
       "</pre>\n"
      ],
      "text/plain": [
       "\u001b[2;36m                   \u001b[0m\u001b[2;36m \u001b[0m\u001b[34mINFO    \u001b[0m INFO:src.data.uka.kispp.staff_data:processing multiline rows         \u001b]8;id=573133;file:///workspaces/ai4healthcare/src/data/uka/kispp/staff_data.py\u001b\\\u001b[2mstaff_data.py\u001b[0m\u001b]8;;\u001b\\\u001b[2m:\u001b[0m\u001b]8;id=727927;file:///workspaces/ai4healthcare/src/data/uka/kispp/staff_data.py#815\u001b\\\u001b[2m815\u001b[0m\u001b]8;;\u001b\\\n"
      ]
     },
     "metadata": {},
     "output_type": "display_data"
    },
    {
     "data": {
      "text/html": [
       "<pre style=\"white-space:pre;overflow-x:auto;line-height:normal;font-family:Menlo,'DejaVu Sans Mono',consolas,'Courier New',monospace\"><span style=\"color: #7fbfbf; text-decoration-color: #7fbfbf\">[04/24/24 09:11:58] </span><span style=\"color: #000080; text-decoration-color: #000080\">INFO    </span> INFO:src.data.uka.kispp.staff_data:re-pivoting dataframes            <a href=\"file:///workspaces/ai4healthcare/src/data/uka/kispp/staff_data.py\" target=\"_blank\"><span style=\"color: #7f7f7f; text-decoration-color: #7f7f7f\">staff_data.py</span></a><span style=\"color: #7f7f7f; text-decoration-color: #7f7f7f\">:</span><a href=\"file:///workspaces/ai4healthcare/src/data/uka/kispp/staff_data.py#839\" target=\"_blank\"><span style=\"color: #7f7f7f; text-decoration-color: #7f7f7f\">839</span></a>\n",
       "</pre>\n"
      ],
      "text/plain": [
       "\u001b[2;36m[04/24/24 09:11:58]\u001b[0m\u001b[2;36m \u001b[0m\u001b[34mINFO    \u001b[0m INFO:src.data.uka.kispp.staff_data:re-pivoting dataframes            \u001b]8;id=275293;file:///workspaces/ai4healthcare/src/data/uka/kispp/staff_data.py\u001b\\\u001b[2mstaff_data.py\u001b[0m\u001b]8;;\u001b\\\u001b[2m:\u001b[0m\u001b]8;id=495463;file:///workspaces/ai4healthcare/src/data/uka/kispp/staff_data.py#839\u001b\\\u001b[2m839\u001b[0m\u001b]8;;\u001b\\\n"
      ]
     },
     "metadata": {},
     "output_type": "display_data"
    },
    {
     "data": {
      "text/html": [
       "<pre style=\"white-space:pre;overflow-x:auto;line-height:normal;font-family:Menlo,'DejaVu Sans Mono',consolas,'Courier New',monospace\"><span style=\"color: #7fbfbf; text-decoration-color: #7fbfbf\">                    </span><span style=\"color: #000080; text-decoration-color: #000080\">INFO    </span> INFO:src.data.uka.kispp.staff_data:processing footer <span style=\"font-weight: bold\">(</span>patient/staff  <a href=\"file:///workspaces/ai4healthcare/src/data/uka/kispp/staff_data.py\" target=\"_blank\"><span style=\"color: #7f7f7f; text-decoration-color: #7f7f7f\">staff_data.py</span></a><span style=\"color: #7f7f7f; text-decoration-color: #7f7f7f\">:</span><a href=\"file:///workspaces/ai4healthcare/src/data/uka/kispp/staff_data.py#844\" target=\"_blank\"><span style=\"color: #7f7f7f; text-decoration-color: #7f7f7f\">844</span></a>\n",
       "<span style=\"color: #7fbfbf; text-decoration-color: #7fbfbf\">                    </span>         aggregations<span style=\"font-weight: bold\">)</span>                                                        <span style=\"color: #7f7f7f; text-decoration-color: #7f7f7f\">                 </span>\n",
       "</pre>\n"
      ],
      "text/plain": [
       "\u001b[2;36m                   \u001b[0m\u001b[2;36m \u001b[0m\u001b[34mINFO    \u001b[0m INFO:src.data.uka.kispp.staff_data:processing footer \u001b[1m(\u001b[0mpatient/staff  \u001b]8;id=434185;file:///workspaces/ai4healthcare/src/data/uka/kispp/staff_data.py\u001b\\\u001b[2mstaff_data.py\u001b[0m\u001b]8;;\u001b\\\u001b[2m:\u001b[0m\u001b]8;id=365289;file:///workspaces/ai4healthcare/src/data/uka/kispp/staff_data.py#844\u001b\\\u001b[2m844\u001b[0m\u001b]8;;\u001b\\\n",
       "\u001b[2;36m                    \u001b[0m         aggregations\u001b[1m)\u001b[0m                                                        \u001b[2m                 \u001b[0m\n"
      ]
     },
     "metadata": {},
     "output_type": "display_data"
    },
    {
     "data": {
      "text/html": [
       "<pre style=\"white-space:pre;overflow-x:auto;line-height:normal;font-family:Menlo,'DejaVu Sans Mono',consolas,'Courier New',monospace\"><span style=\"color: #7fbfbf; text-decoration-color: #7fbfbf\">                    </span><span style=\"color: #000080; text-decoration-color: #000080\">INFO    </span> INFO:src.data.uka.kispp.staff_data:merging shift details             <a href=\"file:///workspaces/ai4healthcare/src/data/uka/kispp/staff_data.py\" target=\"_blank\"><span style=\"color: #7f7f7f; text-decoration-color: #7f7f7f\">staff_data.py</span></a><span style=\"color: #7f7f7f; text-decoration-color: #7f7f7f\">:</span><a href=\"file:///workspaces/ai4healthcare/src/data/uka/kispp/staff_data.py#850\" target=\"_blank\"><span style=\"color: #7f7f7f; text-decoration-color: #7f7f7f\">850</span></a>\n",
       "</pre>\n"
      ],
      "text/plain": [
       "\u001b[2;36m                   \u001b[0m\u001b[2;36m \u001b[0m\u001b[34mINFO    \u001b[0m INFO:src.data.uka.kispp.staff_data:merging shift details             \u001b]8;id=926815;file:///workspaces/ai4healthcare/src/data/uka/kispp/staff_data.py\u001b\\\u001b[2mstaff_data.py\u001b[0m\u001b]8;;\u001b\\\u001b[2m:\u001b[0m\u001b]8;id=439393;file:///workspaces/ai4healthcare/src/data/uka/kispp/staff_data.py#850\u001b\\\u001b[2m850\u001b[0m\u001b]8;;\u001b\\\n"
      ]
     },
     "metadata": {},
     "output_type": "display_data"
    },
    {
     "name": "stderr",
     "output_type": "stream",
     "text": [
      "processing sheet 9.7 2. HJ 22:  41%|████      | 7/17 [00:03<00:05,  1.69it/s] "
     ]
    },
    {
     "data": {
      "text/html": [
       "<pre style=\"white-space:pre;overflow-x:auto;line-height:normal;font-family:Menlo,'DejaVu Sans Mono',consolas,'Courier New',monospace\"><span style=\"color: #7fbfbf; text-decoration-color: #7fbfbf\">                    </span><span style=\"color: #000080; text-decoration-color: #000080\">INFO    </span> INFO:src.data.uka.kispp.staff_data:processing multiline rows         <a href=\"file:///workspaces/ai4healthcare/src/data/uka/kispp/staff_data.py\" target=\"_blank\"><span style=\"color: #7f7f7f; text-decoration-color: #7f7f7f\">staff_data.py</span></a><span style=\"color: #7f7f7f; text-decoration-color: #7f7f7f\">:</span><a href=\"file:///workspaces/ai4healthcare/src/data/uka/kispp/staff_data.py#815\" target=\"_blank\"><span style=\"color: #7f7f7f; text-decoration-color: #7f7f7f\">815</span></a>\n",
       "</pre>\n"
      ],
      "text/plain": [
       "\u001b[2;36m                   \u001b[0m\u001b[2;36m \u001b[0m\u001b[34mINFO    \u001b[0m INFO:src.data.uka.kispp.staff_data:processing multiline rows         \u001b]8;id=150978;file:///workspaces/ai4healthcare/src/data/uka/kispp/staff_data.py\u001b\\\u001b[2mstaff_data.py\u001b[0m\u001b]8;;\u001b\\\u001b[2m:\u001b[0m\u001b]8;id=390185;file:///workspaces/ai4healthcare/src/data/uka/kispp/staff_data.py#815\u001b\\\u001b[2m815\u001b[0m\u001b]8;;\u001b\\\n"
      ]
     },
     "metadata": {},
     "output_type": "display_data"
    },
    {
     "data": {
      "text/html": [
       "<pre style=\"white-space:pre;overflow-x:auto;line-height:normal;font-family:Menlo,'DejaVu Sans Mono',consolas,'Courier New',monospace\"><span style=\"color: #7fbfbf; text-decoration-color: #7fbfbf\">                    </span><span style=\"color: #000080; text-decoration-color: #000080\">INFO    </span> INFO:src.data.uka.kispp.staff_data:re-pivoting dataframes            <a href=\"file:///workspaces/ai4healthcare/src/data/uka/kispp/staff_data.py\" target=\"_blank\"><span style=\"color: #7f7f7f; text-decoration-color: #7f7f7f\">staff_data.py</span></a><span style=\"color: #7f7f7f; text-decoration-color: #7f7f7f\">:</span><a href=\"file:///workspaces/ai4healthcare/src/data/uka/kispp/staff_data.py#839\" target=\"_blank\"><span style=\"color: #7f7f7f; text-decoration-color: #7f7f7f\">839</span></a>\n",
       "</pre>\n"
      ],
      "text/plain": [
       "\u001b[2;36m                   \u001b[0m\u001b[2;36m \u001b[0m\u001b[34mINFO    \u001b[0m INFO:src.data.uka.kispp.staff_data:re-pivoting dataframes            \u001b]8;id=864820;file:///workspaces/ai4healthcare/src/data/uka/kispp/staff_data.py\u001b\\\u001b[2mstaff_data.py\u001b[0m\u001b]8;;\u001b\\\u001b[2m:\u001b[0m\u001b]8;id=921602;file:///workspaces/ai4healthcare/src/data/uka/kispp/staff_data.py#839\u001b\\\u001b[2m839\u001b[0m\u001b]8;;\u001b\\\n"
      ]
     },
     "metadata": {},
     "output_type": "display_data"
    },
    {
     "data": {
      "text/html": [
       "<pre style=\"white-space:pre;overflow-x:auto;line-height:normal;font-family:Menlo,'DejaVu Sans Mono',consolas,'Courier New',monospace\"><span style=\"color: #7fbfbf; text-decoration-color: #7fbfbf\">                    </span><span style=\"color: #000080; text-decoration-color: #000080\">INFO    </span> INFO:src.data.uka.kispp.staff_data:processing footer <span style=\"font-weight: bold\">(</span>patient/staff  <a href=\"file:///workspaces/ai4healthcare/src/data/uka/kispp/staff_data.py\" target=\"_blank\"><span style=\"color: #7f7f7f; text-decoration-color: #7f7f7f\">staff_data.py</span></a><span style=\"color: #7f7f7f; text-decoration-color: #7f7f7f\">:</span><a href=\"file:///workspaces/ai4healthcare/src/data/uka/kispp/staff_data.py#844\" target=\"_blank\"><span style=\"color: #7f7f7f; text-decoration-color: #7f7f7f\">844</span></a>\n",
       "<span style=\"color: #7fbfbf; text-decoration-color: #7fbfbf\">                    </span>         aggregations<span style=\"font-weight: bold\">)</span>                                                        <span style=\"color: #7f7f7f; text-decoration-color: #7f7f7f\">                 </span>\n",
       "</pre>\n"
      ],
      "text/plain": [
       "\u001b[2;36m                   \u001b[0m\u001b[2;36m \u001b[0m\u001b[34mINFO    \u001b[0m INFO:src.data.uka.kispp.staff_data:processing footer \u001b[1m(\u001b[0mpatient/staff  \u001b]8;id=406017;file:///workspaces/ai4healthcare/src/data/uka/kispp/staff_data.py\u001b\\\u001b[2mstaff_data.py\u001b[0m\u001b]8;;\u001b\\\u001b[2m:\u001b[0m\u001b]8;id=563647;file:///workspaces/ai4healthcare/src/data/uka/kispp/staff_data.py#844\u001b\\\u001b[2m844\u001b[0m\u001b]8;;\u001b\\\n",
       "\u001b[2;36m                    \u001b[0m         aggregations\u001b[1m)\u001b[0m                                                        \u001b[2m                 \u001b[0m\n"
      ]
     },
     "metadata": {},
     "output_type": "display_data"
    },
    {
     "data": {
      "text/html": [
       "<pre style=\"white-space:pre;overflow-x:auto;line-height:normal;font-family:Menlo,'DejaVu Sans Mono',consolas,'Courier New',monospace\"><span style=\"color: #7fbfbf; text-decoration-color: #7fbfbf\">                    </span><span style=\"color: #000080; text-decoration-color: #000080\">INFO    </span> INFO:src.data.uka.kispp.staff_data:merging shift details             <a href=\"file:///workspaces/ai4healthcare/src/data/uka/kispp/staff_data.py\" target=\"_blank\"><span style=\"color: #7f7f7f; text-decoration-color: #7f7f7f\">staff_data.py</span></a><span style=\"color: #7f7f7f; text-decoration-color: #7f7f7f\">:</span><a href=\"file:///workspaces/ai4healthcare/src/data/uka/kispp/staff_data.py#850\" target=\"_blank\"><span style=\"color: #7f7f7f; text-decoration-color: #7f7f7f\">850</span></a>\n",
       "</pre>\n"
      ],
      "text/plain": [
       "\u001b[2;36m                   \u001b[0m\u001b[2;36m \u001b[0m\u001b[34mINFO    \u001b[0m INFO:src.data.uka.kispp.staff_data:merging shift details             \u001b]8;id=809974;file:///workspaces/ai4healthcare/src/data/uka/kispp/staff_data.py\u001b\\\u001b[2mstaff_data.py\u001b[0m\u001b]8;;\u001b\\\u001b[2m:\u001b[0m\u001b]8;id=960310;file:///workspaces/ai4healthcare/src/data/uka/kispp/staff_data.py#850\u001b\\\u001b[2m850\u001b[0m\u001b]8;;\u001b\\\n"
      ]
     },
     "metadata": {},
     "output_type": "display_data"
    },
    {
     "name": "stderr",
     "output_type": "stream",
     "text": [
      "processing sheet 9.7 1. HJ 22:  47%|████▋     | 8/17 [00:04<00:04,  1.81it/s]"
     ]
    },
    {
     "data": {
      "text/html": [
       "<pre style=\"white-space:pre;overflow-x:auto;line-height:normal;font-family:Menlo,'DejaVu Sans Mono',consolas,'Courier New',monospace\"><span style=\"color: #7fbfbf; text-decoration-color: #7fbfbf\">                    </span><span style=\"color: #000080; text-decoration-color: #000080\">INFO    </span> INFO:src.data.uka.kispp.staff_data:processing multiline rows         <a href=\"file:///workspaces/ai4healthcare/src/data/uka/kispp/staff_data.py\" target=\"_blank\"><span style=\"color: #7f7f7f; text-decoration-color: #7f7f7f\">staff_data.py</span></a><span style=\"color: #7f7f7f; text-decoration-color: #7f7f7f\">:</span><a href=\"file:///workspaces/ai4healthcare/src/data/uka/kispp/staff_data.py#815\" target=\"_blank\"><span style=\"color: #7f7f7f; text-decoration-color: #7f7f7f\">815</span></a>\n",
       "</pre>\n"
      ],
      "text/plain": [
       "\u001b[2;36m                   \u001b[0m\u001b[2;36m \u001b[0m\u001b[34mINFO    \u001b[0m INFO:src.data.uka.kispp.staff_data:processing multiline rows         \u001b]8;id=386387;file:///workspaces/ai4healthcare/src/data/uka/kispp/staff_data.py\u001b\\\u001b[2mstaff_data.py\u001b[0m\u001b]8;;\u001b\\\u001b[2m:\u001b[0m\u001b]8;id=132613;file:///workspaces/ai4healthcare/src/data/uka/kispp/staff_data.py#815\u001b\\\u001b[2m815\u001b[0m\u001b]8;;\u001b\\\n"
      ]
     },
     "metadata": {},
     "output_type": "display_data"
    },
    {
     "data": {
      "text/html": [
       "<pre style=\"white-space:pre;overflow-x:auto;line-height:normal;font-family:Menlo,'DejaVu Sans Mono',consolas,'Courier New',monospace\"><span style=\"color: #7fbfbf; text-decoration-color: #7fbfbf\">[04/24/24 09:11:59] </span><span style=\"color: #000080; text-decoration-color: #000080\">INFO    </span> INFO:src.data.uka.kispp.staff_data:re-pivoting dataframes            <a href=\"file:///workspaces/ai4healthcare/src/data/uka/kispp/staff_data.py\" target=\"_blank\"><span style=\"color: #7f7f7f; text-decoration-color: #7f7f7f\">staff_data.py</span></a><span style=\"color: #7f7f7f; text-decoration-color: #7f7f7f\">:</span><a href=\"file:///workspaces/ai4healthcare/src/data/uka/kispp/staff_data.py#839\" target=\"_blank\"><span style=\"color: #7f7f7f; text-decoration-color: #7f7f7f\">839</span></a>\n",
       "</pre>\n"
      ],
      "text/plain": [
       "\u001b[2;36m[04/24/24 09:11:59]\u001b[0m\u001b[2;36m \u001b[0m\u001b[34mINFO    \u001b[0m INFO:src.data.uka.kispp.staff_data:re-pivoting dataframes            \u001b]8;id=660201;file:///workspaces/ai4healthcare/src/data/uka/kispp/staff_data.py\u001b\\\u001b[2mstaff_data.py\u001b[0m\u001b]8;;\u001b\\\u001b[2m:\u001b[0m\u001b]8;id=174904;file:///workspaces/ai4healthcare/src/data/uka/kispp/staff_data.py#839\u001b\\\u001b[2m839\u001b[0m\u001b]8;;\u001b\\\n"
      ]
     },
     "metadata": {},
     "output_type": "display_data"
    },
    {
     "data": {
      "text/html": [
       "<pre style=\"white-space:pre;overflow-x:auto;line-height:normal;font-family:Menlo,'DejaVu Sans Mono',consolas,'Courier New',monospace\"><span style=\"color: #7fbfbf; text-decoration-color: #7fbfbf\">                    </span><span style=\"color: #000080; text-decoration-color: #000080\">INFO    </span> INFO:src.data.uka.kispp.staff_data:processing footer <span style=\"font-weight: bold\">(</span>patient/staff  <a href=\"file:///workspaces/ai4healthcare/src/data/uka/kispp/staff_data.py\" target=\"_blank\"><span style=\"color: #7f7f7f; text-decoration-color: #7f7f7f\">staff_data.py</span></a><span style=\"color: #7f7f7f; text-decoration-color: #7f7f7f\">:</span><a href=\"file:///workspaces/ai4healthcare/src/data/uka/kispp/staff_data.py#844\" target=\"_blank\"><span style=\"color: #7f7f7f; text-decoration-color: #7f7f7f\">844</span></a>\n",
       "<span style=\"color: #7fbfbf; text-decoration-color: #7fbfbf\">                    </span>         aggregations<span style=\"font-weight: bold\">)</span>                                                        <span style=\"color: #7f7f7f; text-decoration-color: #7f7f7f\">                 </span>\n",
       "</pre>\n"
      ],
      "text/plain": [
       "\u001b[2;36m                   \u001b[0m\u001b[2;36m \u001b[0m\u001b[34mINFO    \u001b[0m INFO:src.data.uka.kispp.staff_data:processing footer \u001b[1m(\u001b[0mpatient/staff  \u001b]8;id=65070;file:///workspaces/ai4healthcare/src/data/uka/kispp/staff_data.py\u001b\\\u001b[2mstaff_data.py\u001b[0m\u001b]8;;\u001b\\\u001b[2m:\u001b[0m\u001b]8;id=777372;file:///workspaces/ai4healthcare/src/data/uka/kispp/staff_data.py#844\u001b\\\u001b[2m844\u001b[0m\u001b]8;;\u001b\\\n",
       "\u001b[2;36m                    \u001b[0m         aggregations\u001b[1m)\u001b[0m                                                        \u001b[2m                 \u001b[0m\n"
      ]
     },
     "metadata": {},
     "output_type": "display_data"
    },
    {
     "data": {
      "text/html": [
       "<pre style=\"white-space:pre;overflow-x:auto;line-height:normal;font-family:Menlo,'DejaVu Sans Mono',consolas,'Courier New',monospace\"><span style=\"color: #7fbfbf; text-decoration-color: #7fbfbf\">                    </span><span style=\"color: #000080; text-decoration-color: #000080\">INFO    </span> INFO:src.data.uka.kispp.staff_data:merging shift details             <a href=\"file:///workspaces/ai4healthcare/src/data/uka/kispp/staff_data.py\" target=\"_blank\"><span style=\"color: #7f7f7f; text-decoration-color: #7f7f7f\">staff_data.py</span></a><span style=\"color: #7f7f7f; text-decoration-color: #7f7f7f\">:</span><a href=\"file:///workspaces/ai4healthcare/src/data/uka/kispp/staff_data.py#850\" target=\"_blank\"><span style=\"color: #7f7f7f; text-decoration-color: #7f7f7f\">850</span></a>\n",
       "</pre>\n"
      ],
      "text/plain": [
       "\u001b[2;36m                   \u001b[0m\u001b[2;36m \u001b[0m\u001b[34mINFO    \u001b[0m INFO:src.data.uka.kispp.staff_data:merging shift details             \u001b]8;id=366518;file:///workspaces/ai4healthcare/src/data/uka/kispp/staff_data.py\u001b\\\u001b[2mstaff_data.py\u001b[0m\u001b]8;;\u001b\\\u001b[2m:\u001b[0m\u001b]8;id=471569;file:///workspaces/ai4healthcare/src/data/uka/kispp/staff_data.py#850\u001b\\\u001b[2m850\u001b[0m\u001b]8;;\u001b\\\n"
      ]
     },
     "metadata": {},
     "output_type": "display_data"
    },
    {
     "name": "stderr",
     "output_type": "stream",
     "text": [
      "processing sheet 10.3 1 HJ 23:  53%|█████▎    | 9/17 [00:04<00:04,  1.87it/s]"
     ]
    },
    {
     "data": {
      "text/html": [
       "<pre style=\"white-space:pre;overflow-x:auto;line-height:normal;font-family:Menlo,'DejaVu Sans Mono',consolas,'Courier New',monospace\"><span style=\"color: #7fbfbf; text-decoration-color: #7fbfbf\">                    </span><span style=\"color: #000080; text-decoration-color: #000080\">INFO    </span> INFO:src.data.uka.kispp.staff_data:processing multiline rows         <a href=\"file:///workspaces/ai4healthcare/src/data/uka/kispp/staff_data.py\" target=\"_blank\"><span style=\"color: #7f7f7f; text-decoration-color: #7f7f7f\">staff_data.py</span></a><span style=\"color: #7f7f7f; text-decoration-color: #7f7f7f\">:</span><a href=\"file:///workspaces/ai4healthcare/src/data/uka/kispp/staff_data.py#815\" target=\"_blank\"><span style=\"color: #7f7f7f; text-decoration-color: #7f7f7f\">815</span></a>\n",
       "</pre>\n"
      ],
      "text/plain": [
       "\u001b[2;36m                   \u001b[0m\u001b[2;36m \u001b[0m\u001b[34mINFO    \u001b[0m INFO:src.data.uka.kispp.staff_data:processing multiline rows         \u001b]8;id=745565;file:///workspaces/ai4healthcare/src/data/uka/kispp/staff_data.py\u001b\\\u001b[2mstaff_data.py\u001b[0m\u001b]8;;\u001b\\\u001b[2m:\u001b[0m\u001b]8;id=701323;file:///workspaces/ai4healthcare/src/data/uka/kispp/staff_data.py#815\u001b\\\u001b[2m815\u001b[0m\u001b]8;;\u001b\\\n"
      ]
     },
     "metadata": {},
     "output_type": "display_data"
    },
    {
     "data": {
      "text/html": [
       "<pre style=\"white-space:pre;overflow-x:auto;line-height:normal;font-family:Menlo,'DejaVu Sans Mono',consolas,'Courier New',monospace\"><span style=\"color: #7fbfbf; text-decoration-color: #7fbfbf\">                    </span><span style=\"color: #000080; text-decoration-color: #000080\">INFO    </span> INFO:src.data.uka.kispp.staff_data:re-pivoting dataframes            <a href=\"file:///workspaces/ai4healthcare/src/data/uka/kispp/staff_data.py\" target=\"_blank\"><span style=\"color: #7f7f7f; text-decoration-color: #7f7f7f\">staff_data.py</span></a><span style=\"color: #7f7f7f; text-decoration-color: #7f7f7f\">:</span><a href=\"file:///workspaces/ai4healthcare/src/data/uka/kispp/staff_data.py#839\" target=\"_blank\"><span style=\"color: #7f7f7f; text-decoration-color: #7f7f7f\">839</span></a>\n",
       "</pre>\n"
      ],
      "text/plain": [
       "\u001b[2;36m                   \u001b[0m\u001b[2;36m \u001b[0m\u001b[34mINFO    \u001b[0m INFO:src.data.uka.kispp.staff_data:re-pivoting dataframes            \u001b]8;id=811937;file:///workspaces/ai4healthcare/src/data/uka/kispp/staff_data.py\u001b\\\u001b[2mstaff_data.py\u001b[0m\u001b]8;;\u001b\\\u001b[2m:\u001b[0m\u001b]8;id=29630;file:///workspaces/ai4healthcare/src/data/uka/kispp/staff_data.py#839\u001b\\\u001b[2m839\u001b[0m\u001b]8;;\u001b\\\n"
      ]
     },
     "metadata": {},
     "output_type": "display_data"
    },
    {
     "data": {
      "text/html": [
       "<pre style=\"white-space:pre;overflow-x:auto;line-height:normal;font-family:Menlo,'DejaVu Sans Mono',consolas,'Courier New',monospace\"><span style=\"color: #7fbfbf; text-decoration-color: #7fbfbf\">                    </span><span style=\"color: #000080; text-decoration-color: #000080\">INFO    </span> INFO:src.data.uka.kispp.staff_data:processing footer <span style=\"font-weight: bold\">(</span>patient/staff  <a href=\"file:///workspaces/ai4healthcare/src/data/uka/kispp/staff_data.py\" target=\"_blank\"><span style=\"color: #7f7f7f; text-decoration-color: #7f7f7f\">staff_data.py</span></a><span style=\"color: #7f7f7f; text-decoration-color: #7f7f7f\">:</span><a href=\"file:///workspaces/ai4healthcare/src/data/uka/kispp/staff_data.py#844\" target=\"_blank\"><span style=\"color: #7f7f7f; text-decoration-color: #7f7f7f\">844</span></a>\n",
       "<span style=\"color: #7fbfbf; text-decoration-color: #7fbfbf\">                    </span>         aggregations<span style=\"font-weight: bold\">)</span>                                                        <span style=\"color: #7f7f7f; text-decoration-color: #7f7f7f\">                 </span>\n",
       "</pre>\n"
      ],
      "text/plain": [
       "\u001b[2;36m                   \u001b[0m\u001b[2;36m \u001b[0m\u001b[34mINFO    \u001b[0m INFO:src.data.uka.kispp.staff_data:processing footer \u001b[1m(\u001b[0mpatient/staff  \u001b]8;id=541948;file:///workspaces/ai4healthcare/src/data/uka/kispp/staff_data.py\u001b\\\u001b[2mstaff_data.py\u001b[0m\u001b]8;;\u001b\\\u001b[2m:\u001b[0m\u001b]8;id=539722;file:///workspaces/ai4healthcare/src/data/uka/kispp/staff_data.py#844\u001b\\\u001b[2m844\u001b[0m\u001b]8;;\u001b\\\n",
       "\u001b[2;36m                    \u001b[0m         aggregations\u001b[1m)\u001b[0m                                                        \u001b[2m                 \u001b[0m\n"
      ]
     },
     "metadata": {},
     "output_type": "display_data"
    },
    {
     "data": {
      "text/html": [
       "<pre style=\"white-space:pre;overflow-x:auto;line-height:normal;font-family:Menlo,'DejaVu Sans Mono',consolas,'Courier New',monospace\"><span style=\"color: #7fbfbf; text-decoration-color: #7fbfbf\">                    </span><span style=\"color: #000080; text-decoration-color: #000080\">INFO    </span> INFO:src.data.uka.kispp.staff_data:merging shift details             <a href=\"file:///workspaces/ai4healthcare/src/data/uka/kispp/staff_data.py\" target=\"_blank\"><span style=\"color: #7f7f7f; text-decoration-color: #7f7f7f\">staff_data.py</span></a><span style=\"color: #7f7f7f; text-decoration-color: #7f7f7f\">:</span><a href=\"file:///workspaces/ai4healthcare/src/data/uka/kispp/staff_data.py#850\" target=\"_blank\"><span style=\"color: #7f7f7f; text-decoration-color: #7f7f7f\">850</span></a>\n",
       "</pre>\n"
      ],
      "text/plain": [
       "\u001b[2;36m                   \u001b[0m\u001b[2;36m \u001b[0m\u001b[34mINFO    \u001b[0m INFO:src.data.uka.kispp.staff_data:merging shift details             \u001b]8;id=109867;file:///workspaces/ai4healthcare/src/data/uka/kispp/staff_data.py\u001b\\\u001b[2mstaff_data.py\u001b[0m\u001b]8;;\u001b\\\u001b[2m:\u001b[0m\u001b]8;id=571953;file:///workspaces/ai4healthcare/src/data/uka/kispp/staff_data.py#850\u001b\\\u001b[2m850\u001b[0m\u001b]8;;\u001b\\\n"
      ]
     },
     "metadata": {},
     "output_type": "display_data"
    },
    {
     "name": "stderr",
     "output_type": "stream",
     "text": [
      "processing sheet 10.3 2 HJ 22:  59%|█████▉    | 10/17 [00:05<00:03,  1.85it/s]"
     ]
    },
    {
     "data": {
      "text/html": [
       "<pre style=\"white-space:pre;overflow-x:auto;line-height:normal;font-family:Menlo,'DejaVu Sans Mono',consolas,'Courier New',monospace\"><span style=\"color: #7fbfbf; text-decoration-color: #7fbfbf\">                    </span><span style=\"color: #000080; text-decoration-color: #000080\">INFO    </span> INFO:src.data.uka.kispp.staff_data:processing multiline rows         <a href=\"file:///workspaces/ai4healthcare/src/data/uka/kispp/staff_data.py\" target=\"_blank\"><span style=\"color: #7f7f7f; text-decoration-color: #7f7f7f\">staff_data.py</span></a><span style=\"color: #7f7f7f; text-decoration-color: #7f7f7f\">:</span><a href=\"file:///workspaces/ai4healthcare/src/data/uka/kispp/staff_data.py#815\" target=\"_blank\"><span style=\"color: #7f7f7f; text-decoration-color: #7f7f7f\">815</span></a>\n",
       "</pre>\n"
      ],
      "text/plain": [
       "\u001b[2;36m                   \u001b[0m\u001b[2;36m \u001b[0m\u001b[34mINFO    \u001b[0m INFO:src.data.uka.kispp.staff_data:processing multiline rows         \u001b]8;id=597882;file:///workspaces/ai4healthcare/src/data/uka/kispp/staff_data.py\u001b\\\u001b[2mstaff_data.py\u001b[0m\u001b]8;;\u001b\\\u001b[2m:\u001b[0m\u001b]8;id=356600;file:///workspaces/ai4healthcare/src/data/uka/kispp/staff_data.py#815\u001b\\\u001b[2m815\u001b[0m\u001b]8;;\u001b\\\n"
      ]
     },
     "metadata": {},
     "output_type": "display_data"
    },
    {
     "data": {
      "text/html": [
       "<pre style=\"white-space:pre;overflow-x:auto;line-height:normal;font-family:Menlo,'DejaVu Sans Mono',consolas,'Courier New',monospace\"><span style=\"color: #7fbfbf; text-decoration-color: #7fbfbf\">[04/24/24 09:12:00] </span><span style=\"color: #000080; text-decoration-color: #000080\">INFO    </span> INFO:src.data.uka.kispp.staff_data:re-pivoting dataframes            <a href=\"file:///workspaces/ai4healthcare/src/data/uka/kispp/staff_data.py\" target=\"_blank\"><span style=\"color: #7f7f7f; text-decoration-color: #7f7f7f\">staff_data.py</span></a><span style=\"color: #7f7f7f; text-decoration-color: #7f7f7f\">:</span><a href=\"file:///workspaces/ai4healthcare/src/data/uka/kispp/staff_data.py#839\" target=\"_blank\"><span style=\"color: #7f7f7f; text-decoration-color: #7f7f7f\">839</span></a>\n",
       "</pre>\n"
      ],
      "text/plain": [
       "\u001b[2;36m[04/24/24 09:12:00]\u001b[0m\u001b[2;36m \u001b[0m\u001b[34mINFO    \u001b[0m INFO:src.data.uka.kispp.staff_data:re-pivoting dataframes            \u001b]8;id=255054;file:///workspaces/ai4healthcare/src/data/uka/kispp/staff_data.py\u001b\\\u001b[2mstaff_data.py\u001b[0m\u001b]8;;\u001b\\\u001b[2m:\u001b[0m\u001b]8;id=213146;file:///workspaces/ai4healthcare/src/data/uka/kispp/staff_data.py#839\u001b\\\u001b[2m839\u001b[0m\u001b]8;;\u001b\\\n"
      ]
     },
     "metadata": {},
     "output_type": "display_data"
    },
    {
     "data": {
      "text/html": [
       "<pre style=\"white-space:pre;overflow-x:auto;line-height:normal;font-family:Menlo,'DejaVu Sans Mono',consolas,'Courier New',monospace\"><span style=\"color: #7fbfbf; text-decoration-color: #7fbfbf\">                    </span><span style=\"color: #000080; text-decoration-color: #000080\">INFO    </span> INFO:src.data.uka.kispp.staff_data:processing footer <span style=\"font-weight: bold\">(</span>patient/staff  <a href=\"file:///workspaces/ai4healthcare/src/data/uka/kispp/staff_data.py\" target=\"_blank\"><span style=\"color: #7f7f7f; text-decoration-color: #7f7f7f\">staff_data.py</span></a><span style=\"color: #7f7f7f; text-decoration-color: #7f7f7f\">:</span><a href=\"file:///workspaces/ai4healthcare/src/data/uka/kispp/staff_data.py#844\" target=\"_blank\"><span style=\"color: #7f7f7f; text-decoration-color: #7f7f7f\">844</span></a>\n",
       "<span style=\"color: #7fbfbf; text-decoration-color: #7fbfbf\">                    </span>         aggregations<span style=\"font-weight: bold\">)</span>                                                        <span style=\"color: #7f7f7f; text-decoration-color: #7f7f7f\">                 </span>\n",
       "</pre>\n"
      ],
      "text/plain": [
       "\u001b[2;36m                   \u001b[0m\u001b[2;36m \u001b[0m\u001b[34mINFO    \u001b[0m INFO:src.data.uka.kispp.staff_data:processing footer \u001b[1m(\u001b[0mpatient/staff  \u001b]8;id=45114;file:///workspaces/ai4healthcare/src/data/uka/kispp/staff_data.py\u001b\\\u001b[2mstaff_data.py\u001b[0m\u001b]8;;\u001b\\\u001b[2m:\u001b[0m\u001b]8;id=983839;file:///workspaces/ai4healthcare/src/data/uka/kispp/staff_data.py#844\u001b\\\u001b[2m844\u001b[0m\u001b]8;;\u001b\\\n",
       "\u001b[2;36m                    \u001b[0m         aggregations\u001b[1m)\u001b[0m                                                        \u001b[2m                 \u001b[0m\n"
      ]
     },
     "metadata": {},
     "output_type": "display_data"
    },
    {
     "data": {
      "text/html": [
       "<pre style=\"white-space:pre;overflow-x:auto;line-height:normal;font-family:Menlo,'DejaVu Sans Mono',consolas,'Courier New',monospace\"><span style=\"color: #7fbfbf; text-decoration-color: #7fbfbf\">                    </span><span style=\"color: #000080; text-decoration-color: #000080\">INFO    </span> INFO:src.data.uka.kispp.staff_data:merging shift details             <a href=\"file:///workspaces/ai4healthcare/src/data/uka/kispp/staff_data.py\" target=\"_blank\"><span style=\"color: #7f7f7f; text-decoration-color: #7f7f7f\">staff_data.py</span></a><span style=\"color: #7f7f7f; text-decoration-color: #7f7f7f\">:</span><a href=\"file:///workspaces/ai4healthcare/src/data/uka/kispp/staff_data.py#850\" target=\"_blank\"><span style=\"color: #7f7f7f; text-decoration-color: #7f7f7f\">850</span></a>\n",
       "</pre>\n"
      ],
      "text/plain": [
       "\u001b[2;36m                   \u001b[0m\u001b[2;36m \u001b[0m\u001b[34mINFO    \u001b[0m INFO:src.data.uka.kispp.staff_data:merging shift details             \u001b]8;id=209190;file:///workspaces/ai4healthcare/src/data/uka/kispp/staff_data.py\u001b\\\u001b[2mstaff_data.py\u001b[0m\u001b]8;;\u001b\\\u001b[2m:\u001b[0m\u001b]8;id=794941;file:///workspaces/ai4healthcare/src/data/uka/kispp/staff_data.py#850\u001b\\\u001b[2m850\u001b[0m\u001b]8;;\u001b\\\n"
      ]
     },
     "metadata": {},
     "output_type": "display_data"
    },
    {
     "name": "stderr",
     "output_type": "stream",
     "text": [
      "processing sheet 10.3 1 HJ 22:  65%|██████▍   | 11/17 [00:05<00:03,  1.74it/s]"
     ]
    },
    {
     "data": {
      "text/html": [
       "<pre style=\"white-space:pre;overflow-x:auto;line-height:normal;font-family:Menlo,'DejaVu Sans Mono',consolas,'Courier New',monospace\"><span style=\"color: #7fbfbf; text-decoration-color: #7fbfbf\">                    </span><span style=\"color: #000080; text-decoration-color: #000080\">INFO    </span> INFO:src.data.uka.kispp.staff_data:processing multiline rows         <a href=\"file:///workspaces/ai4healthcare/src/data/uka/kispp/staff_data.py\" target=\"_blank\"><span style=\"color: #7f7f7f; text-decoration-color: #7f7f7f\">staff_data.py</span></a><span style=\"color: #7f7f7f; text-decoration-color: #7f7f7f\">:</span><a href=\"file:///workspaces/ai4healthcare/src/data/uka/kispp/staff_data.py#815\" target=\"_blank\"><span style=\"color: #7f7f7f; text-decoration-color: #7f7f7f\">815</span></a>\n",
       "</pre>\n"
      ],
      "text/plain": [
       "\u001b[2;36m                   \u001b[0m\u001b[2;36m \u001b[0m\u001b[34mINFO    \u001b[0m INFO:src.data.uka.kispp.staff_data:processing multiline rows         \u001b]8;id=281280;file:///workspaces/ai4healthcare/src/data/uka/kispp/staff_data.py\u001b\\\u001b[2mstaff_data.py\u001b[0m\u001b]8;;\u001b\\\u001b[2m:\u001b[0m\u001b]8;id=592051;file:///workspaces/ai4healthcare/src/data/uka/kispp/staff_data.py#815\u001b\\\u001b[2m815\u001b[0m\u001b]8;;\u001b\\\n"
      ]
     },
     "metadata": {},
     "output_type": "display_data"
    },
    {
     "data": {
      "text/html": [
       "<pre style=\"white-space:pre;overflow-x:auto;line-height:normal;font-family:Menlo,'DejaVu Sans Mono',consolas,'Courier New',monospace\"><span style=\"color: #7fbfbf; text-decoration-color: #7fbfbf\">                    </span><span style=\"color: #000080; text-decoration-color: #000080\">INFO    </span> INFO:src.data.uka.kispp.staff_data:re-pivoting dataframes            <a href=\"file:///workspaces/ai4healthcare/src/data/uka/kispp/staff_data.py\" target=\"_blank\"><span style=\"color: #7f7f7f; text-decoration-color: #7f7f7f\">staff_data.py</span></a><span style=\"color: #7f7f7f; text-decoration-color: #7f7f7f\">:</span><a href=\"file:///workspaces/ai4healthcare/src/data/uka/kispp/staff_data.py#839\" target=\"_blank\"><span style=\"color: #7f7f7f; text-decoration-color: #7f7f7f\">839</span></a>\n",
       "</pre>\n"
      ],
      "text/plain": [
       "\u001b[2;36m                   \u001b[0m\u001b[2;36m \u001b[0m\u001b[34mINFO    \u001b[0m INFO:src.data.uka.kispp.staff_data:re-pivoting dataframes            \u001b]8;id=87808;file:///workspaces/ai4healthcare/src/data/uka/kispp/staff_data.py\u001b\\\u001b[2mstaff_data.py\u001b[0m\u001b]8;;\u001b\\\u001b[2m:\u001b[0m\u001b]8;id=357715;file:///workspaces/ai4healthcare/src/data/uka/kispp/staff_data.py#839\u001b\\\u001b[2m839\u001b[0m\u001b]8;;\u001b\\\n"
      ]
     },
     "metadata": {},
     "output_type": "display_data"
    },
    {
     "data": {
      "text/html": [
       "<pre style=\"white-space:pre;overflow-x:auto;line-height:normal;font-family:Menlo,'DejaVu Sans Mono',consolas,'Courier New',monospace\"><span style=\"color: #7fbfbf; text-decoration-color: #7fbfbf\">[04/24/24 09:12:01] </span><span style=\"color: #000080; text-decoration-color: #000080\">INFO    </span> INFO:src.data.uka.kispp.staff_data:processing footer <span style=\"font-weight: bold\">(</span>patient/staff  <a href=\"file:///workspaces/ai4healthcare/src/data/uka/kispp/staff_data.py\" target=\"_blank\"><span style=\"color: #7f7f7f; text-decoration-color: #7f7f7f\">staff_data.py</span></a><span style=\"color: #7f7f7f; text-decoration-color: #7f7f7f\">:</span><a href=\"file:///workspaces/ai4healthcare/src/data/uka/kispp/staff_data.py#844\" target=\"_blank\"><span style=\"color: #7f7f7f; text-decoration-color: #7f7f7f\">844</span></a>\n",
       "<span style=\"color: #7fbfbf; text-decoration-color: #7fbfbf\">                    </span>         aggregations<span style=\"font-weight: bold\">)</span>                                                        <span style=\"color: #7f7f7f; text-decoration-color: #7f7f7f\">                 </span>\n",
       "</pre>\n"
      ],
      "text/plain": [
       "\u001b[2;36m[04/24/24 09:12:01]\u001b[0m\u001b[2;36m \u001b[0m\u001b[34mINFO    \u001b[0m INFO:src.data.uka.kispp.staff_data:processing footer \u001b[1m(\u001b[0mpatient/staff  \u001b]8;id=933767;file:///workspaces/ai4healthcare/src/data/uka/kispp/staff_data.py\u001b\\\u001b[2mstaff_data.py\u001b[0m\u001b]8;;\u001b\\\u001b[2m:\u001b[0m\u001b]8;id=848318;file:///workspaces/ai4healthcare/src/data/uka/kispp/staff_data.py#844\u001b\\\u001b[2m844\u001b[0m\u001b]8;;\u001b\\\n",
       "\u001b[2;36m                    \u001b[0m         aggregations\u001b[1m)\u001b[0m                                                        \u001b[2m                 \u001b[0m\n"
      ]
     },
     "metadata": {},
     "output_type": "display_data"
    },
    {
     "data": {
      "text/html": [
       "<pre style=\"white-space:pre;overflow-x:auto;line-height:normal;font-family:Menlo,'DejaVu Sans Mono',consolas,'Courier New',monospace\"><span style=\"color: #7fbfbf; text-decoration-color: #7fbfbf\">                    </span><span style=\"color: #000080; text-decoration-color: #000080\">INFO    </span> INFO:src.data.uka.kispp.staff_data:merging shift details             <a href=\"file:///workspaces/ai4healthcare/src/data/uka/kispp/staff_data.py\" target=\"_blank\"><span style=\"color: #7f7f7f; text-decoration-color: #7f7f7f\">staff_data.py</span></a><span style=\"color: #7f7f7f; text-decoration-color: #7f7f7f\">:</span><a href=\"file:///workspaces/ai4healthcare/src/data/uka/kispp/staff_data.py#850\" target=\"_blank\"><span style=\"color: #7f7f7f; text-decoration-color: #7f7f7f\">850</span></a>\n",
       "</pre>\n"
      ],
      "text/plain": [
       "\u001b[2;36m                   \u001b[0m\u001b[2;36m \u001b[0m\u001b[34mINFO    \u001b[0m INFO:src.data.uka.kispp.staff_data:merging shift details             \u001b]8;id=945703;file:///workspaces/ai4healthcare/src/data/uka/kispp/staff_data.py\u001b\\\u001b[2mstaff_data.py\u001b[0m\u001b]8;;\u001b\\\u001b[2m:\u001b[0m\u001b]8;id=507467;file:///workspaces/ai4healthcare/src/data/uka/kispp/staff_data.py#850\u001b\\\u001b[2m850\u001b[0m\u001b]8;;\u001b\\\n"
      ]
     },
     "metadata": {},
     "output_type": "display_data"
    },
    {
     "name": "stderr",
     "output_type": "stream",
     "text": [
      "processing sheet 11.0 2023:  71%|███████   | 12/17 [00:06<00:02,  1.76it/s]   "
     ]
    },
    {
     "data": {
      "text/html": [
       "<pre style=\"white-space:pre;overflow-x:auto;line-height:normal;font-family:Menlo,'DejaVu Sans Mono',consolas,'Courier New',monospace\"><span style=\"color: #7fbfbf; text-decoration-color: #7fbfbf\">                    </span><span style=\"color: #000080; text-decoration-color: #000080\">INFO    </span> INFO:src.data.uka.kispp.staff_data:processing multiline rows         <a href=\"file:///workspaces/ai4healthcare/src/data/uka/kispp/staff_data.py\" target=\"_blank\"><span style=\"color: #7f7f7f; text-decoration-color: #7f7f7f\">staff_data.py</span></a><span style=\"color: #7f7f7f; text-decoration-color: #7f7f7f\">:</span><a href=\"file:///workspaces/ai4healthcare/src/data/uka/kispp/staff_data.py#815\" target=\"_blank\"><span style=\"color: #7f7f7f; text-decoration-color: #7f7f7f\">815</span></a>\n",
       "</pre>\n"
      ],
      "text/plain": [
       "\u001b[2;36m                   \u001b[0m\u001b[2;36m \u001b[0m\u001b[34mINFO    \u001b[0m INFO:src.data.uka.kispp.staff_data:processing multiline rows         \u001b]8;id=29595;file:///workspaces/ai4healthcare/src/data/uka/kispp/staff_data.py\u001b\\\u001b[2mstaff_data.py\u001b[0m\u001b]8;;\u001b\\\u001b[2m:\u001b[0m\u001b]8;id=269328;file:///workspaces/ai4healthcare/src/data/uka/kispp/staff_data.py#815\u001b\\\u001b[2m815\u001b[0m\u001b]8;;\u001b\\\n"
      ]
     },
     "metadata": {},
     "output_type": "display_data"
    },
    {
     "data": {
      "text/html": [
       "<pre style=\"white-space:pre;overflow-x:auto;line-height:normal;font-family:Menlo,'DejaVu Sans Mono',consolas,'Courier New',monospace\"><span style=\"color: #7fbfbf; text-decoration-color: #7fbfbf\">                    </span><span style=\"color: #000080; text-decoration-color: #000080\">INFO    </span> INFO:src.data.uka.kispp.staff_data:re-pivoting dataframes            <a href=\"file:///workspaces/ai4healthcare/src/data/uka/kispp/staff_data.py\" target=\"_blank\"><span style=\"color: #7f7f7f; text-decoration-color: #7f7f7f\">staff_data.py</span></a><span style=\"color: #7f7f7f; text-decoration-color: #7f7f7f\">:</span><a href=\"file:///workspaces/ai4healthcare/src/data/uka/kispp/staff_data.py#839\" target=\"_blank\"><span style=\"color: #7f7f7f; text-decoration-color: #7f7f7f\">839</span></a>\n",
       "</pre>\n"
      ],
      "text/plain": [
       "\u001b[2;36m                   \u001b[0m\u001b[2;36m \u001b[0m\u001b[34mINFO    \u001b[0m INFO:src.data.uka.kispp.staff_data:re-pivoting dataframes            \u001b]8;id=909274;file:///workspaces/ai4healthcare/src/data/uka/kispp/staff_data.py\u001b\\\u001b[2mstaff_data.py\u001b[0m\u001b]8;;\u001b\\\u001b[2m:\u001b[0m\u001b]8;id=509733;file:///workspaces/ai4healthcare/src/data/uka/kispp/staff_data.py#839\u001b\\\u001b[2m839\u001b[0m\u001b]8;;\u001b\\\n"
      ]
     },
     "metadata": {},
     "output_type": "display_data"
    },
    {
     "data": {
      "text/html": [
       "<pre style=\"white-space:pre;overflow-x:auto;line-height:normal;font-family:Menlo,'DejaVu Sans Mono',consolas,'Courier New',monospace\"><span style=\"color: #7fbfbf; text-decoration-color: #7fbfbf\">                    </span><span style=\"color: #000080; text-decoration-color: #000080\">INFO    </span> INFO:src.data.uka.kispp.staff_data:processing footer <span style=\"font-weight: bold\">(</span>patient/staff  <a href=\"file:///workspaces/ai4healthcare/src/data/uka/kispp/staff_data.py\" target=\"_blank\"><span style=\"color: #7f7f7f; text-decoration-color: #7f7f7f\">staff_data.py</span></a><span style=\"color: #7f7f7f; text-decoration-color: #7f7f7f\">:</span><a href=\"file:///workspaces/ai4healthcare/src/data/uka/kispp/staff_data.py#844\" target=\"_blank\"><span style=\"color: #7f7f7f; text-decoration-color: #7f7f7f\">844</span></a>\n",
       "<span style=\"color: #7fbfbf; text-decoration-color: #7fbfbf\">                    </span>         aggregations<span style=\"font-weight: bold\">)</span>                                                        <span style=\"color: #7f7f7f; text-decoration-color: #7f7f7f\">                 </span>\n",
       "</pre>\n"
      ],
      "text/plain": [
       "\u001b[2;36m                   \u001b[0m\u001b[2;36m \u001b[0m\u001b[34mINFO    \u001b[0m INFO:src.data.uka.kispp.staff_data:processing footer \u001b[1m(\u001b[0mpatient/staff  \u001b]8;id=881160;file:///workspaces/ai4healthcare/src/data/uka/kispp/staff_data.py\u001b\\\u001b[2mstaff_data.py\u001b[0m\u001b]8;;\u001b\\\u001b[2m:\u001b[0m\u001b]8;id=525606;file:///workspaces/ai4healthcare/src/data/uka/kispp/staff_data.py#844\u001b\\\u001b[2m844\u001b[0m\u001b]8;;\u001b\\\n",
       "\u001b[2;36m                    \u001b[0m         aggregations\u001b[1m)\u001b[0m                                                        \u001b[2m                 \u001b[0m\n"
      ]
     },
     "metadata": {},
     "output_type": "display_data"
    },
    {
     "data": {
      "text/html": [
       "<pre style=\"white-space:pre;overflow-x:auto;line-height:normal;font-family:Menlo,'DejaVu Sans Mono',consolas,'Courier New',monospace\"><span style=\"color: #7fbfbf; text-decoration-color: #7fbfbf\">                    </span><span style=\"color: #000080; text-decoration-color: #000080\">INFO    </span> INFO:src.data.uka.kispp.staff_data:merging shift details             <a href=\"file:///workspaces/ai4healthcare/src/data/uka/kispp/staff_data.py\" target=\"_blank\"><span style=\"color: #7f7f7f; text-decoration-color: #7f7f7f\">staff_data.py</span></a><span style=\"color: #7f7f7f; text-decoration-color: #7f7f7f\">:</span><a href=\"file:///workspaces/ai4healthcare/src/data/uka/kispp/staff_data.py#850\" target=\"_blank\"><span style=\"color: #7f7f7f; text-decoration-color: #7f7f7f\">850</span></a>\n",
       "</pre>\n"
      ],
      "text/plain": [
       "\u001b[2;36m                   \u001b[0m\u001b[2;36m \u001b[0m\u001b[34mINFO    \u001b[0m INFO:src.data.uka.kispp.staff_data:merging shift details             \u001b]8;id=6250;file:///workspaces/ai4healthcare/src/data/uka/kispp/staff_data.py\u001b\\\u001b[2mstaff_data.py\u001b[0m\u001b]8;;\u001b\\\u001b[2m:\u001b[0m\u001b]8;id=941902;file:///workspaces/ai4healthcare/src/data/uka/kispp/staff_data.py#850\u001b\\\u001b[2m850\u001b[0m\u001b]8;;\u001b\\\n"
      ]
     },
     "metadata": {},
     "output_type": "display_data"
    },
    {
     "name": "stderr",
     "output_type": "stream",
     "text": [
      "processing sheet 11.0 2022:  76%|███████▋  | 13/17 [00:07<00:02,  1.58it/s]"
     ]
    },
    {
     "data": {
      "text/html": [
       "<pre style=\"white-space:pre;overflow-x:auto;line-height:normal;font-family:Menlo,'DejaVu Sans Mono',consolas,'Courier New',monospace\"><span style=\"color: #7fbfbf; text-decoration-color: #7fbfbf\">                    </span><span style=\"color: #000080; text-decoration-color: #000080\">INFO    </span> INFO:src.data.uka.kispp.staff_data:processing multiline rows         <a href=\"file:///workspaces/ai4healthcare/src/data/uka/kispp/staff_data.py\" target=\"_blank\"><span style=\"color: #7f7f7f; text-decoration-color: #7f7f7f\">staff_data.py</span></a><span style=\"color: #7f7f7f; text-decoration-color: #7f7f7f\">:</span><a href=\"file:///workspaces/ai4healthcare/src/data/uka/kispp/staff_data.py#815\" target=\"_blank\"><span style=\"color: #7f7f7f; text-decoration-color: #7f7f7f\">815</span></a>\n",
       "</pre>\n"
      ],
      "text/plain": [
       "\u001b[2;36m                   \u001b[0m\u001b[2;36m \u001b[0m\u001b[34mINFO    \u001b[0m INFO:src.data.uka.kispp.staff_data:processing multiline rows         \u001b]8;id=518494;file:///workspaces/ai4healthcare/src/data/uka/kispp/staff_data.py\u001b\\\u001b[2mstaff_data.py\u001b[0m\u001b]8;;\u001b\\\u001b[2m:\u001b[0m\u001b]8;id=360075;file:///workspaces/ai4healthcare/src/data/uka/kispp/staff_data.py#815\u001b\\\u001b[2m815\u001b[0m\u001b]8;;\u001b\\\n"
      ]
     },
     "metadata": {},
     "output_type": "display_data"
    },
    {
     "data": {
      "text/html": [
       "<pre style=\"white-space:pre;overflow-x:auto;line-height:normal;font-family:Menlo,'DejaVu Sans Mono',consolas,'Courier New',monospace\"><span style=\"color: #7fbfbf; text-decoration-color: #7fbfbf\">[04/24/24 09:12:02] </span><span style=\"color: #000080; text-decoration-color: #000080\">INFO    </span> INFO:src.data.uka.kispp.staff_data:re-pivoting dataframes            <a href=\"file:///workspaces/ai4healthcare/src/data/uka/kispp/staff_data.py\" target=\"_blank\"><span style=\"color: #7f7f7f; text-decoration-color: #7f7f7f\">staff_data.py</span></a><span style=\"color: #7f7f7f; text-decoration-color: #7f7f7f\">:</span><a href=\"file:///workspaces/ai4healthcare/src/data/uka/kispp/staff_data.py#839\" target=\"_blank\"><span style=\"color: #7f7f7f; text-decoration-color: #7f7f7f\">839</span></a>\n",
       "</pre>\n"
      ],
      "text/plain": [
       "\u001b[2;36m[04/24/24 09:12:02]\u001b[0m\u001b[2;36m \u001b[0m\u001b[34mINFO    \u001b[0m INFO:src.data.uka.kispp.staff_data:re-pivoting dataframes            \u001b]8;id=54982;file:///workspaces/ai4healthcare/src/data/uka/kispp/staff_data.py\u001b\\\u001b[2mstaff_data.py\u001b[0m\u001b]8;;\u001b\\\u001b[2m:\u001b[0m\u001b]8;id=378164;file:///workspaces/ai4healthcare/src/data/uka/kispp/staff_data.py#839\u001b\\\u001b[2m839\u001b[0m\u001b]8;;\u001b\\\n"
      ]
     },
     "metadata": {},
     "output_type": "display_data"
    },
    {
     "data": {
      "text/html": [
       "<pre style=\"white-space:pre;overflow-x:auto;line-height:normal;font-family:Menlo,'DejaVu Sans Mono',consolas,'Courier New',monospace\"><span style=\"color: #7fbfbf; text-decoration-color: #7fbfbf\">                    </span><span style=\"color: #000080; text-decoration-color: #000080\">INFO    </span> INFO:src.data.uka.kispp.staff_data:processing footer <span style=\"font-weight: bold\">(</span>patient/staff  <a href=\"file:///workspaces/ai4healthcare/src/data/uka/kispp/staff_data.py\" target=\"_blank\"><span style=\"color: #7f7f7f; text-decoration-color: #7f7f7f\">staff_data.py</span></a><span style=\"color: #7f7f7f; text-decoration-color: #7f7f7f\">:</span><a href=\"file:///workspaces/ai4healthcare/src/data/uka/kispp/staff_data.py#844\" target=\"_blank\"><span style=\"color: #7f7f7f; text-decoration-color: #7f7f7f\">844</span></a>\n",
       "<span style=\"color: #7fbfbf; text-decoration-color: #7fbfbf\">                    </span>         aggregations<span style=\"font-weight: bold\">)</span>                                                        <span style=\"color: #7f7f7f; text-decoration-color: #7f7f7f\">                 </span>\n",
       "</pre>\n"
      ],
      "text/plain": [
       "\u001b[2;36m                   \u001b[0m\u001b[2;36m \u001b[0m\u001b[34mINFO    \u001b[0m INFO:src.data.uka.kispp.staff_data:processing footer \u001b[1m(\u001b[0mpatient/staff  \u001b]8;id=897372;file:///workspaces/ai4healthcare/src/data/uka/kispp/staff_data.py\u001b\\\u001b[2mstaff_data.py\u001b[0m\u001b]8;;\u001b\\\u001b[2m:\u001b[0m\u001b]8;id=441200;file:///workspaces/ai4healthcare/src/data/uka/kispp/staff_data.py#844\u001b\\\u001b[2m844\u001b[0m\u001b]8;;\u001b\\\n",
       "\u001b[2;36m                    \u001b[0m         aggregations\u001b[1m)\u001b[0m                                                        \u001b[2m                 \u001b[0m\n"
      ]
     },
     "metadata": {},
     "output_type": "display_data"
    },
    {
     "data": {
      "text/html": [
       "<pre style=\"white-space:pre;overflow-x:auto;line-height:normal;font-family:Menlo,'DejaVu Sans Mono',consolas,'Courier New',monospace\"><span style=\"color: #7fbfbf; text-decoration-color: #7fbfbf\">                    </span><span style=\"color: #000080; text-decoration-color: #000080\">INFO    </span> INFO:src.data.uka.kispp.staff_data:merging shift details             <a href=\"file:///workspaces/ai4healthcare/src/data/uka/kispp/staff_data.py\" target=\"_blank\"><span style=\"color: #7f7f7f; text-decoration-color: #7f7f7f\">staff_data.py</span></a><span style=\"color: #7f7f7f; text-decoration-color: #7f7f7f\">:</span><a href=\"file:///workspaces/ai4healthcare/src/data/uka/kispp/staff_data.py#850\" target=\"_blank\"><span style=\"color: #7f7f7f; text-decoration-color: #7f7f7f\">850</span></a>\n",
       "</pre>\n"
      ],
      "text/plain": [
       "\u001b[2;36m                   \u001b[0m\u001b[2;36m \u001b[0m\u001b[34mINFO    \u001b[0m INFO:src.data.uka.kispp.staff_data:merging shift details             \u001b]8;id=470859;file:///workspaces/ai4healthcare/src/data/uka/kispp/staff_data.py\u001b\\\u001b[2mstaff_data.py\u001b[0m\u001b]8;;\u001b\\\u001b[2m:\u001b[0m\u001b]8;id=359696;file:///workspaces/ai4healthcare/src/data/uka/kispp/staff_data.py#850\u001b\\\u001b[2m850\u001b[0m\u001b]8;;\u001b\\\n"
      ]
     },
     "metadata": {},
     "output_type": "display_data"
    },
    {
     "name": "stderr",
     "output_type": "stream",
     "text": [
      "processing sheet 11.4 1. HJ 22:  82%|████████▏ | 14/17 [00:08<00:02,  1.42it/s]"
     ]
    },
    {
     "data": {
      "text/html": [
       "<pre style=\"white-space:pre;overflow-x:auto;line-height:normal;font-family:Menlo,'DejaVu Sans Mono',consolas,'Courier New',monospace\"><span style=\"color: #7fbfbf; text-decoration-color: #7fbfbf\">                    </span><span style=\"color: #000080; text-decoration-color: #000080\">INFO    </span> INFO:src.data.uka.kispp.staff_data:processing multiline rows         <a href=\"file:///workspaces/ai4healthcare/src/data/uka/kispp/staff_data.py\" target=\"_blank\"><span style=\"color: #7f7f7f; text-decoration-color: #7f7f7f\">staff_data.py</span></a><span style=\"color: #7f7f7f; text-decoration-color: #7f7f7f\">:</span><a href=\"file:///workspaces/ai4healthcare/src/data/uka/kispp/staff_data.py#815\" target=\"_blank\"><span style=\"color: #7f7f7f; text-decoration-color: #7f7f7f\">815</span></a>\n",
       "</pre>\n"
      ],
      "text/plain": [
       "\u001b[2;36m                   \u001b[0m\u001b[2;36m \u001b[0m\u001b[34mINFO    \u001b[0m INFO:src.data.uka.kispp.staff_data:processing multiline rows         \u001b]8;id=189452;file:///workspaces/ai4healthcare/src/data/uka/kispp/staff_data.py\u001b\\\u001b[2mstaff_data.py\u001b[0m\u001b]8;;\u001b\\\u001b[2m:\u001b[0m\u001b]8;id=400948;file:///workspaces/ai4healthcare/src/data/uka/kispp/staff_data.py#815\u001b\\\u001b[2m815\u001b[0m\u001b]8;;\u001b\\\n"
      ]
     },
     "metadata": {},
     "output_type": "display_data"
    },
    {
     "data": {
      "text/html": [
       "<pre style=\"white-space:pre;overflow-x:auto;line-height:normal;font-family:Menlo,'DejaVu Sans Mono',consolas,'Courier New',monospace\"><span style=\"color: #7fbfbf; text-decoration-color: #7fbfbf\">[04/24/24 09:12:03] </span><span style=\"color: #000080; text-decoration-color: #000080\">INFO    </span> INFO:src.data.uka.kispp.staff_data:re-pivoting dataframes            <a href=\"file:///workspaces/ai4healthcare/src/data/uka/kispp/staff_data.py\" target=\"_blank\"><span style=\"color: #7f7f7f; text-decoration-color: #7f7f7f\">staff_data.py</span></a><span style=\"color: #7f7f7f; text-decoration-color: #7f7f7f\">:</span><a href=\"file:///workspaces/ai4healthcare/src/data/uka/kispp/staff_data.py#839\" target=\"_blank\"><span style=\"color: #7f7f7f; text-decoration-color: #7f7f7f\">839</span></a>\n",
       "</pre>\n"
      ],
      "text/plain": [
       "\u001b[2;36m[04/24/24 09:12:03]\u001b[0m\u001b[2;36m \u001b[0m\u001b[34mINFO    \u001b[0m INFO:src.data.uka.kispp.staff_data:re-pivoting dataframes            \u001b]8;id=393567;file:///workspaces/ai4healthcare/src/data/uka/kispp/staff_data.py\u001b\\\u001b[2mstaff_data.py\u001b[0m\u001b]8;;\u001b\\\u001b[2m:\u001b[0m\u001b]8;id=524785;file:///workspaces/ai4healthcare/src/data/uka/kispp/staff_data.py#839\u001b\\\u001b[2m839\u001b[0m\u001b]8;;\u001b\\\n"
      ]
     },
     "metadata": {},
     "output_type": "display_data"
    },
    {
     "data": {
      "text/html": [
       "<pre style=\"white-space:pre;overflow-x:auto;line-height:normal;font-family:Menlo,'DejaVu Sans Mono',consolas,'Courier New',monospace\"><span style=\"color: #7fbfbf; text-decoration-color: #7fbfbf\">                    </span><span style=\"color: #000080; text-decoration-color: #000080\">INFO    </span> INFO:src.data.uka.kispp.staff_data:processing footer <span style=\"font-weight: bold\">(</span>patient/staff  <a href=\"file:///workspaces/ai4healthcare/src/data/uka/kispp/staff_data.py\" target=\"_blank\"><span style=\"color: #7f7f7f; text-decoration-color: #7f7f7f\">staff_data.py</span></a><span style=\"color: #7f7f7f; text-decoration-color: #7f7f7f\">:</span><a href=\"file:///workspaces/ai4healthcare/src/data/uka/kispp/staff_data.py#844\" target=\"_blank\"><span style=\"color: #7f7f7f; text-decoration-color: #7f7f7f\">844</span></a>\n",
       "<span style=\"color: #7fbfbf; text-decoration-color: #7fbfbf\">                    </span>         aggregations<span style=\"font-weight: bold\">)</span>                                                        <span style=\"color: #7f7f7f; text-decoration-color: #7f7f7f\">                 </span>\n",
       "</pre>\n"
      ],
      "text/plain": [
       "\u001b[2;36m                   \u001b[0m\u001b[2;36m \u001b[0m\u001b[34mINFO    \u001b[0m INFO:src.data.uka.kispp.staff_data:processing footer \u001b[1m(\u001b[0mpatient/staff  \u001b]8;id=897928;file:///workspaces/ai4healthcare/src/data/uka/kispp/staff_data.py\u001b\\\u001b[2mstaff_data.py\u001b[0m\u001b]8;;\u001b\\\u001b[2m:\u001b[0m\u001b]8;id=586185;file:///workspaces/ai4healthcare/src/data/uka/kispp/staff_data.py#844\u001b\\\u001b[2m844\u001b[0m\u001b]8;;\u001b\\\n",
       "\u001b[2;36m                    \u001b[0m         aggregations\u001b[1m)\u001b[0m                                                        \u001b[2m                 \u001b[0m\n"
      ]
     },
     "metadata": {},
     "output_type": "display_data"
    },
    {
     "data": {
      "text/html": [
       "<pre style=\"white-space:pre;overflow-x:auto;line-height:normal;font-family:Menlo,'DejaVu Sans Mono',consolas,'Courier New',monospace\"><span style=\"color: #7fbfbf; text-decoration-color: #7fbfbf\">                    </span><span style=\"color: #000080; text-decoration-color: #000080\">INFO    </span> INFO:src.data.uka.kispp.staff_data:merging shift details             <a href=\"file:///workspaces/ai4healthcare/src/data/uka/kispp/staff_data.py\" target=\"_blank\"><span style=\"color: #7f7f7f; text-decoration-color: #7f7f7f\">staff_data.py</span></a><span style=\"color: #7f7f7f; text-decoration-color: #7f7f7f\">:</span><a href=\"file:///workspaces/ai4healthcare/src/data/uka/kispp/staff_data.py#850\" target=\"_blank\"><span style=\"color: #7f7f7f; text-decoration-color: #7f7f7f\">850</span></a>\n",
       "</pre>\n"
      ],
      "text/plain": [
       "\u001b[2;36m                   \u001b[0m\u001b[2;36m \u001b[0m\u001b[34mINFO    \u001b[0m INFO:src.data.uka.kispp.staff_data:merging shift details             \u001b]8;id=310272;file:///workspaces/ai4healthcare/src/data/uka/kispp/staff_data.py\u001b\\\u001b[2mstaff_data.py\u001b[0m\u001b]8;;\u001b\\\u001b[2m:\u001b[0m\u001b]8;id=128268;file:///workspaces/ai4healthcare/src/data/uka/kispp/staff_data.py#850\u001b\\\u001b[2m850\u001b[0m\u001b]8;;\u001b\\\n"
      ]
     },
     "metadata": {},
     "output_type": "display_data"
    },
    {
     "name": "stderr",
     "output_type": "stream",
     "text": [
      "processing sheet 11.4 1. HJ 23:  88%|████████▊ | 15/17 [00:08<00:01,  1.52it/s]"
     ]
    },
    {
     "data": {
      "text/html": [
       "<pre style=\"white-space:pre;overflow-x:auto;line-height:normal;font-family:Menlo,'DejaVu Sans Mono',consolas,'Courier New',monospace\"><span style=\"color: #7fbfbf; text-decoration-color: #7fbfbf\">                    </span><span style=\"color: #000080; text-decoration-color: #000080\">INFO    </span> INFO:src.data.uka.kispp.staff_data:processing multiline rows         <a href=\"file:///workspaces/ai4healthcare/src/data/uka/kispp/staff_data.py\" target=\"_blank\"><span style=\"color: #7f7f7f; text-decoration-color: #7f7f7f\">staff_data.py</span></a><span style=\"color: #7f7f7f; text-decoration-color: #7f7f7f\">:</span><a href=\"file:///workspaces/ai4healthcare/src/data/uka/kispp/staff_data.py#815\" target=\"_blank\"><span style=\"color: #7f7f7f; text-decoration-color: #7f7f7f\">815</span></a>\n",
       "</pre>\n"
      ],
      "text/plain": [
       "\u001b[2;36m                   \u001b[0m\u001b[2;36m \u001b[0m\u001b[34mINFO    \u001b[0m INFO:src.data.uka.kispp.staff_data:processing multiline rows         \u001b]8;id=634861;file:///workspaces/ai4healthcare/src/data/uka/kispp/staff_data.py\u001b\\\u001b[2mstaff_data.py\u001b[0m\u001b]8;;\u001b\\\u001b[2m:\u001b[0m\u001b]8;id=337886;file:///workspaces/ai4healthcare/src/data/uka/kispp/staff_data.py#815\u001b\\\u001b[2m815\u001b[0m\u001b]8;;\u001b\\\n"
      ]
     },
     "metadata": {},
     "output_type": "display_data"
    },
    {
     "data": {
      "text/html": [
       "<pre style=\"white-space:pre;overflow-x:auto;line-height:normal;font-family:Menlo,'DejaVu Sans Mono',consolas,'Courier New',monospace\"><span style=\"color: #7fbfbf; text-decoration-color: #7fbfbf\">                    </span><span style=\"color: #000080; text-decoration-color: #000080\">INFO    </span> INFO:src.data.uka.kispp.staff_data:re-pivoting dataframes            <a href=\"file:///workspaces/ai4healthcare/src/data/uka/kispp/staff_data.py\" target=\"_blank\"><span style=\"color: #7f7f7f; text-decoration-color: #7f7f7f\">staff_data.py</span></a><span style=\"color: #7f7f7f; text-decoration-color: #7f7f7f\">:</span><a href=\"file:///workspaces/ai4healthcare/src/data/uka/kispp/staff_data.py#839\" target=\"_blank\"><span style=\"color: #7f7f7f; text-decoration-color: #7f7f7f\">839</span></a>\n",
       "</pre>\n"
      ],
      "text/plain": [
       "\u001b[2;36m                   \u001b[0m\u001b[2;36m \u001b[0m\u001b[34mINFO    \u001b[0m INFO:src.data.uka.kispp.staff_data:re-pivoting dataframes            \u001b]8;id=614432;file:///workspaces/ai4healthcare/src/data/uka/kispp/staff_data.py\u001b\\\u001b[2mstaff_data.py\u001b[0m\u001b]8;;\u001b\\\u001b[2m:\u001b[0m\u001b]8;id=407285;file:///workspaces/ai4healthcare/src/data/uka/kispp/staff_data.py#839\u001b\\\u001b[2m839\u001b[0m\u001b]8;;\u001b\\\n"
      ]
     },
     "metadata": {},
     "output_type": "display_data"
    },
    {
     "data": {
      "text/html": [
       "<pre style=\"white-space:pre;overflow-x:auto;line-height:normal;font-family:Menlo,'DejaVu Sans Mono',consolas,'Courier New',monospace\"><span style=\"color: #7fbfbf; text-decoration-color: #7fbfbf\">                    </span><span style=\"color: #000080; text-decoration-color: #000080\">INFO    </span> INFO:src.data.uka.kispp.staff_data:processing footer <span style=\"font-weight: bold\">(</span>patient/staff  <a href=\"file:///workspaces/ai4healthcare/src/data/uka/kispp/staff_data.py\" target=\"_blank\"><span style=\"color: #7f7f7f; text-decoration-color: #7f7f7f\">staff_data.py</span></a><span style=\"color: #7f7f7f; text-decoration-color: #7f7f7f\">:</span><a href=\"file:///workspaces/ai4healthcare/src/data/uka/kispp/staff_data.py#844\" target=\"_blank\"><span style=\"color: #7f7f7f; text-decoration-color: #7f7f7f\">844</span></a>\n",
       "<span style=\"color: #7fbfbf; text-decoration-color: #7fbfbf\">                    </span>         aggregations<span style=\"font-weight: bold\">)</span>                                                        <span style=\"color: #7f7f7f; text-decoration-color: #7f7f7f\">                 </span>\n",
       "</pre>\n"
      ],
      "text/plain": [
       "\u001b[2;36m                   \u001b[0m\u001b[2;36m \u001b[0m\u001b[34mINFO    \u001b[0m INFO:src.data.uka.kispp.staff_data:processing footer \u001b[1m(\u001b[0mpatient/staff  \u001b]8;id=802784;file:///workspaces/ai4healthcare/src/data/uka/kispp/staff_data.py\u001b\\\u001b[2mstaff_data.py\u001b[0m\u001b]8;;\u001b\\\u001b[2m:\u001b[0m\u001b]8;id=740652;file:///workspaces/ai4healthcare/src/data/uka/kispp/staff_data.py#844\u001b\\\u001b[2m844\u001b[0m\u001b]8;;\u001b\\\n",
       "\u001b[2;36m                    \u001b[0m         aggregations\u001b[1m)\u001b[0m                                                        \u001b[2m                 \u001b[0m\n"
      ]
     },
     "metadata": {},
     "output_type": "display_data"
    },
    {
     "data": {
      "text/html": [
       "<pre style=\"white-space:pre;overflow-x:auto;line-height:normal;font-family:Menlo,'DejaVu Sans Mono',consolas,'Courier New',monospace\"><span style=\"color: #7fbfbf; text-decoration-color: #7fbfbf\">                    </span><span style=\"color: #000080; text-decoration-color: #000080\">INFO    </span> INFO:src.data.uka.kispp.staff_data:merging shift details             <a href=\"file:///workspaces/ai4healthcare/src/data/uka/kispp/staff_data.py\" target=\"_blank\"><span style=\"color: #7f7f7f; text-decoration-color: #7f7f7f\">staff_data.py</span></a><span style=\"color: #7f7f7f; text-decoration-color: #7f7f7f\">:</span><a href=\"file:///workspaces/ai4healthcare/src/data/uka/kispp/staff_data.py#850\" target=\"_blank\"><span style=\"color: #7f7f7f; text-decoration-color: #7f7f7f\">850</span></a>\n",
       "</pre>\n"
      ],
      "text/plain": [
       "\u001b[2;36m                   \u001b[0m\u001b[2;36m \u001b[0m\u001b[34mINFO    \u001b[0m INFO:src.data.uka.kispp.staff_data:merging shift details             \u001b]8;id=278831;file:///workspaces/ai4healthcare/src/data/uka/kispp/staff_data.py\u001b\\\u001b[2mstaff_data.py\u001b[0m\u001b]8;;\u001b\\\u001b[2m:\u001b[0m\u001b]8;id=881694;file:///workspaces/ai4healthcare/src/data/uka/kispp/staff_data.py#850\u001b\\\u001b[2m850\u001b[0m\u001b]8;;\u001b\\\n"
      ]
     },
     "metadata": {},
     "output_type": "display_data"
    },
    {
     "name": "stderr",
     "output_type": "stream",
     "text": [
      "processing sheet 11.4 2. HJ 22:  94%|█████████▍| 16/17 [00:09<00:00,  1.60it/s]"
     ]
    },
    {
     "data": {
      "text/html": [
       "<pre style=\"white-space:pre;overflow-x:auto;line-height:normal;font-family:Menlo,'DejaVu Sans Mono',consolas,'Courier New',monospace\"><span style=\"color: #7fbfbf; text-decoration-color: #7fbfbf\">                    </span><span style=\"color: #000080; text-decoration-color: #000080\">INFO    </span> INFO:src.data.uka.kispp.staff_data:processing multiline rows         <a href=\"file:///workspaces/ai4healthcare/src/data/uka/kispp/staff_data.py\" target=\"_blank\"><span style=\"color: #7f7f7f; text-decoration-color: #7f7f7f\">staff_data.py</span></a><span style=\"color: #7f7f7f; text-decoration-color: #7f7f7f\">:</span><a href=\"file:///workspaces/ai4healthcare/src/data/uka/kispp/staff_data.py#815\" target=\"_blank\"><span style=\"color: #7f7f7f; text-decoration-color: #7f7f7f\">815</span></a>\n",
       "</pre>\n"
      ],
      "text/plain": [
       "\u001b[2;36m                   \u001b[0m\u001b[2;36m \u001b[0m\u001b[34mINFO    \u001b[0m INFO:src.data.uka.kispp.staff_data:processing multiline rows         \u001b]8;id=260480;file:///workspaces/ai4healthcare/src/data/uka/kispp/staff_data.py\u001b\\\u001b[2mstaff_data.py\u001b[0m\u001b]8;;\u001b\\\u001b[2m:\u001b[0m\u001b]8;id=994876;file:///workspaces/ai4healthcare/src/data/uka/kispp/staff_data.py#815\u001b\\\u001b[2m815\u001b[0m\u001b]8;;\u001b\\\n"
      ]
     },
     "metadata": {},
     "output_type": "display_data"
    },
    {
     "data": {
      "text/html": [
       "<pre style=\"white-space:pre;overflow-x:auto;line-height:normal;font-family:Menlo,'DejaVu Sans Mono',consolas,'Courier New',monospace\"><span style=\"color: #7fbfbf; text-decoration-color: #7fbfbf\">[04/24/24 09:12:04] </span><span style=\"color: #000080; text-decoration-color: #000080\">INFO    </span> INFO:src.data.uka.kispp.staff_data:re-pivoting dataframes            <a href=\"file:///workspaces/ai4healthcare/src/data/uka/kispp/staff_data.py\" target=\"_blank\"><span style=\"color: #7f7f7f; text-decoration-color: #7f7f7f\">staff_data.py</span></a><span style=\"color: #7f7f7f; text-decoration-color: #7f7f7f\">:</span><a href=\"file:///workspaces/ai4healthcare/src/data/uka/kispp/staff_data.py#839\" target=\"_blank\"><span style=\"color: #7f7f7f; text-decoration-color: #7f7f7f\">839</span></a>\n",
       "</pre>\n"
      ],
      "text/plain": [
       "\u001b[2;36m[04/24/24 09:12:04]\u001b[0m\u001b[2;36m \u001b[0m\u001b[34mINFO    \u001b[0m INFO:src.data.uka.kispp.staff_data:re-pivoting dataframes            \u001b]8;id=949446;file:///workspaces/ai4healthcare/src/data/uka/kispp/staff_data.py\u001b\\\u001b[2mstaff_data.py\u001b[0m\u001b]8;;\u001b\\\u001b[2m:\u001b[0m\u001b]8;id=967863;file:///workspaces/ai4healthcare/src/data/uka/kispp/staff_data.py#839\u001b\\\u001b[2m839\u001b[0m\u001b]8;;\u001b\\\n"
      ]
     },
     "metadata": {},
     "output_type": "display_data"
    },
    {
     "data": {
      "text/html": [
       "<pre style=\"white-space:pre;overflow-x:auto;line-height:normal;font-family:Menlo,'DejaVu Sans Mono',consolas,'Courier New',monospace\"><span style=\"color: #7fbfbf; text-decoration-color: #7fbfbf\">                    </span><span style=\"color: #000080; text-decoration-color: #000080\">INFO    </span> INFO:src.data.uka.kispp.staff_data:processing footer <span style=\"font-weight: bold\">(</span>patient/staff  <a href=\"file:///workspaces/ai4healthcare/src/data/uka/kispp/staff_data.py\" target=\"_blank\"><span style=\"color: #7f7f7f; text-decoration-color: #7f7f7f\">staff_data.py</span></a><span style=\"color: #7f7f7f; text-decoration-color: #7f7f7f\">:</span><a href=\"file:///workspaces/ai4healthcare/src/data/uka/kispp/staff_data.py#844\" target=\"_blank\"><span style=\"color: #7f7f7f; text-decoration-color: #7f7f7f\">844</span></a>\n",
       "<span style=\"color: #7fbfbf; text-decoration-color: #7fbfbf\">                    </span>         aggregations<span style=\"font-weight: bold\">)</span>                                                        <span style=\"color: #7f7f7f; text-decoration-color: #7f7f7f\">                 </span>\n",
       "</pre>\n"
      ],
      "text/plain": [
       "\u001b[2;36m                   \u001b[0m\u001b[2;36m \u001b[0m\u001b[34mINFO    \u001b[0m INFO:src.data.uka.kispp.staff_data:processing footer \u001b[1m(\u001b[0mpatient/staff  \u001b]8;id=129330;file:///workspaces/ai4healthcare/src/data/uka/kispp/staff_data.py\u001b\\\u001b[2mstaff_data.py\u001b[0m\u001b]8;;\u001b\\\u001b[2m:\u001b[0m\u001b]8;id=20879;file:///workspaces/ai4healthcare/src/data/uka/kispp/staff_data.py#844\u001b\\\u001b[2m844\u001b[0m\u001b]8;;\u001b\\\n",
       "\u001b[2;36m                    \u001b[0m         aggregations\u001b[1m)\u001b[0m                                                        \u001b[2m                 \u001b[0m\n"
      ]
     },
     "metadata": {},
     "output_type": "display_data"
    },
    {
     "data": {
      "text/html": [
       "<pre style=\"white-space:pre;overflow-x:auto;line-height:normal;font-family:Menlo,'DejaVu Sans Mono',consolas,'Courier New',monospace\"><span style=\"color: #7fbfbf; text-decoration-color: #7fbfbf\">                    </span><span style=\"color: #000080; text-decoration-color: #000080\">INFO    </span> INFO:src.data.uka.kispp.staff_data:merging shift details             <a href=\"file:///workspaces/ai4healthcare/src/data/uka/kispp/staff_data.py\" target=\"_blank\"><span style=\"color: #7f7f7f; text-decoration-color: #7f7f7f\">staff_data.py</span></a><span style=\"color: #7f7f7f; text-decoration-color: #7f7f7f\">:</span><a href=\"file:///workspaces/ai4healthcare/src/data/uka/kispp/staff_data.py#850\" target=\"_blank\"><span style=\"color: #7f7f7f; text-decoration-color: #7f7f7f\">850</span></a>\n",
       "</pre>\n"
      ],
      "text/plain": [
       "\u001b[2;36m                   \u001b[0m\u001b[2;36m \u001b[0m\u001b[34mINFO    \u001b[0m INFO:src.data.uka.kispp.staff_data:merging shift details             \u001b]8;id=138296;file:///workspaces/ai4healthcare/src/data/uka/kispp/staff_data.py\u001b\\\u001b[2mstaff_data.py\u001b[0m\u001b]8;;\u001b\\\u001b[2m:\u001b[0m\u001b]8;id=500508;file:///workspaces/ai4healthcare/src/data/uka/kispp/staff_data.py#850\u001b\\\u001b[2m850\u001b[0m\u001b]8;;\u001b\\\n"
      ]
     },
     "metadata": {},
     "output_type": "display_data"
    },
    {
     "name": "stderr",
     "output_type": "stream",
     "text": [
      "processing sheet 11.4 2. HJ 22: 100%|██████████| 17/17 [00:09<00:00,  1.73it/s]\n"
     ]
    },
    {
     "data": {
      "text/html": [
       "<pre style=\"white-space:pre;overflow-x:auto;line-height:normal;font-family:Menlo,'DejaVu Sans Mono',consolas,'Courier New',monospace\"><span style=\"color: #7fbfbf; text-decoration-color: #7fbfbf\">[04/24/24 09:12:06] </span><span style=\"color: #000080; text-decoration-color: #000080\">INFO    </span> INFO:src.data.uka.kispp.staff_data:resampling demand/supply data      <a href=\"file:///workspaces/ai4healthcare/src/data/uka/kispp/staff_data.py\" target=\"_blank\"><span style=\"color: #7f7f7f; text-decoration-color: #7f7f7f\">staff_data.py</span></a><span style=\"color: #7f7f7f; text-decoration-color: #7f7f7f\">:</span><a href=\"file:///workspaces/ai4healthcare/src/data/uka/kispp/staff_data.py#67\" target=\"_blank\"><span style=\"color: #7f7f7f; text-decoration-color: #7f7f7f\">67</span></a>\n",
       "<span style=\"color: #7fbfbf; text-decoration-color: #7fbfbf\">                    </span>         accoring to: D rule                                                   <span style=\"color: #7f7f7f; text-decoration-color: #7f7f7f\">                </span>\n",
       "</pre>\n"
      ],
      "text/plain": [
       "\u001b[2;36m[04/24/24 09:12:06]\u001b[0m\u001b[2;36m \u001b[0m\u001b[34mINFO    \u001b[0m INFO:src.data.uka.kispp.staff_data:resampling demand/supply data      \u001b]8;id=341669;file:///workspaces/ai4healthcare/src/data/uka/kispp/staff_data.py\u001b\\\u001b[2mstaff_data.py\u001b[0m\u001b]8;;\u001b\\\u001b[2m:\u001b[0m\u001b]8;id=912751;file:///workspaces/ai4healthcare/src/data/uka/kispp/staff_data.py#67\u001b\\\u001b[2m67\u001b[0m\u001b]8;;\u001b\\\n",
       "\u001b[2;36m                    \u001b[0m         accoring to: D rule                                                   \u001b[2m                \u001b[0m\n"
      ]
     },
     "metadata": {},
     "output_type": "display_data"
    },
    {
     "data": {
      "text/html": [
       "<pre style=\"white-space:pre;overflow-x:auto;line-height:normal;font-family:Menlo,'DejaVu Sans Mono',consolas,'Courier New',monospace\"><span style=\"color: #7fbfbf; text-decoration-color: #7fbfbf\">[04/24/24 09:12:08] </span><span style=\"color: #000080; text-decoration-color: #000080\">INFO    </span> INFO:root:trying to load or build `interval_staff_capacity_*` dataframe   <a href=\"file:///workspaces/ai4healthcare/src/data/utils.py\" target=\"_blank\"><span style=\"color: #7f7f7f; text-decoration-color: #7f7f7f\">utils.py</span></a><span style=\"color: #7f7f7f; text-decoration-color: #7f7f7f\">:</span><a href=\"file:///workspaces/ai4healthcare/src/data/utils.py#200\" target=\"_blank\"><span style=\"color: #7f7f7f; text-decoration-color: #7f7f7f\">200</span></a>\n",
       "</pre>\n"
      ],
      "text/plain": [
       "\u001b[2;36m[04/24/24 09:12:08]\u001b[0m\u001b[2;36m \u001b[0m\u001b[34mINFO    \u001b[0m INFO:root:trying to load or build `interval_staff_capacity_*` dataframe   \u001b]8;id=626723;file:///workspaces/ai4healthcare/src/data/utils.py\u001b\\\u001b[2mutils.py\u001b[0m\u001b]8;;\u001b\\\u001b[2m:\u001b[0m\u001b]8;id=905905;file:///workspaces/ai4healthcare/src/data/utils.py#200\u001b\\\u001b[2m200\u001b[0m\u001b]8;;\u001b\\\n"
      ]
     },
     "metadata": {},
     "output_type": "display_data"
    },
    {
     "data": {
      "text/html": [
       "<pre style=\"white-space:pre;overflow-x:auto;line-height:normal;font-family:Menlo,'DejaVu Sans Mono',consolas,'Courier New',monospace\"><span style=\"color: #7fbfbf; text-decoration-color: #7fbfbf\">                    </span><span style=\"color: #000080; text-decoration-color: #000080\">INFO    </span> INFO:root:Load Dataframe interval_staff_capacity_*                        <a href=\"file:///workspaces/ai4healthcare/src/data/utils.py\" target=\"_blank\"><span style=\"color: #7f7f7f; text-decoration-color: #7f7f7f\">utils.py</span></a><span style=\"color: #7f7f7f; text-decoration-color: #7f7f7f\">:</span><a href=\"file:///workspaces/ai4healthcare/src/data/utils.py#264\" target=\"_blank\"><span style=\"color: #7f7f7f; text-decoration-color: #7f7f7f\">264</span></a>\n",
       "</pre>\n"
      ],
      "text/plain": [
       "\u001b[2;36m                   \u001b[0m\u001b[2;36m \u001b[0m\u001b[34mINFO    \u001b[0m INFO:root:Load Dataframe interval_staff_capacity_*                        \u001b]8;id=953374;file:///workspaces/ai4healthcare/src/data/utils.py\u001b\\\u001b[2mutils.py\u001b[0m\u001b]8;;\u001b\\\u001b[2m:\u001b[0m\u001b]8;id=930635;file:///workspaces/ai4healthcare/src/data/utils.py#264\u001b\\\u001b[2m264\u001b[0m\u001b]8;;\u001b\\\n"
      ]
     },
     "metadata": {},
     "output_type": "display_data"
    },
    {
     "data": {
      "text/html": [
       "<pre style=\"white-space:pre;overflow-x:auto;line-height:normal;font-family:Menlo,'DejaVu Sans Mono',consolas,'Courier New',monospace\"><span style=\"color: #7fbfbf; text-decoration-color: #7fbfbf\">                    </span><span style=\"color: #000080; text-decoration-color: #000080\">INFO    </span> INFO:src.data.uka.kispp.staff_dat<span style=\"color: #00ff00; text-decoration-color: #00ff00; font-weight: bold\">a:f</span>ound public holidays file:       <a href=\"file:///workspaces/ai4healthcare/src/data/uka/kispp/staff_data.py\" target=\"_blank\"><span style=\"color: #7f7f7f; text-decoration-color: #7f7f7f\">staff_data.py</span></a><span style=\"color: #7f7f7f; text-decoration-color: #7f7f7f\">:</span><a href=\"file:///workspaces/ai4healthcare/src/data/uka/kispp/staff_data.py#456\" target=\"_blank\"><span style=\"color: #7f7f7f; text-decoration-color: #7f7f7f\">456</span></a>\n",
       "<span style=\"color: #7fbfbf; text-decoration-color: #7fbfbf\">                    </span>         <span style=\"color: #800080; text-decoration-color: #800080\">/workspaces/ai4healthcare/data/external/kispp/</span><span style=\"color: #ff00ff; text-decoration-color: #ff00ff\">public_holidays_1.json</span> <span style=\"color: #7f7f7f; text-decoration-color: #7f7f7f\">                 </span>\n",
       "</pre>\n"
      ],
      "text/plain": [
       "\u001b[2;36m                   \u001b[0m\u001b[2;36m \u001b[0m\u001b[34mINFO    \u001b[0m INFO:src.data.uka.kispp.staff_dat\u001b[1;92ma:f\u001b[0mound public holidays file:       \u001b]8;id=608283;file:///workspaces/ai4healthcare/src/data/uka/kispp/staff_data.py\u001b\\\u001b[2mstaff_data.py\u001b[0m\u001b]8;;\u001b\\\u001b[2m:\u001b[0m\u001b]8;id=944678;file:///workspaces/ai4healthcare/src/data/uka/kispp/staff_data.py#456\u001b\\\u001b[2m456\u001b[0m\u001b]8;;\u001b\\\n",
       "\u001b[2;36m                    \u001b[0m         \u001b[35m/workspaces/ai4healthcare/data/external/kispp/\u001b[0m\u001b[95mpublic_holidays_1.json\u001b[0m \u001b[2m                 \u001b[0m\n"
      ]
     },
     "metadata": {},
     "output_type": "display_data"
    },
    {
     "data": {
      "text/html": [
       "<pre style=\"white-space:pre;overflow-x:auto;line-height:normal;font-family:Menlo,'DejaVu Sans Mono',consolas,'Courier New',monospace\"><span style=\"color: #7fbfbf; text-decoration-color: #7fbfbf\">                    </span><span style=\"color: #000080; text-decoration-color: #000080\">INFO    </span> INFO:src.data.uka.kispp.staff_dat<span style=\"color: #00ff00; text-decoration-color: #00ff00; font-weight: bold\">a:f</span>ound school holidays file:       <a href=\"file:///workspaces/ai4healthcare/src/data/uka/kispp/staff_data.py\" target=\"_blank\"><span style=\"color: #7f7f7f; text-decoration-color: #7f7f7f\">staff_data.py</span></a><span style=\"color: #7f7f7f; text-decoration-color: #7f7f7f\">:</span><a href=\"file:///workspaces/ai4healthcare/src/data/uka/kispp/staff_data.py#464\" target=\"_blank\"><span style=\"color: #7f7f7f; text-decoration-color: #7f7f7f\">464</span></a>\n",
       "<span style=\"color: #7fbfbf; text-decoration-color: #7fbfbf\">                    </span>         <span style=\"color: #800080; text-decoration-color: #800080\">/workspaces/ai4healthcare/data/external/kispp/</span><span style=\"color: #ff00ff; text-decoration-color: #ff00ff\">school_holidays_240325</span> <span style=\"color: #7f7f7f; text-decoration-color: #7f7f7f\">                 </span>\n",
       "<span style=\"color: #7fbfbf; text-decoration-color: #7fbfbf\">                    </span>         <span style=\"color: #ff00ff; text-decoration-color: #ff00ff\">.json</span>                                                                <span style=\"color: #7f7f7f; text-decoration-color: #7f7f7f\">                 </span>\n",
       "</pre>\n"
      ],
      "text/plain": [
       "\u001b[2;36m                   \u001b[0m\u001b[2;36m \u001b[0m\u001b[34mINFO    \u001b[0m INFO:src.data.uka.kispp.staff_dat\u001b[1;92ma:f\u001b[0mound school holidays file:       \u001b]8;id=721409;file:///workspaces/ai4healthcare/src/data/uka/kispp/staff_data.py\u001b\\\u001b[2mstaff_data.py\u001b[0m\u001b]8;;\u001b\\\u001b[2m:\u001b[0m\u001b]8;id=930847;file:///workspaces/ai4healthcare/src/data/uka/kispp/staff_data.py#464\u001b\\\u001b[2m464\u001b[0m\u001b]8;;\u001b\\\n",
       "\u001b[2;36m                    \u001b[0m         \u001b[35m/workspaces/ai4healthcare/data/external/kispp/\u001b[0m\u001b[95mschool_holidays_240325\u001b[0m \u001b[2m                 \u001b[0m\n",
       "\u001b[2;36m                    \u001b[0m         \u001b[95m.json\u001b[0m                                                                \u001b[2m                 \u001b[0m\n"
      ]
     },
     "metadata": {},
     "output_type": "display_data"
    },
    {
     "name": "stdout",
     "output_type": "stream",
     "text": [
      "found influenza occurrences file: /workspaces/ai4healthcare/data/external/kispp/IfSG_Influenzafaelle (1).tsv\n",
      "found are/ili occurences file: /workspaces/ai4healthcare/data/external/kispp/GrippeWeb_Daten_des_Wochenberichts.tsv\n"
     ]
    },
    {
     "data": {
      "text/html": [
       "<pre style=\"white-space:pre;overflow-x:auto;line-height:normal;font-family:Menlo,'DejaVu Sans Mono',consolas,'Courier New',monospace\"><span style=\"color: #7fbfbf; text-decoration-color: #7fbfbf\">[04/24/24 09:12:10] </span><span style=\"color: #000080; text-decoration-color: #000080\">INFO    </span> INFO:root:Saved to                                                        <a href=\"file:///workspaces/ai4healthcare/src/data/utils.py\" target=\"_blank\"><span style=\"color: #7f7f7f; text-decoration-color: #7f7f7f\">utils.py</span></a><span style=\"color: #7f7f7f; text-decoration-color: #7f7f7f\">:</span><a href=\"file:///workspaces/ai4healthcare/src/data/utils.py#285\" target=\"_blank\"><span style=\"color: #7f7f7f; text-decoration-color: #7f7f7f\">285</span></a>\n",
       "<span style=\"color: #7fbfbf; text-decoration-color: #7fbfbf\">                    </span>         <span style=\"color: #800080; text-decoration-color: #800080\">/workspaces/ai4healthcare/data/processed/kispp/</span><span style=\"color: #ff00ff; text-decoration-color: #ff00ff\">exog_interval_staff_capaci</span> <span style=\"color: #7f7f7f; text-decoration-color: #7f7f7f\">            </span>\n",
       "<span style=\"color: #7fbfbf; text-decoration-color: #7fbfbf\">                    </span>         <span style=\"color: #ff00ff; text-decoration-color: #ff00ff\">ty_20240424.feather</span>                                                       <span style=\"color: #7f7f7f; text-decoration-color: #7f7f7f\">            </span>\n",
       "</pre>\n"
      ],
      "text/plain": [
       "\u001b[2;36m[04/24/24 09:12:10]\u001b[0m\u001b[2;36m \u001b[0m\u001b[34mINFO    \u001b[0m INFO:root:Saved to                                                        \u001b]8;id=436267;file:///workspaces/ai4healthcare/src/data/utils.py\u001b\\\u001b[2mutils.py\u001b[0m\u001b]8;;\u001b\\\u001b[2m:\u001b[0m\u001b]8;id=374997;file:///workspaces/ai4healthcare/src/data/utils.py#285\u001b\\\u001b[2m285\u001b[0m\u001b]8;;\u001b\\\n",
       "\u001b[2;36m                    \u001b[0m         \u001b[35m/workspaces/ai4healthcare/data/processed/kispp/\u001b[0m\u001b[95mexog_interval_staff_capaci\u001b[0m \u001b[2m            \u001b[0m\n",
       "\u001b[2;36m                    \u001b[0m         \u001b[95mty_20240424.feather\u001b[0m                                                       \u001b[2m            \u001b[0m\n"
      ]
     },
     "metadata": {},
     "output_type": "display_data"
    },
    {
     "data": {
      "text/html": [
       "<pre style=\"white-space:pre;overflow-x:auto;line-height:normal;font-family:Menlo,'DejaVu Sans Mono',consolas,'Courier New',monospace\"><span style=\"color: #7fbfbf; text-decoration-color: #7fbfbf\">                    </span><span style=\"color: #000080; text-decoration-color: #000080\">INFO    </span> INFO:src.data.kispp_datamodul<span style=\"color: #00ff00; text-decoration-color: #00ff00; font-weight: bold\">e:F</span>inished building KISPP         <a href=\"file:///workspaces/ai4healthcare/src/data/kispp_datamodule.py\" target=\"_blank\"><span style=\"color: #7f7f7f; text-decoration-color: #7f7f7f\">kispp_datamodule.py</span></a><span style=\"color: #7f7f7f; text-decoration-color: #7f7f7f\">:</span><a href=\"file:///workspaces/ai4healthcare/src/data/kispp_datamodule.py#134\" target=\"_blank\"><span style=\"color: #7f7f7f; text-decoration-color: #7f7f7f\">134</span></a>\n",
       "<span style=\"color: #7fbfbf; text-decoration-color: #7fbfbf\">                    </span>         Datamodule.                                                    <span style=\"color: #7f7f7f; text-decoration-color: #7f7f7f\">                       </span>\n",
       "</pre>\n"
      ],
      "text/plain": [
       "\u001b[2;36m                   \u001b[0m\u001b[2;36m \u001b[0m\u001b[34mINFO    \u001b[0m INFO:src.data.kispp_datamodul\u001b[1;92me:F\u001b[0minished building KISPP         \u001b]8;id=172773;file:///workspaces/ai4healthcare/src/data/kispp_datamodule.py\u001b\\\u001b[2mkispp_datamodule.py\u001b[0m\u001b]8;;\u001b\\\u001b[2m:\u001b[0m\u001b]8;id=207870;file:///workspaces/ai4healthcare/src/data/kispp_datamodule.py#134\u001b\\\u001b[2m134\u001b[0m\u001b]8;;\u001b\\\n",
       "\u001b[2;36m                    \u001b[0m         Datamodule.                                                    \u001b[2m                       \u001b[0m\n"
      ]
     },
     "metadata": {},
     "output_type": "display_data"
    },
    {
     "data": {
      "text/html": [
       "<pre style=\"white-space:pre;overflow-x:auto;line-height:normal;font-family:Menlo,'DejaVu Sans Mono',consolas,'Courier New',monospace\"><span style=\"color: #7fbfbf; text-decoration-color: #7fbfbf\">                    </span><span style=\"color: #000080; text-decoration-color: #000080\">INFO    </span> INFO:src.data.kispp_datamodul<span style=\"color: #00ff00; text-decoration-color: #00ff00; font-weight: bold\">e:ca</span>re capacity timeseries head:  <a href=\"file:///workspaces/ai4healthcare/src/data/kispp_datamodule.py\" target=\"_blank\"><span style=\"color: #7f7f7f; text-decoration-color: #7f7f7f\">kispp_datamodule.py</span></a><span style=\"color: #7f7f7f; text-decoration-color: #7f7f7f\">:</span><a href=\"file:///workspaces/ai4healthcare/src/data/kispp_datamodule.py#135\" target=\"_blank\"><span style=\"color: #7f7f7f; text-decoration-color: #7f7f7f\">135</span></a>\n",
       "</pre>\n"
      ],
      "text/plain": [
       "\u001b[2;36m                   \u001b[0m\u001b[2;36m \u001b[0m\u001b[34mINFO    \u001b[0m INFO:src.data.kispp_datamodul\u001b[1;92me:ca\u001b[0mre capacity timeseries head:  \u001b]8;id=772405;file:///workspaces/ai4healthcare/src/data/kispp_datamodule.py\u001b\\\u001b[2mkispp_datamodule.py\u001b[0m\u001b]8;;\u001b\\\u001b[2m:\u001b[0m\u001b]8;id=971918;file:///workspaces/ai4healthcare/src/data/kispp_datamodule.py#135\u001b\\\u001b[2m135\u001b[0m\u001b]8;;\u001b\\\n"
      ]
     },
     "metadata": {},
     "output_type": "display_data"
    },
    {
     "data": {
      "text/html": [
       "<pre style=\"white-space:pre;overflow-x:auto;line-height:normal;font-family:Menlo,'DejaVu Sans Mono',consolas,'Courier New',monospace\"><span style=\"color: #7fbfbf; text-decoration-color: #7fbfbf\">                    </span><span style=\"color: #000080; text-decoration-color: #000080\">INFO    </span> INFO:src.data.kispp_datamodule:                   ds   y       <a href=\"file:///workspaces/ai4healthcare/src/data/kispp_datamodule.py\" target=\"_blank\"><span style=\"color: #7f7f7f; text-decoration-color: #7f7f7f\">kispp_datamodule.py</span></a><span style=\"color: #7f7f7f; text-decoration-color: #7f7f7f\">:</span><a href=\"file:///workspaces/ai4healthcare/src/data/kispp_datamodule.py#136\" target=\"_blank\"><span style=\"color: #7f7f7f; text-decoration-color: #7f7f7f\">136</span></a>\n",
       "<span style=\"color: #7fbfbf; text-decoration-color: #7fbfbf\">                    </span>         Pflege Station <span style=\"color: #008080; text-decoration-color: #008080; font-weight: bold\">10.3</span> II. Med._planned_absences_personnel_count  <span style=\"color: #7f7f7f; text-decoration-color: #7f7f7f\">                       </span>\n",
       "<span style=\"color: #7fbfbf; text-decoration-color: #7fbfbf\">                    </span>         Pflege Station <span style=\"color: #008080; text-decoration-color: #008080; font-weight: bold\">10.3</span> II.                                        <span style=\"color: #7f7f7f; text-decoration-color: #7f7f7f\">                       </span>\n",
       "<span style=\"color: #7fbfbf; text-decoration-color: #7fbfbf\">                    </span>         Med._unplanned_absences_personnel_count  Pflege Station        <span style=\"color: #7f7f7f; text-decoration-color: #7f7f7f\">                       </span>\n",
       "<span style=\"color: #7fbfbf; text-decoration-color: #7fbfbf\">                    </span>         <span style=\"color: #008080; text-decoration-color: #008080; font-weight: bold\">11.</span>1_11.4_worked_personnel_count  Pflege Station               <span style=\"color: #7f7f7f; text-decoration-color: #7f7f7f\">                       </span>\n",
       "<span style=\"color: #7fbfbf; text-decoration-color: #7fbfbf\">                    </span>         <span style=\"color: #008080; text-decoration-color: #008080; font-weight: bold\">11.</span>1_11.4_planned_absences_personnel_count  Pflege Station     <span style=\"color: #7f7f7f; text-decoration-color: #7f7f7f\">                       </span>\n",
       "<span style=\"color: #7fbfbf; text-decoration-color: #7fbfbf\">                    </span>         <span style=\"color: #008080; text-decoration-color: #008080; font-weight: bold\">11.</span>1_11.4_unplanned_absences_personnel_count  Pflege Station   <span style=\"color: #7f7f7f; text-decoration-color: #7f7f7f\">                       </span>\n",
       "<span style=\"color: #7fbfbf; text-decoration-color: #7fbfbf\">                    </span>         <span style=\"color: #008080; text-decoration-color: #008080; font-weight: bold\">9.7</span> UCH_worked_personnel_count  Pflege Station <span style=\"color: #008080; text-decoration-color: #008080; font-weight: bold\">9.7</span>             <span style=\"color: #7f7f7f; text-decoration-color: #7f7f7f\">                       </span>\n",
       "<span style=\"color: #7fbfbf; text-decoration-color: #7fbfbf\">                    </span>         UCH_planned_absences_personnel_count  Pflege Station <span style=\"color: #008080; text-decoration-color: #008080; font-weight: bold\">9.7</span>       <span style=\"color: #7f7f7f; text-decoration-color: #7f7f7f\">                       </span>\n",
       "<span style=\"color: #7fbfbf; text-decoration-color: #7fbfbf\">                    </span>         UCH_unplanned_absences_personnel_count  Pflege Station <span style=\"color: #008080; text-decoration-color: #008080; font-weight: bold\">8.5</span>/<span style=\"color: #008080; text-decoration-color: #008080; font-weight: bold\">8.8</span> <span style=\"color: #7f7f7f; text-decoration-color: #7f7f7f\">                       </span>\n",
       "<span style=\"color: #7fbfbf; text-decoration-color: #7fbfbf\">                    </span>         I. Med._worked_personnel_count  Pflege Station <span style=\"color: #008080; text-decoration-color: #008080; font-weight: bold\">8.5</span>/<span style=\"color: #008080; text-decoration-color: #008080; font-weight: bold\">8.8</span> I.      <span style=\"color: #7f7f7f; text-decoration-color: #7f7f7f\">                       </span>\n",
       "<span style=\"color: #7fbfbf; text-decoration-color: #7fbfbf\">                    </span>         Med._planned_absences_personnel_count  Pflege Station <span style=\"color: #008080; text-decoration-color: #008080; font-weight: bold\">8.5</span>/<span style=\"color: #008080; text-decoration-color: #008080; font-weight: bold\">8.8</span>  <span style=\"color: #7f7f7f; text-decoration-color: #7f7f7f\">                       </span>\n",
       "<span style=\"color: #7fbfbf; text-decoration-color: #7fbfbf\">                    </span>         I. Med._unplanned_absences_personnel_count  public_holiday     <span style=\"color: #7f7f7f; text-decoration-color: #7f7f7f\">                       </span>\n",
       "<span style=\"color: #7fbfbf; text-decoration-color: #7fbfbf\">                    </span>         school_holiday  influenza_incidence  ARE_incidence             <span style=\"color: #7f7f7f; text-decoration-color: #7f7f7f\">                       </span>\n",
       "<span style=\"color: #7fbfbf; text-decoration-color: #7fbfbf\">                    </span>         ILI_incidence  sin_day_of_week  cos_day_of_week                <span style=\"color: #7f7f7f; text-decoration-color: #7f7f7f\">                       </span>\n",
       "<span style=\"color: #7fbfbf; text-decoration-color: #7fbfbf\">                    </span>         sin_day_of_year  cos_day_of_year  sin_day_of_month             <span style=\"color: #7f7f7f; text-decoration-color: #7f7f7f\">                       </span>\n",
       "<span style=\"color: #7fbfbf; text-decoration-color: #7fbfbf\">                    </span>         cos_day_of_month  sin_month_of_year  cos_month_of_year         <span style=\"color: #7f7f7f; text-decoration-color: #7f7f7f\">                       </span>\n",
       "<span style=\"color: #7fbfbf; text-decoration-color: #7fbfbf\">                    </span>         sin_hour_of_day  cos_hour_of_day                     unique_id <span style=\"color: #7f7f7f; text-decoration-color: #7f7f7f\">                       </span>\n",
       "<span style=\"color: #7fbfbf; text-decoration-color: #7fbfbf\">                    </span>         <span style=\"color: #008080; text-decoration-color: #008080; font-weight: bold\">0</span> <span style=\"color: #008080; text-decoration-color: #008080; font-weight: bold\">2022</span>-<span style=\"color: #008080; text-decoration-color: #008080; font-weight: bold\">01</span>-<span style=\"color: #008080; text-decoration-color: #008080; font-weight: bold\">01</span> <span style=\"color: #00ff00; text-decoration-color: #00ff00; font-weight: bold\">12:00:00</span>   <span style=\"color: #008080; text-decoration-color: #008080; font-weight: bold\">9</span>                                      <span style=\"color: #7f7f7f; text-decoration-color: #7f7f7f\">                       </span>\n",
       "<span style=\"color: #7fbfbf; text-decoration-color: #7fbfbf\">                    </span>         <span style=\"color: #008080; text-decoration-color: #008080; font-weight: bold\">50</span>                                                             <span style=\"color: #7f7f7f; text-decoration-color: #7f7f7f\">                       </span>\n",
       "<span style=\"color: #7fbfbf; text-decoration-color: #7fbfbf\">                    </span>         <span style=\"color: #008080; text-decoration-color: #008080; font-weight: bold\">5</span>                                               <span style=\"color: #008080; text-decoration-color: #008080; font-weight: bold\">12</span>             <span style=\"color: #7f7f7f; text-decoration-color: #7f7f7f\">                       </span>\n",
       "<span style=\"color: #7fbfbf; text-decoration-color: #7fbfbf\">                    </span>         <span style=\"color: #008080; text-decoration-color: #008080; font-weight: bold\">38</span>                                                             <span style=\"color: #7f7f7f; text-decoration-color: #7f7f7f\">                       </span>\n",
       "<span style=\"color: #7fbfbf; text-decoration-color: #7fbfbf\">                    </span>         <span style=\"color: #008080; text-decoration-color: #008080; font-weight: bold\">5</span>                                              <span style=\"color: #008080; text-decoration-color: #008080; font-weight: bold\">7</span>               <span style=\"color: #7f7f7f; text-decoration-color: #7f7f7f\">                       </span>\n",
       "<span style=\"color: #7fbfbf; text-decoration-color: #7fbfbf\">                    </span>         <span style=\"color: #008080; text-decoration-color: #008080; font-weight: bold\">38</span>                                                          <span style=\"color: #008080; text-decoration-color: #008080; font-weight: bold\">3</span>  <span style=\"color: #7f7f7f; text-decoration-color: #7f7f7f\">                       </span>\n",
       "<span style=\"color: #7fbfbf; text-decoration-color: #7fbfbf\">                    </span>         <span style=\"color: #008080; text-decoration-color: #008080; font-weight: bold\">9</span>                                                              <span style=\"color: #7f7f7f; text-decoration-color: #7f7f7f\">                       </span>\n",
       "<span style=\"color: #7fbfbf; text-decoration-color: #7fbfbf\">                    </span>         <span style=\"color: #008080; text-decoration-color: #008080; font-weight: bold\">32</span>                                                             <span style=\"color: #7f7f7f; text-decoration-color: #7f7f7f\">                       </span>\n",
       "<span style=\"color: #7fbfbf; text-decoration-color: #7fbfbf\">                    </span>         <span style=\"color: #008080; text-decoration-color: #008080; font-weight: bold\">1</span>               <span style=\"color: #008080; text-decoration-color: #008080; font-weight: bold\">1</span>               <span style=\"color: #008080; text-decoration-color: #008080; font-weight: bold\">1</span>                 <span style=\"color: #008080; text-decoration-color: #008080; font-weight: bold\">0.14</span>         <span style=\"color: #7f7f7f; text-decoration-color: #7f7f7f\">                       </span>\n",
       "<span style=\"color: #7fbfbf; text-decoration-color: #7fbfbf\">                    </span>         <span style=\"color: #008080; text-decoration-color: #008080; font-weight: bold\">2761</span>            <span style=\"color: #008080; text-decoration-color: #008080; font-weight: bold\">373</span>                <span style=\"color: #008080; text-decoration-color: #008080; font-weight: bold\">5</span>        <span style=\"color: #008080; text-decoration-color: #008080; font-weight: bold\">-0.222521</span>          <span style=\"color: #7f7f7f; text-decoration-color: #7f7f7f\">                       </span>\n",
       "<span style=\"color: #7fbfbf; text-decoration-color: #7fbfbf\">                    </span>         <span style=\"color: #008080; text-decoration-color: #008080; font-weight: bold\">0.017213</span>         <span style=\"color: #008080; text-decoration-color: #008080; font-weight: bold\">0.999852</span>          <span style=\"color: #008080; text-decoration-color: #008080; font-weight: bold\">0.201299</span>           <span style=\"color: #008080; text-decoration-color: #008080; font-weight: bold\">0.97953</span>  <span style=\"color: #7f7f7f; text-decoration-color: #7f7f7f\">                       </span>\n",
       "<span style=\"color: #7fbfbf; text-decoration-color: #7fbfbf\">                    </span>         <span style=\"color: #008080; text-decoration-color: #008080; font-weight: bold\">0.5</span>           <span style=\"color: #008080; text-decoration-color: #008080; font-weight: bold\">0.866025</span>     <span style=\"color: #008080; text-decoration-color: #008080; font-weight: bold\">1.224647e-16</span>        <span style=\"color: #008080; text-decoration-color: #008080; font-weight: bold\">-1.000000</span>       <span style=\"color: #7f7f7f; text-decoration-color: #7f7f7f\">                       </span>\n",
       "<span style=\"color: #7fbfbf; text-decoration-color: #7fbfbf\">                    </span>         Pflege Station <span style=\"color: #008080; text-decoration-color: #008080; font-weight: bold\">10.3</span> II. Med.                                   <span style=\"color: #7f7f7f; text-decoration-color: #7f7f7f\">                       </span>\n",
       "<span style=\"color: #7fbfbf; text-decoration-color: #7fbfbf\">                    </span>         <span style=\"color: #008080; text-decoration-color: #008080; font-weight: bold\">1</span> <span style=\"color: #008080; text-decoration-color: #008080; font-weight: bold\">2022</span>-<span style=\"color: #008080; text-decoration-color: #008080; font-weight: bold\">01</span>-<span style=\"color: #008080; text-decoration-color: #008080; font-weight: bold\">01</span> <span style=\"color: #00ff00; text-decoration-color: #00ff00; font-weight: bold\">13:00:00</span>  <span style=\"color: #008080; text-decoration-color: #008080; font-weight: bold\">14</span>                                      <span style=\"color: #7f7f7f; text-decoration-color: #7f7f7f\">                       </span>\n",
       "<span style=\"color: #7fbfbf; text-decoration-color: #7fbfbf\">                    </span>         <span style=\"color: #008080; text-decoration-color: #008080; font-weight: bold\">50</span>                                                             <span style=\"color: #7f7f7f; text-decoration-color: #7f7f7f\">                       </span>\n",
       "<span style=\"color: #7fbfbf; text-decoration-color: #7fbfbf\">                    </span>         <span style=\"color: #008080; text-decoration-color: #008080; font-weight: bold\">8</span>                                               <span style=\"color: #008080; text-decoration-color: #008080; font-weight: bold\">20</span>             <span style=\"color: #7f7f7f; text-decoration-color: #7f7f7f\">                       </span>\n",
       "<span style=\"color: #7fbfbf; text-decoration-color: #7fbfbf\">                    </span>         <span style=\"color: #008080; text-decoration-color: #008080; font-weight: bold\">38</span>                                                             <span style=\"color: #7f7f7f; text-decoration-color: #7f7f7f\">                       </span>\n",
       "<span style=\"color: #7fbfbf; text-decoration-color: #7fbfbf\">                    </span>         <span style=\"color: #008080; text-decoration-color: #008080; font-weight: bold\">6</span>                                             <span style=\"color: #008080; text-decoration-color: #008080; font-weight: bold\">12</span>               <span style=\"color: #7f7f7f; text-decoration-color: #7f7f7f\">                       </span>\n",
       "<span style=\"color: #7fbfbf; text-decoration-color: #7fbfbf\">                    </span>         <span style=\"color: #008080; text-decoration-color: #008080; font-weight: bold\">38</span>                                                          <span style=\"color: #008080; text-decoration-color: #008080; font-weight: bold\">4</span>  <span style=\"color: #7f7f7f; text-decoration-color: #7f7f7f\">                       </span>\n",
       "<span style=\"color: #7fbfbf; text-decoration-color: #7fbfbf\">                    </span>         <span style=\"color: #008080; text-decoration-color: #008080; font-weight: bold\">16</span>                                                             <span style=\"color: #7f7f7f; text-decoration-color: #7f7f7f\">                       </span>\n",
       "<span style=\"color: #7fbfbf; text-decoration-color: #7fbfbf\">                    </span>         <span style=\"color: #008080; text-decoration-color: #008080; font-weight: bold\">32</span>                                                             <span style=\"color: #7f7f7f; text-decoration-color: #7f7f7f\">                       </span>\n",
       "<span style=\"color: #7fbfbf; text-decoration-color: #7fbfbf\">                    </span>         <span style=\"color: #008080; text-decoration-color: #008080; font-weight: bold\">1</span>               <span style=\"color: #008080; text-decoration-color: #008080; font-weight: bold\">1</span>               <span style=\"color: #008080; text-decoration-color: #008080; font-weight: bold\">1</span>                 <span style=\"color: #008080; text-decoration-color: #008080; font-weight: bold\">0.14</span>         <span style=\"color: #7f7f7f; text-decoration-color: #7f7f7f\">                       </span>\n",
       "<span style=\"color: #7fbfbf; text-decoration-color: #7fbfbf\">                    </span>         <span style=\"color: #008080; text-decoration-color: #008080; font-weight: bold\">2761</span>            <span style=\"color: #008080; text-decoration-color: #008080; font-weight: bold\">373</span>                <span style=\"color: #008080; text-decoration-color: #008080; font-weight: bold\">5</span>        <span style=\"color: #008080; text-decoration-color: #008080; font-weight: bold\">-0.222521</span>          <span style=\"color: #7f7f7f; text-decoration-color: #7f7f7f\">                       </span>\n",
       "<span style=\"color: #7fbfbf; text-decoration-color: #7fbfbf\">                    </span>         <span style=\"color: #008080; text-decoration-color: #008080; font-weight: bold\">0.017213</span>         <span style=\"color: #008080; text-decoration-color: #008080; font-weight: bold\">0.999852</span>          <span style=\"color: #008080; text-decoration-color: #008080; font-weight: bold\">0.201299</span>           <span style=\"color: #008080; text-decoration-color: #008080; font-weight: bold\">0.97953</span>  <span style=\"color: #7f7f7f; text-decoration-color: #7f7f7f\">                       </span>\n",
       "<span style=\"color: #7fbfbf; text-decoration-color: #7fbfbf\">                    </span>         <span style=\"color: #008080; text-decoration-color: #008080; font-weight: bold\">0.5</span>           <span style=\"color: #008080; text-decoration-color: #008080; font-weight: bold\">0.866025</span>    <span style=\"color: #008080; text-decoration-color: #008080; font-weight: bold\">-2.588190e-01</span>        <span style=\"color: #008080; text-decoration-color: #008080; font-weight: bold\">-0.965926</span>       <span style=\"color: #7f7f7f; text-decoration-color: #7f7f7f\">                       </span>\n",
       "<span style=\"color: #7fbfbf; text-decoration-color: #7fbfbf\">                    </span>         Pflege Station <span style=\"color: #008080; text-decoration-color: #008080; font-weight: bold\">10.3</span> II. Med.                                   <span style=\"color: #7f7f7f; text-decoration-color: #7f7f7f\">                       </span>\n",
       "<span style=\"color: #7fbfbf; text-decoration-color: #7fbfbf\">                    </span>         <span style=\"color: #008080; text-decoration-color: #008080; font-weight: bold\">2</span> <span style=\"color: #008080; text-decoration-color: #008080; font-weight: bold\">2022</span>-<span style=\"color: #008080; text-decoration-color: #008080; font-weight: bold\">01</span>-<span style=\"color: #008080; text-decoration-color: #008080; font-weight: bold\">01</span> <span style=\"color: #00ff00; text-decoration-color: #00ff00; font-weight: bold\">14:00:00</span>  <span style=\"color: #008080; text-decoration-color: #008080; font-weight: bold\">14</span>                                      <span style=\"color: #7f7f7f; text-decoration-color: #7f7f7f\">                       </span>\n",
       "<span style=\"color: #7fbfbf; text-decoration-color: #7fbfbf\">                    </span>         <span style=\"color: #008080; text-decoration-color: #008080; font-weight: bold\">50</span>                                                             <span style=\"color: #7f7f7f; text-decoration-color: #7f7f7f\">                       </span>\n",
       "<span style=\"color: #7fbfbf; text-decoration-color: #7fbfbf\">                    </span>         <span style=\"color: #008080; text-decoration-color: #008080; font-weight: bold\">8</span>                                               <span style=\"color: #008080; text-decoration-color: #008080; font-weight: bold\">20</span>             <span style=\"color: #7f7f7f; text-decoration-color: #7f7f7f\">                       </span>\n",
       "<span style=\"color: #7fbfbf; text-decoration-color: #7fbfbf\">                    </span>         <span style=\"color: #008080; text-decoration-color: #008080; font-weight: bold\">38</span>                                                             <span style=\"color: #7f7f7f; text-decoration-color: #7f7f7f\">                       </span>\n",
       "<span style=\"color: #7fbfbf; text-decoration-color: #7fbfbf\">                    </span>         <span style=\"color: #008080; text-decoration-color: #008080; font-weight: bold\">6</span>                                             <span style=\"color: #008080; text-decoration-color: #008080; font-weight: bold\">12</span>               <span style=\"color: #7f7f7f; text-decoration-color: #7f7f7f\">                       </span>\n",
       "<span style=\"color: #7fbfbf; text-decoration-color: #7fbfbf\">                    </span>         <span style=\"color: #008080; text-decoration-color: #008080; font-weight: bold\">38</span>                                                          <span style=\"color: #008080; text-decoration-color: #008080; font-weight: bold\">4</span>  <span style=\"color: #7f7f7f; text-decoration-color: #7f7f7f\">                       </span>\n",
       "<span style=\"color: #7fbfbf; text-decoration-color: #7fbfbf\">                    </span>         <span style=\"color: #008080; text-decoration-color: #008080; font-weight: bold\">16</span>                                                             <span style=\"color: #7f7f7f; text-decoration-color: #7f7f7f\">                       </span>\n",
       "<span style=\"color: #7fbfbf; text-decoration-color: #7fbfbf\">                    </span>         <span style=\"color: #008080; text-decoration-color: #008080; font-weight: bold\">32</span>                                                             <span style=\"color: #7f7f7f; text-decoration-color: #7f7f7f\">                       </span>\n",
       "<span style=\"color: #7fbfbf; text-decoration-color: #7fbfbf\">                    </span>         <span style=\"color: #008080; text-decoration-color: #008080; font-weight: bold\">1</span>               <span style=\"color: #008080; text-decoration-color: #008080; font-weight: bold\">1</span>               <span style=\"color: #008080; text-decoration-color: #008080; font-weight: bold\">1</span>                 <span style=\"color: #008080; text-decoration-color: #008080; font-weight: bold\">0.14</span>         <span style=\"color: #7f7f7f; text-decoration-color: #7f7f7f\">                       </span>\n",
       "<span style=\"color: #7fbfbf; text-decoration-color: #7fbfbf\">                    </span>         <span style=\"color: #008080; text-decoration-color: #008080; font-weight: bold\">2761</span>            <span style=\"color: #008080; text-decoration-color: #008080; font-weight: bold\">373</span>                <span style=\"color: #008080; text-decoration-color: #008080; font-weight: bold\">5</span>        <span style=\"color: #008080; text-decoration-color: #008080; font-weight: bold\">-0.222521</span>          <span style=\"color: #7f7f7f; text-decoration-color: #7f7f7f\">                       </span>\n",
       "<span style=\"color: #7fbfbf; text-decoration-color: #7fbfbf\">                    </span>         <span style=\"color: #008080; text-decoration-color: #008080; font-weight: bold\">0.017213</span>         <span style=\"color: #008080; text-decoration-color: #008080; font-weight: bold\">0.999852</span>          <span style=\"color: #008080; text-decoration-color: #008080; font-weight: bold\">0.201299</span>           <span style=\"color: #008080; text-decoration-color: #008080; font-weight: bold\">0.97953</span>  <span style=\"color: #7f7f7f; text-decoration-color: #7f7f7f\">                       </span>\n",
       "<span style=\"color: #7fbfbf; text-decoration-color: #7fbfbf\">                    </span>         <span style=\"color: #008080; text-decoration-color: #008080; font-weight: bold\">0.5</span>           <span style=\"color: #008080; text-decoration-color: #008080; font-weight: bold\">0.866025</span>    <span style=\"color: #008080; text-decoration-color: #008080; font-weight: bold\">-5.000000e-01</span>        <span style=\"color: #008080; text-decoration-color: #008080; font-weight: bold\">-0.866025</span>       <span style=\"color: #7f7f7f; text-decoration-color: #7f7f7f\">                       </span>\n",
       "<span style=\"color: #7fbfbf; text-decoration-color: #7fbfbf\">                    </span>         Pflege Station <span style=\"color: #008080; text-decoration-color: #008080; font-weight: bold\">10.3</span> II. Med.                                   <span style=\"color: #7f7f7f; text-decoration-color: #7f7f7f\">                       </span>\n",
       "<span style=\"color: #7fbfbf; text-decoration-color: #7fbfbf\">                    </span>         <span style=\"color: #008080; text-decoration-color: #008080; font-weight: bold\">3</span> <span style=\"color: #008080; text-decoration-color: #008080; font-weight: bold\">2022</span>-<span style=\"color: #008080; text-decoration-color: #008080; font-weight: bold\">01</span>-<span style=\"color: #008080; text-decoration-color: #008080; font-weight: bold\">01</span> <span style=\"color: #00ff00; text-decoration-color: #00ff00; font-weight: bold\">15:00:00</span>   <span style=\"color: #008080; text-decoration-color: #008080; font-weight: bold\">5</span>                                      <span style=\"color: #7f7f7f; text-decoration-color: #7f7f7f\">                       </span>\n",
       "<span style=\"color: #7fbfbf; text-decoration-color: #7fbfbf\">                    </span>         <span style=\"color: #008080; text-decoration-color: #008080; font-weight: bold\">50</span>                                                             <span style=\"color: #7f7f7f; text-decoration-color: #7f7f7f\">                       </span>\n",
       "<span style=\"color: #7fbfbf; text-decoration-color: #7fbfbf\">                    </span>         <span style=\"color: #008080; text-decoration-color: #008080; font-weight: bold\">8</span>                                               <span style=\"color: #008080; text-decoration-color: #008080; font-weight: bold\">10</span>             <span style=\"color: #7f7f7f; text-decoration-color: #7f7f7f\">                       </span>\n",
       "<span style=\"color: #7fbfbf; text-decoration-color: #7fbfbf\">                    </span>         <span style=\"color: #008080; text-decoration-color: #008080; font-weight: bold\">38</span>                                                             <span style=\"color: #7f7f7f; text-decoration-color: #7f7f7f\">                       </span>\n",
       "<span style=\"color: #7fbfbf; text-decoration-color: #7fbfbf\">                    </span>         <span style=\"color: #008080; text-decoration-color: #008080; font-weight: bold\">6</span>                                              <span style=\"color: #008080; text-decoration-color: #008080; font-weight: bold\">5</span>               <span style=\"color: #7f7f7f; text-decoration-color: #7f7f7f\">                       </span>\n",
       "<span style=\"color: #7fbfbf; text-decoration-color: #7fbfbf\">                    </span>         <span style=\"color: #008080; text-decoration-color: #008080; font-weight: bold\">38</span>                                                          <span style=\"color: #008080; text-decoration-color: #008080; font-weight: bold\">4</span>  <span style=\"color: #7f7f7f; text-decoration-color: #7f7f7f\">                       </span>\n",
       "<span style=\"color: #7fbfbf; text-decoration-color: #7fbfbf\">                    </span>         <span style=\"color: #008080; text-decoration-color: #008080; font-weight: bold\">7</span>                                                              <span style=\"color: #7f7f7f; text-decoration-color: #7f7f7f\">                       </span>\n",
       "<span style=\"color: #7fbfbf; text-decoration-color: #7fbfbf\">                    </span>         <span style=\"color: #008080; text-decoration-color: #008080; font-weight: bold\">32</span>                                                             <span style=\"color: #7f7f7f; text-decoration-color: #7f7f7f\">                       </span>\n",
       "<span style=\"color: #7fbfbf; text-decoration-color: #7fbfbf\">                    </span>         <span style=\"color: #008080; text-decoration-color: #008080; font-weight: bold\">1</span>               <span style=\"color: #008080; text-decoration-color: #008080; font-weight: bold\">1</span>               <span style=\"color: #008080; text-decoration-color: #008080; font-weight: bold\">1</span>                 <span style=\"color: #008080; text-decoration-color: #008080; font-weight: bold\">0.14</span>         <span style=\"color: #7f7f7f; text-decoration-color: #7f7f7f\">                       </span>\n",
       "<span style=\"color: #7fbfbf; text-decoration-color: #7fbfbf\">                    </span>         <span style=\"color: #008080; text-decoration-color: #008080; font-weight: bold\">2761</span>            <span style=\"color: #008080; text-decoration-color: #008080; font-weight: bold\">373</span>                <span style=\"color: #008080; text-decoration-color: #008080; font-weight: bold\">5</span>        <span style=\"color: #008080; text-decoration-color: #008080; font-weight: bold\">-0.222521</span>          <span style=\"color: #7f7f7f; text-decoration-color: #7f7f7f\">                       </span>\n",
       "<span style=\"color: #7fbfbf; text-decoration-color: #7fbfbf\">                    </span>         <span style=\"color: #008080; text-decoration-color: #008080; font-weight: bold\">0.017213</span>         <span style=\"color: #008080; text-decoration-color: #008080; font-weight: bold\">0.999852</span>          <span style=\"color: #008080; text-decoration-color: #008080; font-weight: bold\">0.201299</span>           <span style=\"color: #008080; text-decoration-color: #008080; font-weight: bold\">0.97953</span>  <span style=\"color: #7f7f7f; text-decoration-color: #7f7f7f\">                       </span>\n",
       "<span style=\"color: #7fbfbf; text-decoration-color: #7fbfbf\">                    </span>         <span style=\"color: #008080; text-decoration-color: #008080; font-weight: bold\">0.5</span>           <span style=\"color: #008080; text-decoration-color: #008080; font-weight: bold\">0.866025</span>    <span style=\"color: #008080; text-decoration-color: #008080; font-weight: bold\">-7.071068e-01</span>        <span style=\"color: #008080; text-decoration-color: #008080; font-weight: bold\">-0.707107</span>       <span style=\"color: #7f7f7f; text-decoration-color: #7f7f7f\">                       </span>\n",
       "<span style=\"color: #7fbfbf; text-decoration-color: #7fbfbf\">                    </span>         Pflege Station <span style=\"color: #008080; text-decoration-color: #008080; font-weight: bold\">10.3</span> II. Med.                                   <span style=\"color: #7f7f7f; text-decoration-color: #7f7f7f\">                       </span>\n",
       "<span style=\"color: #7fbfbf; text-decoration-color: #7fbfbf\">                    </span>         <span style=\"color: #008080; text-decoration-color: #008080; font-weight: bold\">4</span> <span style=\"color: #008080; text-decoration-color: #008080; font-weight: bold\">2022</span>-<span style=\"color: #008080; text-decoration-color: #008080; font-weight: bold\">01</span>-<span style=\"color: #008080; text-decoration-color: #008080; font-weight: bold\">01</span> <span style=\"color: #00ff00; text-decoration-color: #00ff00; font-weight: bold\">16:00:00</span>   <span style=\"color: #008080; text-decoration-color: #008080; font-weight: bold\">5</span>                                      <span style=\"color: #7f7f7f; text-decoration-color: #7f7f7f\">                       </span>\n",
       "<span style=\"color: #7fbfbf; text-decoration-color: #7fbfbf\">                    </span>         <span style=\"color: #008080; text-decoration-color: #008080; font-weight: bold\">50</span>                                                             <span style=\"color: #7f7f7f; text-decoration-color: #7f7f7f\">                       </span>\n",
       "<span style=\"color: #7fbfbf; text-decoration-color: #7fbfbf\">                    </span>         <span style=\"color: #008080; text-decoration-color: #008080; font-weight: bold\">8</span>                                                <span style=\"color: #008080; text-decoration-color: #008080; font-weight: bold\">9</span>             <span style=\"color: #7f7f7f; text-decoration-color: #7f7f7f\">                       </span>\n",
       "<span style=\"color: #7fbfbf; text-decoration-color: #7fbfbf\">                    </span>         <span style=\"color: #008080; text-decoration-color: #008080; font-weight: bold\">38</span>                                                             <span style=\"color: #7f7f7f; text-decoration-color: #7f7f7f\">                       </span>\n",
       "<span style=\"color: #7fbfbf; text-decoration-color: #7fbfbf\">                    </span>         <span style=\"color: #008080; text-decoration-color: #008080; font-weight: bold\">6</span>                                              <span style=\"color: #008080; text-decoration-color: #008080; font-weight: bold\">5</span>               <span style=\"color: #7f7f7f; text-decoration-color: #7f7f7f\">                       </span>\n",
       "<span style=\"color: #7fbfbf; text-decoration-color: #7fbfbf\">                    </span>         <span style=\"color: #008080; text-decoration-color: #008080; font-weight: bold\">38</span>                                                          <span style=\"color: #008080; text-decoration-color: #008080; font-weight: bold\">4</span>  <span style=\"color: #7f7f7f; text-decoration-color: #7f7f7f\">                       </span>\n",
       "<span style=\"color: #7fbfbf; text-decoration-color: #7fbfbf\">                    </span>         <span style=\"color: #008080; text-decoration-color: #008080; font-weight: bold\">7</span>                                                              <span style=\"color: #7f7f7f; text-decoration-color: #7f7f7f\">                       </span>\n",
       "<span style=\"color: #7fbfbf; text-decoration-color: #7fbfbf\">                    </span>         <span style=\"color: #008080; text-decoration-color: #008080; font-weight: bold\">32</span>                                                             <span style=\"color: #7f7f7f; text-decoration-color: #7f7f7f\">                       </span>\n",
       "<span style=\"color: #7fbfbf; text-decoration-color: #7fbfbf\">                    </span>         <span style=\"color: #008080; text-decoration-color: #008080; font-weight: bold\">1</span>               <span style=\"color: #008080; text-decoration-color: #008080; font-weight: bold\">1</span>               <span style=\"color: #008080; text-decoration-color: #008080; font-weight: bold\">1</span>                 <span style=\"color: #008080; text-decoration-color: #008080; font-weight: bold\">0.14</span>         <span style=\"color: #7f7f7f; text-decoration-color: #7f7f7f\">                       </span>\n",
       "<span style=\"color: #7fbfbf; text-decoration-color: #7fbfbf\">                    </span>         <span style=\"color: #008080; text-decoration-color: #008080; font-weight: bold\">2761</span>            <span style=\"color: #008080; text-decoration-color: #008080; font-weight: bold\">373</span>                <span style=\"color: #008080; text-decoration-color: #008080; font-weight: bold\">5</span>        <span style=\"color: #008080; text-decoration-color: #008080; font-weight: bold\">-0.222521</span>          <span style=\"color: #7f7f7f; text-decoration-color: #7f7f7f\">                       </span>\n",
       "<span style=\"color: #7fbfbf; text-decoration-color: #7fbfbf\">                    </span>         <span style=\"color: #008080; text-decoration-color: #008080; font-weight: bold\">0.017213</span>         <span style=\"color: #008080; text-decoration-color: #008080; font-weight: bold\">0.999852</span>          <span style=\"color: #008080; text-decoration-color: #008080; font-weight: bold\">0.201299</span>           <span style=\"color: #008080; text-decoration-color: #008080; font-weight: bold\">0.97953</span>  <span style=\"color: #7f7f7f; text-decoration-color: #7f7f7f\">                       </span>\n",
       "<span style=\"color: #7fbfbf; text-decoration-color: #7fbfbf\">                    </span>         <span style=\"color: #008080; text-decoration-color: #008080; font-weight: bold\">0.5</span>           <span style=\"color: #008080; text-decoration-color: #008080; font-weight: bold\">0.866025</span>    <span style=\"color: #008080; text-decoration-color: #008080; font-weight: bold\">-8.660254e-01</span>        <span style=\"color: #008080; text-decoration-color: #008080; font-weight: bold\">-0.500000</span>       <span style=\"color: #7f7f7f; text-decoration-color: #7f7f7f\">                       </span>\n",
       "<span style=\"color: #7fbfbf; text-decoration-color: #7fbfbf\">                    </span>         Pflege Station <span style=\"color: #008080; text-decoration-color: #008080; font-weight: bold\">10.3</span> II. Med.                                   <span style=\"color: #7f7f7f; text-decoration-color: #7f7f7f\">                       </span>\n",
       "</pre>\n"
      ],
      "text/plain": [
       "\u001b[2;36m                   \u001b[0m\u001b[2;36m \u001b[0m\u001b[34mINFO    \u001b[0m INFO:src.data.kispp_datamodule:                   ds   y       \u001b]8;id=907724;file:///workspaces/ai4healthcare/src/data/kispp_datamodule.py\u001b\\\u001b[2mkispp_datamodule.py\u001b[0m\u001b]8;;\u001b\\\u001b[2m:\u001b[0m\u001b]8;id=918827;file:///workspaces/ai4healthcare/src/data/kispp_datamodule.py#136\u001b\\\u001b[2m136\u001b[0m\u001b]8;;\u001b\\\n",
       "\u001b[2;36m                    \u001b[0m         Pflege Station \u001b[1;36m10.3\u001b[0m II. Med._planned_absences_personnel_count  \u001b[2m                       \u001b[0m\n",
       "\u001b[2;36m                    \u001b[0m         Pflege Station \u001b[1;36m10.3\u001b[0m II.                                        \u001b[2m                       \u001b[0m\n",
       "\u001b[2;36m                    \u001b[0m         Med._unplanned_absences_personnel_count  Pflege Station        \u001b[2m                       \u001b[0m\n",
       "\u001b[2;36m                    \u001b[0m         \u001b[1;36m11.\u001b[0m1_11.4_worked_personnel_count  Pflege Station               \u001b[2m                       \u001b[0m\n",
       "\u001b[2;36m                    \u001b[0m         \u001b[1;36m11.\u001b[0m1_11.4_planned_absences_personnel_count  Pflege Station     \u001b[2m                       \u001b[0m\n",
       "\u001b[2;36m                    \u001b[0m         \u001b[1;36m11.\u001b[0m1_11.4_unplanned_absences_personnel_count  Pflege Station   \u001b[2m                       \u001b[0m\n",
       "\u001b[2;36m                    \u001b[0m         \u001b[1;36m9.7\u001b[0m UCH_worked_personnel_count  Pflege Station \u001b[1;36m9.7\u001b[0m             \u001b[2m                       \u001b[0m\n",
       "\u001b[2;36m                    \u001b[0m         UCH_planned_absences_personnel_count  Pflege Station \u001b[1;36m9.7\u001b[0m       \u001b[2m                       \u001b[0m\n",
       "\u001b[2;36m                    \u001b[0m         UCH_unplanned_absences_personnel_count  Pflege Station \u001b[1;36m8.5\u001b[0m/\u001b[1;36m8.8\u001b[0m \u001b[2m                       \u001b[0m\n",
       "\u001b[2;36m                    \u001b[0m         I. Med._worked_personnel_count  Pflege Station \u001b[1;36m8.5\u001b[0m/\u001b[1;36m8.8\u001b[0m I.      \u001b[2m                       \u001b[0m\n",
       "\u001b[2;36m                    \u001b[0m         Med._planned_absences_personnel_count  Pflege Station \u001b[1;36m8.5\u001b[0m/\u001b[1;36m8.8\u001b[0m  \u001b[2m                       \u001b[0m\n",
       "\u001b[2;36m                    \u001b[0m         I. Med._unplanned_absences_personnel_count  public_holiday     \u001b[2m                       \u001b[0m\n",
       "\u001b[2;36m                    \u001b[0m         school_holiday  influenza_incidence  ARE_incidence             \u001b[2m                       \u001b[0m\n",
       "\u001b[2;36m                    \u001b[0m         ILI_incidence  sin_day_of_week  cos_day_of_week                \u001b[2m                       \u001b[0m\n",
       "\u001b[2;36m                    \u001b[0m         sin_day_of_year  cos_day_of_year  sin_day_of_month             \u001b[2m                       \u001b[0m\n",
       "\u001b[2;36m                    \u001b[0m         cos_day_of_month  sin_month_of_year  cos_month_of_year         \u001b[2m                       \u001b[0m\n",
       "\u001b[2;36m                    \u001b[0m         sin_hour_of_day  cos_hour_of_day                     unique_id \u001b[2m                       \u001b[0m\n",
       "\u001b[2;36m                    \u001b[0m         \u001b[1;36m0\u001b[0m \u001b[1;36m2022\u001b[0m-\u001b[1;36m01\u001b[0m-\u001b[1;36m01\u001b[0m \u001b[1;92m12:00:00\u001b[0m   \u001b[1;36m9\u001b[0m                                      \u001b[2m                       \u001b[0m\n",
       "\u001b[2;36m                    \u001b[0m         \u001b[1;36m50\u001b[0m                                                             \u001b[2m                       \u001b[0m\n",
       "\u001b[2;36m                    \u001b[0m         \u001b[1;36m5\u001b[0m                                               \u001b[1;36m12\u001b[0m             \u001b[2m                       \u001b[0m\n",
       "\u001b[2;36m                    \u001b[0m         \u001b[1;36m38\u001b[0m                                                             \u001b[2m                       \u001b[0m\n",
       "\u001b[2;36m                    \u001b[0m         \u001b[1;36m5\u001b[0m                                              \u001b[1;36m7\u001b[0m               \u001b[2m                       \u001b[0m\n",
       "\u001b[2;36m                    \u001b[0m         \u001b[1;36m38\u001b[0m                                                          \u001b[1;36m3\u001b[0m  \u001b[2m                       \u001b[0m\n",
       "\u001b[2;36m                    \u001b[0m         \u001b[1;36m9\u001b[0m                                                              \u001b[2m                       \u001b[0m\n",
       "\u001b[2;36m                    \u001b[0m         \u001b[1;36m32\u001b[0m                                                             \u001b[2m                       \u001b[0m\n",
       "\u001b[2;36m                    \u001b[0m         \u001b[1;36m1\u001b[0m               \u001b[1;36m1\u001b[0m               \u001b[1;36m1\u001b[0m                 \u001b[1;36m0.14\u001b[0m         \u001b[2m                       \u001b[0m\n",
       "\u001b[2;36m                    \u001b[0m         \u001b[1;36m2761\u001b[0m            \u001b[1;36m373\u001b[0m                \u001b[1;36m5\u001b[0m        \u001b[1;36m-0.222521\u001b[0m          \u001b[2m                       \u001b[0m\n",
       "\u001b[2;36m                    \u001b[0m         \u001b[1;36m0.017213\u001b[0m         \u001b[1;36m0.999852\u001b[0m          \u001b[1;36m0.201299\u001b[0m           \u001b[1;36m0.97953\u001b[0m  \u001b[2m                       \u001b[0m\n",
       "\u001b[2;36m                    \u001b[0m         \u001b[1;36m0.5\u001b[0m           \u001b[1;36m0.866025\u001b[0m     \u001b[1;36m1.224647e-16\u001b[0m        \u001b[1;36m-1.000000\u001b[0m       \u001b[2m                       \u001b[0m\n",
       "\u001b[2;36m                    \u001b[0m         Pflege Station \u001b[1;36m10.3\u001b[0m II. Med.                                   \u001b[2m                       \u001b[0m\n",
       "\u001b[2;36m                    \u001b[0m         \u001b[1;36m1\u001b[0m \u001b[1;36m2022\u001b[0m-\u001b[1;36m01\u001b[0m-\u001b[1;36m01\u001b[0m \u001b[1;92m13:00:00\u001b[0m  \u001b[1;36m14\u001b[0m                                      \u001b[2m                       \u001b[0m\n",
       "\u001b[2;36m                    \u001b[0m         \u001b[1;36m50\u001b[0m                                                             \u001b[2m                       \u001b[0m\n",
       "\u001b[2;36m                    \u001b[0m         \u001b[1;36m8\u001b[0m                                               \u001b[1;36m20\u001b[0m             \u001b[2m                       \u001b[0m\n",
       "\u001b[2;36m                    \u001b[0m         \u001b[1;36m38\u001b[0m                                                             \u001b[2m                       \u001b[0m\n",
       "\u001b[2;36m                    \u001b[0m         \u001b[1;36m6\u001b[0m                                             \u001b[1;36m12\u001b[0m               \u001b[2m                       \u001b[0m\n",
       "\u001b[2;36m                    \u001b[0m         \u001b[1;36m38\u001b[0m                                                          \u001b[1;36m4\u001b[0m  \u001b[2m                       \u001b[0m\n",
       "\u001b[2;36m                    \u001b[0m         \u001b[1;36m16\u001b[0m                                                             \u001b[2m                       \u001b[0m\n",
       "\u001b[2;36m                    \u001b[0m         \u001b[1;36m32\u001b[0m                                                             \u001b[2m                       \u001b[0m\n",
       "\u001b[2;36m                    \u001b[0m         \u001b[1;36m1\u001b[0m               \u001b[1;36m1\u001b[0m               \u001b[1;36m1\u001b[0m                 \u001b[1;36m0.14\u001b[0m         \u001b[2m                       \u001b[0m\n",
       "\u001b[2;36m                    \u001b[0m         \u001b[1;36m2761\u001b[0m            \u001b[1;36m373\u001b[0m                \u001b[1;36m5\u001b[0m        \u001b[1;36m-0.222521\u001b[0m          \u001b[2m                       \u001b[0m\n",
       "\u001b[2;36m                    \u001b[0m         \u001b[1;36m0.017213\u001b[0m         \u001b[1;36m0.999852\u001b[0m          \u001b[1;36m0.201299\u001b[0m           \u001b[1;36m0.97953\u001b[0m  \u001b[2m                       \u001b[0m\n",
       "\u001b[2;36m                    \u001b[0m         \u001b[1;36m0.5\u001b[0m           \u001b[1;36m0.866025\u001b[0m    \u001b[1;36m-2.588190e-01\u001b[0m        \u001b[1;36m-0.965926\u001b[0m       \u001b[2m                       \u001b[0m\n",
       "\u001b[2;36m                    \u001b[0m         Pflege Station \u001b[1;36m10.3\u001b[0m II. Med.                                   \u001b[2m                       \u001b[0m\n",
       "\u001b[2;36m                    \u001b[0m         \u001b[1;36m2\u001b[0m \u001b[1;36m2022\u001b[0m-\u001b[1;36m01\u001b[0m-\u001b[1;36m01\u001b[0m \u001b[1;92m14:00:00\u001b[0m  \u001b[1;36m14\u001b[0m                                      \u001b[2m                       \u001b[0m\n",
       "\u001b[2;36m                    \u001b[0m         \u001b[1;36m50\u001b[0m                                                             \u001b[2m                       \u001b[0m\n",
       "\u001b[2;36m                    \u001b[0m         \u001b[1;36m8\u001b[0m                                               \u001b[1;36m20\u001b[0m             \u001b[2m                       \u001b[0m\n",
       "\u001b[2;36m                    \u001b[0m         \u001b[1;36m38\u001b[0m                                                             \u001b[2m                       \u001b[0m\n",
       "\u001b[2;36m                    \u001b[0m         \u001b[1;36m6\u001b[0m                                             \u001b[1;36m12\u001b[0m               \u001b[2m                       \u001b[0m\n",
       "\u001b[2;36m                    \u001b[0m         \u001b[1;36m38\u001b[0m                                                          \u001b[1;36m4\u001b[0m  \u001b[2m                       \u001b[0m\n",
       "\u001b[2;36m                    \u001b[0m         \u001b[1;36m16\u001b[0m                                                             \u001b[2m                       \u001b[0m\n",
       "\u001b[2;36m                    \u001b[0m         \u001b[1;36m32\u001b[0m                                                             \u001b[2m                       \u001b[0m\n",
       "\u001b[2;36m                    \u001b[0m         \u001b[1;36m1\u001b[0m               \u001b[1;36m1\u001b[0m               \u001b[1;36m1\u001b[0m                 \u001b[1;36m0.14\u001b[0m         \u001b[2m                       \u001b[0m\n",
       "\u001b[2;36m                    \u001b[0m         \u001b[1;36m2761\u001b[0m            \u001b[1;36m373\u001b[0m                \u001b[1;36m5\u001b[0m        \u001b[1;36m-0.222521\u001b[0m          \u001b[2m                       \u001b[0m\n",
       "\u001b[2;36m                    \u001b[0m         \u001b[1;36m0.017213\u001b[0m         \u001b[1;36m0.999852\u001b[0m          \u001b[1;36m0.201299\u001b[0m           \u001b[1;36m0.97953\u001b[0m  \u001b[2m                       \u001b[0m\n",
       "\u001b[2;36m                    \u001b[0m         \u001b[1;36m0.5\u001b[0m           \u001b[1;36m0.866025\u001b[0m    \u001b[1;36m-5.000000e-01\u001b[0m        \u001b[1;36m-0.866025\u001b[0m       \u001b[2m                       \u001b[0m\n",
       "\u001b[2;36m                    \u001b[0m         Pflege Station \u001b[1;36m10.3\u001b[0m II. Med.                                   \u001b[2m                       \u001b[0m\n",
       "\u001b[2;36m                    \u001b[0m         \u001b[1;36m3\u001b[0m \u001b[1;36m2022\u001b[0m-\u001b[1;36m01\u001b[0m-\u001b[1;36m01\u001b[0m \u001b[1;92m15:00:00\u001b[0m   \u001b[1;36m5\u001b[0m                                      \u001b[2m                       \u001b[0m\n",
       "\u001b[2;36m                    \u001b[0m         \u001b[1;36m50\u001b[0m                                                             \u001b[2m                       \u001b[0m\n",
       "\u001b[2;36m                    \u001b[0m         \u001b[1;36m8\u001b[0m                                               \u001b[1;36m10\u001b[0m             \u001b[2m                       \u001b[0m\n",
       "\u001b[2;36m                    \u001b[0m         \u001b[1;36m38\u001b[0m                                                             \u001b[2m                       \u001b[0m\n",
       "\u001b[2;36m                    \u001b[0m         \u001b[1;36m6\u001b[0m                                              \u001b[1;36m5\u001b[0m               \u001b[2m                       \u001b[0m\n",
       "\u001b[2;36m                    \u001b[0m         \u001b[1;36m38\u001b[0m                                                          \u001b[1;36m4\u001b[0m  \u001b[2m                       \u001b[0m\n",
       "\u001b[2;36m                    \u001b[0m         \u001b[1;36m7\u001b[0m                                                              \u001b[2m                       \u001b[0m\n",
       "\u001b[2;36m                    \u001b[0m         \u001b[1;36m32\u001b[0m                                                             \u001b[2m                       \u001b[0m\n",
       "\u001b[2;36m                    \u001b[0m         \u001b[1;36m1\u001b[0m               \u001b[1;36m1\u001b[0m               \u001b[1;36m1\u001b[0m                 \u001b[1;36m0.14\u001b[0m         \u001b[2m                       \u001b[0m\n",
       "\u001b[2;36m                    \u001b[0m         \u001b[1;36m2761\u001b[0m            \u001b[1;36m373\u001b[0m                \u001b[1;36m5\u001b[0m        \u001b[1;36m-0.222521\u001b[0m          \u001b[2m                       \u001b[0m\n",
       "\u001b[2;36m                    \u001b[0m         \u001b[1;36m0.017213\u001b[0m         \u001b[1;36m0.999852\u001b[0m          \u001b[1;36m0.201299\u001b[0m           \u001b[1;36m0.97953\u001b[0m  \u001b[2m                       \u001b[0m\n",
       "\u001b[2;36m                    \u001b[0m         \u001b[1;36m0.5\u001b[0m           \u001b[1;36m0.866025\u001b[0m    \u001b[1;36m-7.071068e-01\u001b[0m        \u001b[1;36m-0.707107\u001b[0m       \u001b[2m                       \u001b[0m\n",
       "\u001b[2;36m                    \u001b[0m         Pflege Station \u001b[1;36m10.3\u001b[0m II. Med.                                   \u001b[2m                       \u001b[0m\n",
       "\u001b[2;36m                    \u001b[0m         \u001b[1;36m4\u001b[0m \u001b[1;36m2022\u001b[0m-\u001b[1;36m01\u001b[0m-\u001b[1;36m01\u001b[0m \u001b[1;92m16:00:00\u001b[0m   \u001b[1;36m5\u001b[0m                                      \u001b[2m                       \u001b[0m\n",
       "\u001b[2;36m                    \u001b[0m         \u001b[1;36m50\u001b[0m                                                             \u001b[2m                       \u001b[0m\n",
       "\u001b[2;36m                    \u001b[0m         \u001b[1;36m8\u001b[0m                                                \u001b[1;36m9\u001b[0m             \u001b[2m                       \u001b[0m\n",
       "\u001b[2;36m                    \u001b[0m         \u001b[1;36m38\u001b[0m                                                             \u001b[2m                       \u001b[0m\n",
       "\u001b[2;36m                    \u001b[0m         \u001b[1;36m6\u001b[0m                                              \u001b[1;36m5\u001b[0m               \u001b[2m                       \u001b[0m\n",
       "\u001b[2;36m                    \u001b[0m         \u001b[1;36m38\u001b[0m                                                          \u001b[1;36m4\u001b[0m  \u001b[2m                       \u001b[0m\n",
       "\u001b[2;36m                    \u001b[0m         \u001b[1;36m7\u001b[0m                                                              \u001b[2m                       \u001b[0m\n",
       "\u001b[2;36m                    \u001b[0m         \u001b[1;36m32\u001b[0m                                                             \u001b[2m                       \u001b[0m\n",
       "\u001b[2;36m                    \u001b[0m         \u001b[1;36m1\u001b[0m               \u001b[1;36m1\u001b[0m               \u001b[1;36m1\u001b[0m                 \u001b[1;36m0.14\u001b[0m         \u001b[2m                       \u001b[0m\n",
       "\u001b[2;36m                    \u001b[0m         \u001b[1;36m2761\u001b[0m            \u001b[1;36m373\u001b[0m                \u001b[1;36m5\u001b[0m        \u001b[1;36m-0.222521\u001b[0m          \u001b[2m                       \u001b[0m\n",
       "\u001b[2;36m                    \u001b[0m         \u001b[1;36m0.017213\u001b[0m         \u001b[1;36m0.999852\u001b[0m          \u001b[1;36m0.201299\u001b[0m           \u001b[1;36m0.97953\u001b[0m  \u001b[2m                       \u001b[0m\n",
       "\u001b[2;36m                    \u001b[0m         \u001b[1;36m0.5\u001b[0m           \u001b[1;36m0.866025\u001b[0m    \u001b[1;36m-8.660254e-01\u001b[0m        \u001b[1;36m-0.500000\u001b[0m       \u001b[2m                       \u001b[0m\n",
       "\u001b[2;36m                    \u001b[0m         Pflege Station \u001b[1;36m10.3\u001b[0m II. Med.                                   \u001b[2m                       \u001b[0m\n"
      ]
     },
     "metadata": {},
     "output_type": "display_data"
    },
    {
     "data": {
      "text/html": [
       "<pre style=\"white-space:pre;overflow-x:auto;line-height:normal;font-family:Menlo,'DejaVu Sans Mono',consolas,'Courier New',monospace\"><span style=\"color: #7fbfbf; text-decoration-color: #7fbfbf\">                    </span><span style=\"color: #000080; text-decoration-color: #000080\">INFO    </span> INFO:src.data.kispp_datamodul<span style=\"color: #00ff00; text-decoration-color: #00ff00; font-weight: bold\">e:f</span>uture exogenous timeseries     <a href=\"file:///workspaces/ai4healthcare/src/data/kispp_datamodule.py\" target=\"_blank\"><span style=\"color: #7f7f7f; text-decoration-color: #7f7f7f\">kispp_datamodule.py</span></a><span style=\"color: #7f7f7f; text-decoration-color: #7f7f7f\">:</span><a href=\"file:///workspaces/ai4healthcare/src/data/kispp_datamodule.py#137\" target=\"_blank\"><span style=\"color: #7f7f7f; text-decoration-color: #7f7f7f\">137</span></a>\n",
       "<span style=\"color: #7fbfbf; text-decoration-color: #7fbfbf\">                    </span>         head:                                                          <span style=\"color: #7f7f7f; text-decoration-color: #7f7f7f\">                       </span>\n",
       "</pre>\n"
      ],
      "text/plain": [
       "\u001b[2;36m                   \u001b[0m\u001b[2;36m \u001b[0m\u001b[34mINFO    \u001b[0m INFO:src.data.kispp_datamodul\u001b[1;92me:f\u001b[0muture exogenous timeseries     \u001b]8;id=108242;file:///workspaces/ai4healthcare/src/data/kispp_datamodule.py\u001b\\\u001b[2mkispp_datamodule.py\u001b[0m\u001b]8;;\u001b\\\u001b[2m:\u001b[0m\u001b]8;id=464217;file:///workspaces/ai4healthcare/src/data/kispp_datamodule.py#137\u001b\\\u001b[2m137\u001b[0m\u001b]8;;\u001b\\\n",
       "\u001b[2;36m                    \u001b[0m         head:                                                          \u001b[2m                       \u001b[0m\n"
      ]
     },
     "metadata": {},
     "output_type": "display_data"
    },
    {
     "data": {
      "text/html": [
       "<pre style=\"white-space:pre;overflow-x:auto;line-height:normal;font-family:Menlo,'DejaVu Sans Mono',consolas,'Courier New',monospace\"><span style=\"color: #7fbfbf; text-decoration-color: #7fbfbf\">                    </span><span style=\"color: #000080; text-decoration-color: #000080\">INFO    </span> INFO:src.data.kispp_datamodule:                   ds  Pflege   <a href=\"file:///workspaces/ai4healthcare/src/data/kispp_datamodule.py\" target=\"_blank\"><span style=\"color: #7f7f7f; text-decoration-color: #7f7f7f\">kispp_datamodule.py</span></a><span style=\"color: #7f7f7f; text-decoration-color: #7f7f7f\">:</span><a href=\"file:///workspaces/ai4healthcare/src/data/kispp_datamodule.py#138\" target=\"_blank\"><span style=\"color: #7f7f7f; text-decoration-color: #7f7f7f\">138</span></a>\n",
       "<span style=\"color: #7fbfbf; text-decoration-color: #7fbfbf\">                    </span>         Station <span style=\"color: #008080; text-decoration-color: #008080; font-weight: bold\">10.3</span> II. Med._planned_absences_personnel_count  Pflege <span style=\"color: #7f7f7f; text-decoration-color: #7f7f7f\">                       </span>\n",
       "<span style=\"color: #7fbfbf; text-decoration-color: #7fbfbf\">                    </span>         Station <span style=\"color: #008080; text-decoration-color: #008080; font-weight: bold\">11.</span>1_11.4_planned_absences_personnel_count  Pflege     <span style=\"color: #7f7f7f; text-decoration-color: #7f7f7f\">                       </span>\n",
       "<span style=\"color: #7fbfbf; text-decoration-color: #7fbfbf\">                    </span>         Station <span style=\"color: #008080; text-decoration-color: #008080; font-weight: bold\">9.7</span> UCH_planned_absences_personnel_count  Pflege       <span style=\"color: #7f7f7f; text-decoration-color: #7f7f7f\">                       </span>\n",
       "<span style=\"color: #7fbfbf; text-decoration-color: #7fbfbf\">                    </span>         Station <span style=\"color: #008080; text-decoration-color: #008080; font-weight: bold\">8.5</span>/<span style=\"color: #008080; text-decoration-color: #008080; font-weight: bold\">8.8</span> I. Med._planned_absences_personnel_count       <span style=\"color: #7f7f7f; text-decoration-color: #7f7f7f\">                       </span>\n",
       "<span style=\"color: #7fbfbf; text-decoration-color: #7fbfbf\">                    </span>         public_holiday  school_holiday  sin_day_of_week                <span style=\"color: #7f7f7f; text-decoration-color: #7f7f7f\">                       </span>\n",
       "<span style=\"color: #7fbfbf; text-decoration-color: #7fbfbf\">                    </span>         cos_day_of_week  sin_day_of_year  cos_day_of_year              <span style=\"color: #7f7f7f; text-decoration-color: #7f7f7f\">                       </span>\n",
       "<span style=\"color: #7fbfbf; text-decoration-color: #7fbfbf\">                    </span>         sin_day_of_month  cos_day_of_month  sin_month_of_year          <span style=\"color: #7f7f7f; text-decoration-color: #7f7f7f\">                       </span>\n",
       "<span style=\"color: #7fbfbf; text-decoration-color: #7fbfbf\">                    </span>         cos_month_of_year  sin_hour_of_day  cos_hour_of_day            <span style=\"color: #7f7f7f; text-decoration-color: #7f7f7f\">                       </span>\n",
       "<span style=\"color: #7fbfbf; text-decoration-color: #7fbfbf\">                    </span>         unique_id                                                      <span style=\"color: #7f7f7f; text-decoration-color: #7f7f7f\">                       </span>\n",
       "<span style=\"color: #7fbfbf; text-decoration-color: #7fbfbf\">                    </span>         <span style=\"color: #008080; text-decoration-color: #008080; font-weight: bold\">0</span> <span style=\"color: #008080; text-decoration-color: #008080; font-weight: bold\">2022</span>-<span style=\"color: #008080; text-decoration-color: #008080; font-weight: bold\">01</span>-<span style=\"color: #008080; text-decoration-color: #008080; font-weight: bold\">01</span> <span style=\"color: #00ff00; text-decoration-color: #00ff00; font-weight: bold\">00:00:00</span>                                          <span style=\"color: #7f7f7f; text-decoration-color: #7f7f7f\">                       </span>\n",
       "<span style=\"color: #7fbfbf; text-decoration-color: #7fbfbf\">                    </span>         <span style=\"color: #008080; text-decoration-color: #008080; font-weight: bold\">50</span>                                                         <span style=\"color: #008080; text-decoration-color: #008080; font-weight: bold\">38</span>  <span style=\"color: #7f7f7f; text-decoration-color: #7f7f7f\">                       </span>\n",
       "<span style=\"color: #7fbfbf; text-decoration-color: #7fbfbf\">                    </span>         <span style=\"color: #008080; text-decoration-color: #008080; font-weight: bold\">38</span>                                                             <span style=\"color: #7f7f7f; text-decoration-color: #7f7f7f\">                       </span>\n",
       "<span style=\"color: #7fbfbf; text-decoration-color: #7fbfbf\">                    </span>         <span style=\"color: #008080; text-decoration-color: #008080; font-weight: bold\">32</span>               <span style=\"color: #008080; text-decoration-color: #008080; font-weight: bold\">1</span>               <span style=\"color: #008080; text-decoration-color: #008080; font-weight: bold\">1</span>                <span style=\"color: #008080; text-decoration-color: #008080; font-weight: bold\">5</span>            <span style=\"color: #7f7f7f; text-decoration-color: #7f7f7f\">                       </span>\n",
       "<span style=\"color: #7fbfbf; text-decoration-color: #7fbfbf\">                    </span>         <span style=\"color: #008080; text-decoration-color: #008080; font-weight: bold\">-0.222521</span>         <span style=\"color: #008080; text-decoration-color: #008080; font-weight: bold\">0.017213</span>         <span style=\"color: #008080; text-decoration-color: #008080; font-weight: bold\">0.999852</span>          <span style=\"color: #008080; text-decoration-color: #008080; font-weight: bold\">0.201299</span>  <span style=\"color: #7f7f7f; text-decoration-color: #7f7f7f\">                       </span>\n",
       "<span style=\"color: #7fbfbf; text-decoration-color: #7fbfbf\">                    </span>         <span style=\"color: #008080; text-decoration-color: #008080; font-weight: bold\">0.97953</span>                <span style=\"color: #008080; text-decoration-color: #008080; font-weight: bold\">0.5</span>           <span style=\"color: #008080; text-decoration-color: #008080; font-weight: bold\">0.866025</span>         <span style=\"color: #008080; text-decoration-color: #008080; font-weight: bold\">0.000000</span> <span style=\"color: #7f7f7f; text-decoration-color: #7f7f7f\">                       </span>\n",
       "<span style=\"color: #7fbfbf; text-decoration-color: #7fbfbf\">                    </span>         <span style=\"color: #008080; text-decoration-color: #008080; font-weight: bold\">1.000000</span>  Pflege Station <span style=\"color: #008080; text-decoration-color: #008080; font-weight: bold\">10.3</span> II. Med.                         <span style=\"color: #7f7f7f; text-decoration-color: #7f7f7f\">                       </span>\n",
       "<span style=\"color: #7fbfbf; text-decoration-color: #7fbfbf\">                    </span>         <span style=\"color: #008080; text-decoration-color: #008080; font-weight: bold\">1</span> <span style=\"color: #008080; text-decoration-color: #008080; font-weight: bold\">2022</span>-<span style=\"color: #008080; text-decoration-color: #008080; font-weight: bold\">01</span>-<span style=\"color: #008080; text-decoration-color: #008080; font-weight: bold\">01</span> <span style=\"color: #00ff00; text-decoration-color: #00ff00; font-weight: bold\">01:00:00</span>                                          <span style=\"color: #7f7f7f; text-decoration-color: #7f7f7f\">                       </span>\n",
       "<span style=\"color: #7fbfbf; text-decoration-color: #7fbfbf\">                    </span>         <span style=\"color: #008080; text-decoration-color: #008080; font-weight: bold\">50</span>                                                         <span style=\"color: #008080; text-decoration-color: #008080; font-weight: bold\">38</span>  <span style=\"color: #7f7f7f; text-decoration-color: #7f7f7f\">                       </span>\n",
       "<span style=\"color: #7fbfbf; text-decoration-color: #7fbfbf\">                    </span>         <span style=\"color: #008080; text-decoration-color: #008080; font-weight: bold\">38</span>                                                             <span style=\"color: #7f7f7f; text-decoration-color: #7f7f7f\">                       </span>\n",
       "<span style=\"color: #7fbfbf; text-decoration-color: #7fbfbf\">                    </span>         <span style=\"color: #008080; text-decoration-color: #008080; font-weight: bold\">32</span>               <span style=\"color: #008080; text-decoration-color: #008080; font-weight: bold\">1</span>               <span style=\"color: #008080; text-decoration-color: #008080; font-weight: bold\">1</span>                <span style=\"color: #008080; text-decoration-color: #008080; font-weight: bold\">5</span>            <span style=\"color: #7f7f7f; text-decoration-color: #7f7f7f\">                       </span>\n",
       "<span style=\"color: #7fbfbf; text-decoration-color: #7fbfbf\">                    </span>         <span style=\"color: #008080; text-decoration-color: #008080; font-weight: bold\">-0.222521</span>         <span style=\"color: #008080; text-decoration-color: #008080; font-weight: bold\">0.017213</span>         <span style=\"color: #008080; text-decoration-color: #008080; font-weight: bold\">0.999852</span>          <span style=\"color: #008080; text-decoration-color: #008080; font-weight: bold\">0.201299</span>  <span style=\"color: #7f7f7f; text-decoration-color: #7f7f7f\">                       </span>\n",
       "<span style=\"color: #7fbfbf; text-decoration-color: #7fbfbf\">                    </span>         <span style=\"color: #008080; text-decoration-color: #008080; font-weight: bold\">0.97953</span>                <span style=\"color: #008080; text-decoration-color: #008080; font-weight: bold\">0.5</span>           <span style=\"color: #008080; text-decoration-color: #008080; font-weight: bold\">0.866025</span>         <span style=\"color: #008080; text-decoration-color: #008080; font-weight: bold\">0.258819</span> <span style=\"color: #7f7f7f; text-decoration-color: #7f7f7f\">                       </span>\n",
       "<span style=\"color: #7fbfbf; text-decoration-color: #7fbfbf\">                    </span>         <span style=\"color: #008080; text-decoration-color: #008080; font-weight: bold\">0.965926</span>  Pflege Station <span style=\"color: #008080; text-decoration-color: #008080; font-weight: bold\">10.3</span> II. Med.                         <span style=\"color: #7f7f7f; text-decoration-color: #7f7f7f\">                       </span>\n",
       "<span style=\"color: #7fbfbf; text-decoration-color: #7fbfbf\">                    </span>         <span style=\"color: #008080; text-decoration-color: #008080; font-weight: bold\">2</span> <span style=\"color: #008080; text-decoration-color: #008080; font-weight: bold\">2022</span>-<span style=\"color: #008080; text-decoration-color: #008080; font-weight: bold\">01</span>-<span style=\"color: #008080; text-decoration-color: #008080; font-weight: bold\">01</span> <span style=\"color: #00ff00; text-decoration-color: #00ff00; font-weight: bold\">02:00:00</span>                                          <span style=\"color: #7f7f7f; text-decoration-color: #7f7f7f\">                       </span>\n",
       "<span style=\"color: #7fbfbf; text-decoration-color: #7fbfbf\">                    </span>         <span style=\"color: #008080; text-decoration-color: #008080; font-weight: bold\">50</span>                                                         <span style=\"color: #008080; text-decoration-color: #008080; font-weight: bold\">38</span>  <span style=\"color: #7f7f7f; text-decoration-color: #7f7f7f\">                       </span>\n",
       "<span style=\"color: #7fbfbf; text-decoration-color: #7fbfbf\">                    </span>         <span style=\"color: #008080; text-decoration-color: #008080; font-weight: bold\">38</span>                                                             <span style=\"color: #7f7f7f; text-decoration-color: #7f7f7f\">                       </span>\n",
       "<span style=\"color: #7fbfbf; text-decoration-color: #7fbfbf\">                    </span>         <span style=\"color: #008080; text-decoration-color: #008080; font-weight: bold\">32</span>               <span style=\"color: #008080; text-decoration-color: #008080; font-weight: bold\">1</span>               <span style=\"color: #008080; text-decoration-color: #008080; font-weight: bold\">1</span>                <span style=\"color: #008080; text-decoration-color: #008080; font-weight: bold\">5</span>            <span style=\"color: #7f7f7f; text-decoration-color: #7f7f7f\">                       </span>\n",
       "<span style=\"color: #7fbfbf; text-decoration-color: #7fbfbf\">                    </span>         <span style=\"color: #008080; text-decoration-color: #008080; font-weight: bold\">-0.222521</span>         <span style=\"color: #008080; text-decoration-color: #008080; font-weight: bold\">0.017213</span>         <span style=\"color: #008080; text-decoration-color: #008080; font-weight: bold\">0.999852</span>          <span style=\"color: #008080; text-decoration-color: #008080; font-weight: bold\">0.201299</span>  <span style=\"color: #7f7f7f; text-decoration-color: #7f7f7f\">                       </span>\n",
       "<span style=\"color: #7fbfbf; text-decoration-color: #7fbfbf\">                    </span>         <span style=\"color: #008080; text-decoration-color: #008080; font-weight: bold\">0.97953</span>                <span style=\"color: #008080; text-decoration-color: #008080; font-weight: bold\">0.5</span>           <span style=\"color: #008080; text-decoration-color: #008080; font-weight: bold\">0.866025</span>         <span style=\"color: #008080; text-decoration-color: #008080; font-weight: bold\">0.500000</span> <span style=\"color: #7f7f7f; text-decoration-color: #7f7f7f\">                       </span>\n",
       "<span style=\"color: #7fbfbf; text-decoration-color: #7fbfbf\">                    </span>         <span style=\"color: #008080; text-decoration-color: #008080; font-weight: bold\">0.866025</span>  Pflege Station <span style=\"color: #008080; text-decoration-color: #008080; font-weight: bold\">10.3</span> II. Med.                         <span style=\"color: #7f7f7f; text-decoration-color: #7f7f7f\">                       </span>\n",
       "<span style=\"color: #7fbfbf; text-decoration-color: #7fbfbf\">                    </span>         <span style=\"color: #008080; text-decoration-color: #008080; font-weight: bold\">3</span> <span style=\"color: #008080; text-decoration-color: #008080; font-weight: bold\">2022</span>-<span style=\"color: #008080; text-decoration-color: #008080; font-weight: bold\">01</span>-<span style=\"color: #008080; text-decoration-color: #008080; font-weight: bold\">01</span> <span style=\"color: #00ff00; text-decoration-color: #00ff00; font-weight: bold\">03:00:00</span>                                          <span style=\"color: #7f7f7f; text-decoration-color: #7f7f7f\">                       </span>\n",
       "<span style=\"color: #7fbfbf; text-decoration-color: #7fbfbf\">                    </span>         <span style=\"color: #008080; text-decoration-color: #008080; font-weight: bold\">50</span>                                                         <span style=\"color: #008080; text-decoration-color: #008080; font-weight: bold\">38</span>  <span style=\"color: #7f7f7f; text-decoration-color: #7f7f7f\">                       </span>\n",
       "<span style=\"color: #7fbfbf; text-decoration-color: #7fbfbf\">                    </span>         <span style=\"color: #008080; text-decoration-color: #008080; font-weight: bold\">38</span>                                                             <span style=\"color: #7f7f7f; text-decoration-color: #7f7f7f\">                       </span>\n",
       "<span style=\"color: #7fbfbf; text-decoration-color: #7fbfbf\">                    </span>         <span style=\"color: #008080; text-decoration-color: #008080; font-weight: bold\">32</span>               <span style=\"color: #008080; text-decoration-color: #008080; font-weight: bold\">1</span>               <span style=\"color: #008080; text-decoration-color: #008080; font-weight: bold\">1</span>                <span style=\"color: #008080; text-decoration-color: #008080; font-weight: bold\">5</span>            <span style=\"color: #7f7f7f; text-decoration-color: #7f7f7f\">                       </span>\n",
       "<span style=\"color: #7fbfbf; text-decoration-color: #7fbfbf\">                    </span>         <span style=\"color: #008080; text-decoration-color: #008080; font-weight: bold\">-0.222521</span>         <span style=\"color: #008080; text-decoration-color: #008080; font-weight: bold\">0.017213</span>         <span style=\"color: #008080; text-decoration-color: #008080; font-weight: bold\">0.999852</span>          <span style=\"color: #008080; text-decoration-color: #008080; font-weight: bold\">0.201299</span>  <span style=\"color: #7f7f7f; text-decoration-color: #7f7f7f\">                       </span>\n",
       "<span style=\"color: #7fbfbf; text-decoration-color: #7fbfbf\">                    </span>         <span style=\"color: #008080; text-decoration-color: #008080; font-weight: bold\">0.97953</span>                <span style=\"color: #008080; text-decoration-color: #008080; font-weight: bold\">0.5</span>           <span style=\"color: #008080; text-decoration-color: #008080; font-weight: bold\">0.866025</span>         <span style=\"color: #008080; text-decoration-color: #008080; font-weight: bold\">0.707107</span> <span style=\"color: #7f7f7f; text-decoration-color: #7f7f7f\">                       </span>\n",
       "<span style=\"color: #7fbfbf; text-decoration-color: #7fbfbf\">                    </span>         <span style=\"color: #008080; text-decoration-color: #008080; font-weight: bold\">0.707107</span>  Pflege Station <span style=\"color: #008080; text-decoration-color: #008080; font-weight: bold\">10.3</span> II. Med.                         <span style=\"color: #7f7f7f; text-decoration-color: #7f7f7f\">                       </span>\n",
       "<span style=\"color: #7fbfbf; text-decoration-color: #7fbfbf\">                    </span>         <span style=\"color: #008080; text-decoration-color: #008080; font-weight: bold\">4</span> <span style=\"color: #008080; text-decoration-color: #008080; font-weight: bold\">2022</span>-<span style=\"color: #008080; text-decoration-color: #008080; font-weight: bold\">01</span>-<span style=\"color: #008080; text-decoration-color: #008080; font-weight: bold\">01</span> <span style=\"color: #00ff00; text-decoration-color: #00ff00; font-weight: bold\">04:00:00</span>                                          <span style=\"color: #7f7f7f; text-decoration-color: #7f7f7f\">                       </span>\n",
       "<span style=\"color: #7fbfbf; text-decoration-color: #7fbfbf\">                    </span>         <span style=\"color: #008080; text-decoration-color: #008080; font-weight: bold\">50</span>                                                         <span style=\"color: #008080; text-decoration-color: #008080; font-weight: bold\">38</span>  <span style=\"color: #7f7f7f; text-decoration-color: #7f7f7f\">                       </span>\n",
       "<span style=\"color: #7fbfbf; text-decoration-color: #7fbfbf\">                    </span>         <span style=\"color: #008080; text-decoration-color: #008080; font-weight: bold\">38</span>                                                             <span style=\"color: #7f7f7f; text-decoration-color: #7f7f7f\">                       </span>\n",
       "<span style=\"color: #7fbfbf; text-decoration-color: #7fbfbf\">                    </span>         <span style=\"color: #008080; text-decoration-color: #008080; font-weight: bold\">32</span>               <span style=\"color: #008080; text-decoration-color: #008080; font-weight: bold\">1</span>               <span style=\"color: #008080; text-decoration-color: #008080; font-weight: bold\">1</span>                <span style=\"color: #008080; text-decoration-color: #008080; font-weight: bold\">5</span>            <span style=\"color: #7f7f7f; text-decoration-color: #7f7f7f\">                       </span>\n",
       "<span style=\"color: #7fbfbf; text-decoration-color: #7fbfbf\">                    </span>         <span style=\"color: #008080; text-decoration-color: #008080; font-weight: bold\">-0.222521</span>         <span style=\"color: #008080; text-decoration-color: #008080; font-weight: bold\">0.017213</span>         <span style=\"color: #008080; text-decoration-color: #008080; font-weight: bold\">0.999852</span>          <span style=\"color: #008080; text-decoration-color: #008080; font-weight: bold\">0.201299</span>  <span style=\"color: #7f7f7f; text-decoration-color: #7f7f7f\">                       </span>\n",
       "<span style=\"color: #7fbfbf; text-decoration-color: #7fbfbf\">                    </span>         <span style=\"color: #008080; text-decoration-color: #008080; font-weight: bold\">0.97953</span>                <span style=\"color: #008080; text-decoration-color: #008080; font-weight: bold\">0.5</span>           <span style=\"color: #008080; text-decoration-color: #008080; font-weight: bold\">0.866025</span>         <span style=\"color: #008080; text-decoration-color: #008080; font-weight: bold\">0.866025</span> <span style=\"color: #7f7f7f; text-decoration-color: #7f7f7f\">                       </span>\n",
       "<span style=\"color: #7fbfbf; text-decoration-color: #7fbfbf\">                    </span>         <span style=\"color: #008080; text-decoration-color: #008080; font-weight: bold\">0.500000</span>  Pflege Station <span style=\"color: #008080; text-decoration-color: #008080; font-weight: bold\">10.3</span> II. Med.                         <span style=\"color: #7f7f7f; text-decoration-color: #7f7f7f\">                       </span>\n",
       "</pre>\n"
      ],
      "text/plain": [
       "\u001b[2;36m                   \u001b[0m\u001b[2;36m \u001b[0m\u001b[34mINFO    \u001b[0m INFO:src.data.kispp_datamodule:                   ds  Pflege   \u001b]8;id=204785;file:///workspaces/ai4healthcare/src/data/kispp_datamodule.py\u001b\\\u001b[2mkispp_datamodule.py\u001b[0m\u001b]8;;\u001b\\\u001b[2m:\u001b[0m\u001b]8;id=546000;file:///workspaces/ai4healthcare/src/data/kispp_datamodule.py#138\u001b\\\u001b[2m138\u001b[0m\u001b]8;;\u001b\\\n",
       "\u001b[2;36m                    \u001b[0m         Station \u001b[1;36m10.3\u001b[0m II. Med._planned_absences_personnel_count  Pflege \u001b[2m                       \u001b[0m\n",
       "\u001b[2;36m                    \u001b[0m         Station \u001b[1;36m11.\u001b[0m1_11.4_planned_absences_personnel_count  Pflege     \u001b[2m                       \u001b[0m\n",
       "\u001b[2;36m                    \u001b[0m         Station \u001b[1;36m9.7\u001b[0m UCH_planned_absences_personnel_count  Pflege       \u001b[2m                       \u001b[0m\n",
       "\u001b[2;36m                    \u001b[0m         Station \u001b[1;36m8.5\u001b[0m/\u001b[1;36m8.8\u001b[0m I. Med._planned_absences_personnel_count       \u001b[2m                       \u001b[0m\n",
       "\u001b[2;36m                    \u001b[0m         public_holiday  school_holiday  sin_day_of_week                \u001b[2m                       \u001b[0m\n",
       "\u001b[2;36m                    \u001b[0m         cos_day_of_week  sin_day_of_year  cos_day_of_year              \u001b[2m                       \u001b[0m\n",
       "\u001b[2;36m                    \u001b[0m         sin_day_of_month  cos_day_of_month  sin_month_of_year          \u001b[2m                       \u001b[0m\n",
       "\u001b[2;36m                    \u001b[0m         cos_month_of_year  sin_hour_of_day  cos_hour_of_day            \u001b[2m                       \u001b[0m\n",
       "\u001b[2;36m                    \u001b[0m         unique_id                                                      \u001b[2m                       \u001b[0m\n",
       "\u001b[2;36m                    \u001b[0m         \u001b[1;36m0\u001b[0m \u001b[1;36m2022\u001b[0m-\u001b[1;36m01\u001b[0m-\u001b[1;36m01\u001b[0m \u001b[1;92m00:00:00\u001b[0m                                          \u001b[2m                       \u001b[0m\n",
       "\u001b[2;36m                    \u001b[0m         \u001b[1;36m50\u001b[0m                                                         \u001b[1;36m38\u001b[0m  \u001b[2m                       \u001b[0m\n",
       "\u001b[2;36m                    \u001b[0m         \u001b[1;36m38\u001b[0m                                                             \u001b[2m                       \u001b[0m\n",
       "\u001b[2;36m                    \u001b[0m         \u001b[1;36m32\u001b[0m               \u001b[1;36m1\u001b[0m               \u001b[1;36m1\u001b[0m                \u001b[1;36m5\u001b[0m            \u001b[2m                       \u001b[0m\n",
       "\u001b[2;36m                    \u001b[0m         \u001b[1;36m-0.222521\u001b[0m         \u001b[1;36m0.017213\u001b[0m         \u001b[1;36m0.999852\u001b[0m          \u001b[1;36m0.201299\u001b[0m  \u001b[2m                       \u001b[0m\n",
       "\u001b[2;36m                    \u001b[0m         \u001b[1;36m0.97953\u001b[0m                \u001b[1;36m0.5\u001b[0m           \u001b[1;36m0.866025\u001b[0m         \u001b[1;36m0.000000\u001b[0m \u001b[2m                       \u001b[0m\n",
       "\u001b[2;36m                    \u001b[0m         \u001b[1;36m1.000000\u001b[0m  Pflege Station \u001b[1;36m10.3\u001b[0m II. Med.                         \u001b[2m                       \u001b[0m\n",
       "\u001b[2;36m                    \u001b[0m         \u001b[1;36m1\u001b[0m \u001b[1;36m2022\u001b[0m-\u001b[1;36m01\u001b[0m-\u001b[1;36m01\u001b[0m \u001b[1;92m01:00:00\u001b[0m                                          \u001b[2m                       \u001b[0m\n",
       "\u001b[2;36m                    \u001b[0m         \u001b[1;36m50\u001b[0m                                                         \u001b[1;36m38\u001b[0m  \u001b[2m                       \u001b[0m\n",
       "\u001b[2;36m                    \u001b[0m         \u001b[1;36m38\u001b[0m                                                             \u001b[2m                       \u001b[0m\n",
       "\u001b[2;36m                    \u001b[0m         \u001b[1;36m32\u001b[0m               \u001b[1;36m1\u001b[0m               \u001b[1;36m1\u001b[0m                \u001b[1;36m5\u001b[0m            \u001b[2m                       \u001b[0m\n",
       "\u001b[2;36m                    \u001b[0m         \u001b[1;36m-0.222521\u001b[0m         \u001b[1;36m0.017213\u001b[0m         \u001b[1;36m0.999852\u001b[0m          \u001b[1;36m0.201299\u001b[0m  \u001b[2m                       \u001b[0m\n",
       "\u001b[2;36m                    \u001b[0m         \u001b[1;36m0.97953\u001b[0m                \u001b[1;36m0.5\u001b[0m           \u001b[1;36m0.866025\u001b[0m         \u001b[1;36m0.258819\u001b[0m \u001b[2m                       \u001b[0m\n",
       "\u001b[2;36m                    \u001b[0m         \u001b[1;36m0.965926\u001b[0m  Pflege Station \u001b[1;36m10.3\u001b[0m II. Med.                         \u001b[2m                       \u001b[0m\n",
       "\u001b[2;36m                    \u001b[0m         \u001b[1;36m2\u001b[0m \u001b[1;36m2022\u001b[0m-\u001b[1;36m01\u001b[0m-\u001b[1;36m01\u001b[0m \u001b[1;92m02:00:00\u001b[0m                                          \u001b[2m                       \u001b[0m\n",
       "\u001b[2;36m                    \u001b[0m         \u001b[1;36m50\u001b[0m                                                         \u001b[1;36m38\u001b[0m  \u001b[2m                       \u001b[0m\n",
       "\u001b[2;36m                    \u001b[0m         \u001b[1;36m38\u001b[0m                                                             \u001b[2m                       \u001b[0m\n",
       "\u001b[2;36m                    \u001b[0m         \u001b[1;36m32\u001b[0m               \u001b[1;36m1\u001b[0m               \u001b[1;36m1\u001b[0m                \u001b[1;36m5\u001b[0m            \u001b[2m                       \u001b[0m\n",
       "\u001b[2;36m                    \u001b[0m         \u001b[1;36m-0.222521\u001b[0m         \u001b[1;36m0.017213\u001b[0m         \u001b[1;36m0.999852\u001b[0m          \u001b[1;36m0.201299\u001b[0m  \u001b[2m                       \u001b[0m\n",
       "\u001b[2;36m                    \u001b[0m         \u001b[1;36m0.97953\u001b[0m                \u001b[1;36m0.5\u001b[0m           \u001b[1;36m0.866025\u001b[0m         \u001b[1;36m0.500000\u001b[0m \u001b[2m                       \u001b[0m\n",
       "\u001b[2;36m                    \u001b[0m         \u001b[1;36m0.866025\u001b[0m  Pflege Station \u001b[1;36m10.3\u001b[0m II. Med.                         \u001b[2m                       \u001b[0m\n",
       "\u001b[2;36m                    \u001b[0m         \u001b[1;36m3\u001b[0m \u001b[1;36m2022\u001b[0m-\u001b[1;36m01\u001b[0m-\u001b[1;36m01\u001b[0m \u001b[1;92m03:00:00\u001b[0m                                          \u001b[2m                       \u001b[0m\n",
       "\u001b[2;36m                    \u001b[0m         \u001b[1;36m50\u001b[0m                                                         \u001b[1;36m38\u001b[0m  \u001b[2m                       \u001b[0m\n",
       "\u001b[2;36m                    \u001b[0m         \u001b[1;36m38\u001b[0m                                                             \u001b[2m                       \u001b[0m\n",
       "\u001b[2;36m                    \u001b[0m         \u001b[1;36m32\u001b[0m               \u001b[1;36m1\u001b[0m               \u001b[1;36m1\u001b[0m                \u001b[1;36m5\u001b[0m            \u001b[2m                       \u001b[0m\n",
       "\u001b[2;36m                    \u001b[0m         \u001b[1;36m-0.222521\u001b[0m         \u001b[1;36m0.017213\u001b[0m         \u001b[1;36m0.999852\u001b[0m          \u001b[1;36m0.201299\u001b[0m  \u001b[2m                       \u001b[0m\n",
       "\u001b[2;36m                    \u001b[0m         \u001b[1;36m0.97953\u001b[0m                \u001b[1;36m0.5\u001b[0m           \u001b[1;36m0.866025\u001b[0m         \u001b[1;36m0.707107\u001b[0m \u001b[2m                       \u001b[0m\n",
       "\u001b[2;36m                    \u001b[0m         \u001b[1;36m0.707107\u001b[0m  Pflege Station \u001b[1;36m10.3\u001b[0m II. Med.                         \u001b[2m                       \u001b[0m\n",
       "\u001b[2;36m                    \u001b[0m         \u001b[1;36m4\u001b[0m \u001b[1;36m2022\u001b[0m-\u001b[1;36m01\u001b[0m-\u001b[1;36m01\u001b[0m \u001b[1;92m04:00:00\u001b[0m                                          \u001b[2m                       \u001b[0m\n",
       "\u001b[2;36m                    \u001b[0m         \u001b[1;36m50\u001b[0m                                                         \u001b[1;36m38\u001b[0m  \u001b[2m                       \u001b[0m\n",
       "\u001b[2;36m                    \u001b[0m         \u001b[1;36m38\u001b[0m                                                             \u001b[2m                       \u001b[0m\n",
       "\u001b[2;36m                    \u001b[0m         \u001b[1;36m32\u001b[0m               \u001b[1;36m1\u001b[0m               \u001b[1;36m1\u001b[0m                \u001b[1;36m5\u001b[0m            \u001b[2m                       \u001b[0m\n",
       "\u001b[2;36m                    \u001b[0m         \u001b[1;36m-0.222521\u001b[0m         \u001b[1;36m0.017213\u001b[0m         \u001b[1;36m0.999852\u001b[0m          \u001b[1;36m0.201299\u001b[0m  \u001b[2m                       \u001b[0m\n",
       "\u001b[2;36m                    \u001b[0m         \u001b[1;36m0.97953\u001b[0m                \u001b[1;36m0.5\u001b[0m           \u001b[1;36m0.866025\u001b[0m         \u001b[1;36m0.866025\u001b[0m \u001b[2m                       \u001b[0m\n",
       "\u001b[2;36m                    \u001b[0m         \u001b[1;36m0.500000\u001b[0m  Pflege Station \u001b[1;36m10.3\u001b[0m II. Med.                         \u001b[2m                       \u001b[0m\n"
      ]
     },
     "metadata": {},
     "output_type": "display_data"
    }
   ],
   "source": [
    "Y_df = datamodule.pipeline()\n",
    "futr_df = datamodule.futr_exog"
   ]
  },
  {
   "cell_type": "code",
   "execution_count": 7,
   "metadata": {},
   "outputs": [],
   "source": [
    "data_kwargs = dict(\n",
    "    df=Y_df,\n",
    "    verbose=cfg.verbose > 0,\n",
    "    h=cfg.evaluation.horizon,\n",
    "    id_col=\"unique_id\",\n",
    "    time_col=\"ds\",\n",
    "    target_col=\"y\",\n",
    "    futr_df=futr_df,\n",
    "    static_df=None,\n",
    ")"
   ]
  },
  {
   "cell_type": "markdown",
   "metadata": {},
   "source": [
    "visualize dataset"
   ]
  },
  {
   "cell_type": "code",
   "execution_count": 8,
   "metadata": {},
   "outputs": [
    {
     "data": {
      "text/html": [
       "<div>\n",
       "<style scoped>\n",
       "    .dataframe tbody tr th:only-of-type {\n",
       "        vertical-align: middle;\n",
       "    }\n",
       "\n",
       "    .dataframe tbody tr th {\n",
       "        vertical-align: top;\n",
       "    }\n",
       "\n",
       "    .dataframe thead th {\n",
       "        text-align: right;\n",
       "    }\n",
       "</style>\n",
       "<table border=\"1\" class=\"dataframe\">\n",
       "  <thead>\n",
       "    <tr style=\"text-align: right;\">\n",
       "      <th></th>\n",
       "      <th>ds</th>\n",
       "      <th>y</th>\n",
       "      <th>Pflege Station 10.3 II. Med._planned_absences_personnel_count</th>\n",
       "      <th>Pflege Station 10.3 II. Med._unplanned_absences_personnel_count</th>\n",
       "      <th>Pflege Station 11.1_11.4_worked_personnel_count</th>\n",
       "      <th>Pflege Station 11.1_11.4_planned_absences_personnel_count</th>\n",
       "      <th>Pflege Station 11.1_11.4_unplanned_absences_personnel_count</th>\n",
       "      <th>Pflege Station 9.7 UCH_worked_personnel_count</th>\n",
       "      <th>Pflege Station 9.7 UCH_planned_absences_personnel_count</th>\n",
       "      <th>Pflege Station 9.7 UCH_unplanned_absences_personnel_count</th>\n",
       "      <th>...</th>\n",
       "      <th>cos_day_of_week</th>\n",
       "      <th>sin_day_of_year</th>\n",
       "      <th>cos_day_of_year</th>\n",
       "      <th>sin_day_of_month</th>\n",
       "      <th>cos_day_of_month</th>\n",
       "      <th>sin_month_of_year</th>\n",
       "      <th>cos_month_of_year</th>\n",
       "      <th>sin_hour_of_day</th>\n",
       "      <th>cos_hour_of_day</th>\n",
       "      <th>unique_id</th>\n",
       "    </tr>\n",
       "  </thead>\n",
       "  <tbody>\n",
       "    <tr>\n",
       "      <th>0</th>\n",
       "      <td>2022-01-01 12:00:00</td>\n",
       "      <td>9</td>\n",
       "      <td>50</td>\n",
       "      <td>5</td>\n",
       "      <td>12</td>\n",
       "      <td>38</td>\n",
       "      <td>5</td>\n",
       "      <td>7</td>\n",
       "      <td>38</td>\n",
       "      <td>3</td>\n",
       "      <td>...</td>\n",
       "      <td>-0.222521</td>\n",
       "      <td>0.017213</td>\n",
       "      <td>0.999852</td>\n",
       "      <td>0.201299</td>\n",
       "      <td>0.97953</td>\n",
       "      <td>0.5</td>\n",
       "      <td>0.866025</td>\n",
       "      <td>1.224647e-16</td>\n",
       "      <td>-1.000000</td>\n",
       "      <td>Pflege Station 10.3 II. Med.</td>\n",
       "    </tr>\n",
       "    <tr>\n",
       "      <th>1</th>\n",
       "      <td>2022-01-01 13:00:00</td>\n",
       "      <td>14</td>\n",
       "      <td>50</td>\n",
       "      <td>8</td>\n",
       "      <td>20</td>\n",
       "      <td>38</td>\n",
       "      <td>6</td>\n",
       "      <td>12</td>\n",
       "      <td>38</td>\n",
       "      <td>4</td>\n",
       "      <td>...</td>\n",
       "      <td>-0.222521</td>\n",
       "      <td>0.017213</td>\n",
       "      <td>0.999852</td>\n",
       "      <td>0.201299</td>\n",
       "      <td>0.97953</td>\n",
       "      <td>0.5</td>\n",
       "      <td>0.866025</td>\n",
       "      <td>-2.588190e-01</td>\n",
       "      <td>-0.965926</td>\n",
       "      <td>Pflege Station 10.3 II. Med.</td>\n",
       "    </tr>\n",
       "    <tr>\n",
       "      <th>2</th>\n",
       "      <td>2022-01-01 14:00:00</td>\n",
       "      <td>14</td>\n",
       "      <td>50</td>\n",
       "      <td>8</td>\n",
       "      <td>20</td>\n",
       "      <td>38</td>\n",
       "      <td>6</td>\n",
       "      <td>12</td>\n",
       "      <td>38</td>\n",
       "      <td>4</td>\n",
       "      <td>...</td>\n",
       "      <td>-0.222521</td>\n",
       "      <td>0.017213</td>\n",
       "      <td>0.999852</td>\n",
       "      <td>0.201299</td>\n",
       "      <td>0.97953</td>\n",
       "      <td>0.5</td>\n",
       "      <td>0.866025</td>\n",
       "      <td>-5.000000e-01</td>\n",
       "      <td>-0.866025</td>\n",
       "      <td>Pflege Station 10.3 II. Med.</td>\n",
       "    </tr>\n",
       "  </tbody>\n",
       "</table>\n",
       "<p>3 rows × 29 columns</p>\n",
       "</div>"
      ],
      "text/plain": [
       "                   ds   y  \\\n",
       "0 2022-01-01 12:00:00   9   \n",
       "1 2022-01-01 13:00:00  14   \n",
       "2 2022-01-01 14:00:00  14   \n",
       "\n",
       "   Pflege Station 10.3 II. Med._planned_absences_personnel_count  \\\n",
       "0                                                 50               \n",
       "1                                                 50               \n",
       "2                                                 50               \n",
       "\n",
       "   Pflege Station 10.3 II. Med._unplanned_absences_personnel_count  \\\n",
       "0                                                  5                 \n",
       "1                                                  8                 \n",
       "2                                                  8                 \n",
       "\n",
       "   Pflege Station 11.1_11.4_worked_personnel_count  \\\n",
       "0                                               12   \n",
       "1                                               20   \n",
       "2                                               20   \n",
       "\n",
       "   Pflege Station 11.1_11.4_planned_absences_personnel_count  \\\n",
       "0                                                 38           \n",
       "1                                                 38           \n",
       "2                                                 38           \n",
       "\n",
       "   Pflege Station 11.1_11.4_unplanned_absences_personnel_count  \\\n",
       "0                                                  5             \n",
       "1                                                  6             \n",
       "2                                                  6             \n",
       "\n",
       "   Pflege Station 9.7 UCH_worked_personnel_count  \\\n",
       "0                                              7   \n",
       "1                                             12   \n",
       "2                                             12   \n",
       "\n",
       "   Pflege Station 9.7 UCH_planned_absences_personnel_count  \\\n",
       "0                                                 38         \n",
       "1                                                 38         \n",
       "2                                                 38         \n",
       "\n",
       "   Pflege Station 9.7 UCH_unplanned_absences_personnel_count  ...  \\\n",
       "0                                                  3          ...   \n",
       "1                                                  4          ...   \n",
       "2                                                  4          ...   \n",
       "\n",
       "   cos_day_of_week  sin_day_of_year  cos_day_of_year  sin_day_of_month  \\\n",
       "0        -0.222521         0.017213         0.999852          0.201299   \n",
       "1        -0.222521         0.017213         0.999852          0.201299   \n",
       "2        -0.222521         0.017213         0.999852          0.201299   \n",
       "\n",
       "   cos_day_of_month  sin_month_of_year  cos_month_of_year  sin_hour_of_day  \\\n",
       "0           0.97953                0.5           0.866025     1.224647e-16   \n",
       "1           0.97953                0.5           0.866025    -2.588190e-01   \n",
       "2           0.97953                0.5           0.866025    -5.000000e-01   \n",
       "\n",
       "   cos_hour_of_day                     unique_id  \n",
       "0        -1.000000  Pflege Station 10.3 II. Med.  \n",
       "1        -0.965926  Pflege Station 10.3 II. Med.  \n",
       "2        -0.866025  Pflege Station 10.3 II. Med.  \n",
       "\n",
       "[3 rows x 29 columns]"
      ]
     },
     "execution_count": 8,
     "metadata": {},
     "output_type": "execute_result"
    }
   ],
   "source": [
    "Y_df.head(3)"
   ]
  },
  {
   "cell_type": "markdown",
   "metadata": {},
   "source": [
    "configure evaluation\n",
    "\n",
    "get callables from metric names"
   ]
  },
  {
   "cell_type": "code",
   "execution_count": 9,
   "metadata": {},
   "outputs": [
    {
     "data": {
      "text/html": [
       "<pre style=\"white-space:pre;overflow-x:auto;line-height:normal;font-family:Menlo,'DejaVu Sans Mono',consolas,'Courier New',monospace\"><span style=\"font-weight: bold\">{</span>\n",
       "<span style=\"color: #7fbf7f; text-decoration-color: #7fbf7f\">│   </span><span style=\"color: #008000; text-decoration-color: #008000\">'mae'</span>: <span style=\"font-weight: bold\">&lt;</span><span style=\"color: #ff00ff; text-decoration-color: #ff00ff; font-weight: bold\">function</span><span style=\"color: #000000; text-decoration-color: #000000\"> mae at </span><span style=\"color: #008080; text-decoration-color: #008080; font-weight: bold\">0x7fa4e0f1ec20</span><span style=\"color: #000000; text-decoration-color: #000000\">&gt;,</span>\n",
       "<span style=\"color: #7fbf7f; text-decoration-color: #7fbf7f\">│   </span><span style=\"color: #008000; text-decoration-color: #008000\">'rmse'</span><span style=\"color: #000000; text-decoration-color: #000000\">: &lt;function rmse at </span><span style=\"color: #008080; text-decoration-color: #008080; font-weight: bold\">0x7fa4e0f1ed40</span><span style=\"color: #000000; text-decoration-color: #000000\">&gt;,</span>\n",
       "<span style=\"color: #7fbf7f; text-decoration-color: #7fbf7f\">│   </span><span style=\"color: #008000; text-decoration-color: #008000\">'smape'</span><span style=\"color: #000000; text-decoration-color: #000000\">: &lt;function smape at </span><span style=\"color: #008080; text-decoration-color: #008080; font-weight: bold\">0x7fa4e0f1eef0</span><span style=\"font-weight: bold\">&gt;</span>\n",
       "<span style=\"font-weight: bold\">}</span>\n",
       "</pre>\n"
      ],
      "text/plain": [
       "\u001b[1m{\u001b[0m\n",
       "\u001b[2;32m│   \u001b[0m\u001b[32m'mae'\u001b[0m: \u001b[1m<\u001b[0m\u001b[1;95mfunction\u001b[0m\u001b[39m mae at \u001b[0m\u001b[1;36m0x7fa4e0f1ec20\u001b[0m\u001b[39m>,\u001b[0m\n",
       "\u001b[2;32m│   \u001b[0m\u001b[32m'rmse'\u001b[0m\u001b[39m: <function rmse at \u001b[0m\u001b[1;36m0x7fa4e0f1ed40\u001b[0m\u001b[39m>,\u001b[0m\n",
       "\u001b[2;32m│   \u001b[0m\u001b[32m'smape'\u001b[0m\u001b[39m: <function smape at \u001b[0m\u001b[1;36m0x7fa4e0f1eef0\u001b[0m\u001b[1m>\u001b[0m\n",
       "\u001b[1m}\u001b[0m\n"
      ]
     },
     "metadata": {},
     "output_type": "display_data"
    }
   ],
   "source": [
    "from src.models.evaluation import get_metric\n",
    "from rich.pretty import pprint\n",
    "\n",
    "eval_cfg = cfg.evaluation\n",
    "metrics = {k: get_metric(k) for k in eval_cfg.metrics}\n",
    "pprint(metrics)"
   ]
  },
  {
   "cell_type": "markdown",
   "metadata": {},
   "source": [
    "Train a NaiveSeasonal model with K=24, corresponding to daily seasonality"
   ]
  },
  {
   "cell_type": "code",
   "execution_count": 10,
   "metadata": {},
   "outputs": [],
   "source": [
    "from darts.models import NaiveSeasonal"
   ]
  },
  {
   "cell_type": "code",
   "execution_count": 11,
   "metadata": {},
   "outputs": [],
   "source": [
    "modelDaily = NaiveSeasonal(K=24)"
   ]
  },
  {
   "cell_type": "code",
   "execution_count": 12,
   "metadata": {},
   "outputs": [
    {
     "name": "stdout",
     "output_type": "stream",
     "text": [
      "debug: received test split start fixed date: 2023-04-01 00:00:00\n",
      "train shape: (10908, 29)\n",
      "test split start: 2023-04-01 00:00:00\n",
      "test split shape: (2161, 29), which is 16.5% of the total dataset.\n"
     ]
    }
   ],
   "source": [
    "from src.data import utils\n",
    "\n",
    "kwargs = {}\n",
    "test_start_date = \"2023-04-01\"  # eval\n",
    "df_train, df_test = utils.split_train_test(Y_df, test_start_date)\n",
    "test_start_date = df_test.iloc[0][\"ds\"]\n",
    "kwargs[\"test_start\"] = test_start_date\n",
    "print(f\"train shape: {df_train.shape}\")\n",
    "print(f\"test split start: {test_start_date}\")\n",
    "print(\n",
    "    f\"test split shape: {df_test.shape}, which is {len(df_test) / len(Y_df):.1%} of the total dataset.\"\n",
    ")"
   ]
  },
  {
   "cell_type": "code",
   "execution_count": 13,
   "metadata": {},
   "outputs": [
    {
     "data": {
      "text/html": [
       "<div><svg style=\"position: absolute; width: 0; height: 0; overflow: hidden\">\n",
       "<defs>\n",
       "<symbol id=\"icon-database\" viewBox=\"0 0 32 32\">\n",
       "<path d=\"M16 0c-8.837 0-16 2.239-16 5v4c0 2.761 7.163 5 16 5s16-2.239 16-5v-4c0-2.761-7.163-5-16-5z\"></path>\n",
       "<path d=\"M16 17c-8.837 0-16-2.239-16-5v6c0 2.761 7.163 5 16 5s16-2.239 16-5v-6c0 2.761-7.163 5-16 5z\"></path>\n",
       "<path d=\"M16 26c-8.837 0-16-2.239-16-5v6c0 2.761 7.163 5 16 5s16-2.239 16-5v-6c0 2.761-7.163 5-16 5z\"></path>\n",
       "</symbol>\n",
       "<symbol id=\"icon-file-text2\" viewBox=\"0 0 32 32\">\n",
       "<path d=\"M28.681 7.159c-0.694-0.947-1.662-2.053-2.724-3.116s-2.169-2.030-3.116-2.724c-1.612-1.182-2.393-1.319-2.841-1.319h-15.5c-1.378 0-2.5 1.121-2.5 2.5v27c0 1.378 1.122 2.5 2.5 2.5h23c1.378 0 2.5-1.122 2.5-2.5v-19.5c0-0.448-0.137-1.23-1.319-2.841zM24.543 5.457c0.959 0.959 1.712 1.825 2.268 2.543h-4.811v-4.811c0.718 0.556 1.584 1.309 2.543 2.268zM28 29.5c0 0.271-0.229 0.5-0.5 0.5h-23c-0.271 0-0.5-0.229-0.5-0.5v-27c0-0.271 0.229-0.5 0.5-0.5 0 0 15.499-0 15.5 0v7c0 0.552 0.448 1 1 1h7v19.5z\"></path>\n",
       "<path d=\"M23 26h-14c-0.552 0-1-0.448-1-1s0.448-1 1-1h14c0.552 0 1 0.448 1 1s-0.448 1-1 1z\"></path>\n",
       "<path d=\"M23 22h-14c-0.552 0-1-0.448-1-1s0.448-1 1-1h14c0.552 0 1 0.448 1 1s-0.448 1-1 1z\"></path>\n",
       "<path d=\"M23 18h-14c-0.552 0-1-0.448-1-1s0.448-1 1-1h14c0.552 0 1 0.448 1 1s-0.448 1-1 1z\"></path>\n",
       "</symbol>\n",
       "</defs>\n",
       "</svg>\n",
       "<style>/* CSS stylesheet for displaying xarray objects in jupyterlab.\n",
       " *\n",
       " */\n",
       "\n",
       ":root {\n",
       "  --xr-font-color0: var(--jp-content-font-color0, rgba(0, 0, 0, 1));\n",
       "  --xr-font-color2: var(--jp-content-font-color2, rgba(0, 0, 0, 0.54));\n",
       "  --xr-font-color3: var(--jp-content-font-color3, rgba(0, 0, 0, 0.38));\n",
       "  --xr-border-color: var(--jp-border-color2, #e0e0e0);\n",
       "  --xr-disabled-color: var(--jp-layout-color3, #bdbdbd);\n",
       "  --xr-background-color: var(--jp-layout-color0, white);\n",
       "  --xr-background-color-row-even: var(--jp-layout-color1, white);\n",
       "  --xr-background-color-row-odd: var(--jp-layout-color2, #eeeeee);\n",
       "}\n",
       "\n",
       "html[theme=dark],\n",
       "body[data-theme=dark],\n",
       "body.vscode-dark {\n",
       "  --xr-font-color0: rgba(255, 255, 255, 1);\n",
       "  --xr-font-color2: rgba(255, 255, 255, 0.54);\n",
       "  --xr-font-color3: rgba(255, 255, 255, 0.38);\n",
       "  --xr-border-color: #1F1F1F;\n",
       "  --xr-disabled-color: #515151;\n",
       "  --xr-background-color: #111111;\n",
       "  --xr-background-color-row-even: #111111;\n",
       "  --xr-background-color-row-odd: #313131;\n",
       "}\n",
       "\n",
       ".xr-wrap {\n",
       "  display: block !important;\n",
       "  min-width: 300px;\n",
       "  max-width: 700px;\n",
       "}\n",
       "\n",
       ".xr-text-repr-fallback {\n",
       "  /* fallback to plain text repr when CSS is not injected (untrusted notebook) */\n",
       "  display: none;\n",
       "}\n",
       "\n",
       ".xr-header {\n",
       "  padding-top: 6px;\n",
       "  padding-bottom: 6px;\n",
       "  margin-bottom: 4px;\n",
       "  border-bottom: solid 1px var(--xr-border-color);\n",
       "}\n",
       "\n",
       ".xr-header > div,\n",
       ".xr-header > ul {\n",
       "  display: inline;\n",
       "  margin-top: 0;\n",
       "  margin-bottom: 0;\n",
       "}\n",
       "\n",
       ".xr-obj-type,\n",
       ".xr-array-name {\n",
       "  margin-left: 2px;\n",
       "  margin-right: 10px;\n",
       "}\n",
       "\n",
       ".xr-obj-type {\n",
       "  color: var(--xr-font-color2);\n",
       "}\n",
       "\n",
       ".xr-sections {\n",
       "  padding-left: 0 !important;\n",
       "  display: grid;\n",
       "  grid-template-columns: 150px auto auto 1fr 20px 20px;\n",
       "}\n",
       "\n",
       ".xr-section-item {\n",
       "  display: contents;\n",
       "}\n",
       "\n",
       ".xr-section-item input {\n",
       "  display: none;\n",
       "}\n",
       "\n",
       ".xr-section-item input + label {\n",
       "  color: var(--xr-disabled-color);\n",
       "}\n",
       "\n",
       ".xr-section-item input:enabled + label {\n",
       "  cursor: pointer;\n",
       "  color: var(--xr-font-color2);\n",
       "}\n",
       "\n",
       ".xr-section-item input:enabled + label:hover {\n",
       "  color: var(--xr-font-color0);\n",
       "}\n",
       "\n",
       ".xr-section-summary {\n",
       "  grid-column: 1;\n",
       "  color: var(--xr-font-color2);\n",
       "  font-weight: 500;\n",
       "}\n",
       "\n",
       ".xr-section-summary > span {\n",
       "  display: inline-block;\n",
       "  padding-left: 0.5em;\n",
       "}\n",
       "\n",
       ".xr-section-summary-in:disabled + label {\n",
       "  color: var(--xr-font-color2);\n",
       "}\n",
       "\n",
       ".xr-section-summary-in + label:before {\n",
       "  display: inline-block;\n",
       "  content: '►';\n",
       "  font-size: 11px;\n",
       "  width: 15px;\n",
       "  text-align: center;\n",
       "}\n",
       "\n",
       ".xr-section-summary-in:disabled + label:before {\n",
       "  color: var(--xr-disabled-color);\n",
       "}\n",
       "\n",
       ".xr-section-summary-in:checked + label:before {\n",
       "  content: '▼';\n",
       "}\n",
       "\n",
       ".xr-section-summary-in:checked + label > span {\n",
       "  display: none;\n",
       "}\n",
       "\n",
       ".xr-section-summary,\n",
       ".xr-section-inline-details {\n",
       "  padding-top: 4px;\n",
       "  padding-bottom: 4px;\n",
       "}\n",
       "\n",
       ".xr-section-inline-details {\n",
       "  grid-column: 2 / -1;\n",
       "}\n",
       "\n",
       ".xr-section-details {\n",
       "  display: none;\n",
       "  grid-column: 1 / -1;\n",
       "  margin-bottom: 5px;\n",
       "}\n",
       "\n",
       ".xr-section-summary-in:checked ~ .xr-section-details {\n",
       "  display: contents;\n",
       "}\n",
       "\n",
       ".xr-array-wrap {\n",
       "  grid-column: 1 / -1;\n",
       "  display: grid;\n",
       "  grid-template-columns: 20px auto;\n",
       "}\n",
       "\n",
       ".xr-array-wrap > label {\n",
       "  grid-column: 1;\n",
       "  vertical-align: top;\n",
       "}\n",
       "\n",
       ".xr-preview {\n",
       "  color: var(--xr-font-color3);\n",
       "}\n",
       "\n",
       ".xr-array-preview,\n",
       ".xr-array-data {\n",
       "  padding: 0 5px !important;\n",
       "  grid-column: 2;\n",
       "}\n",
       "\n",
       ".xr-array-data,\n",
       ".xr-array-in:checked ~ .xr-array-preview {\n",
       "  display: none;\n",
       "}\n",
       "\n",
       ".xr-array-in:checked ~ .xr-array-data,\n",
       ".xr-array-preview {\n",
       "  display: inline-block;\n",
       "}\n",
       "\n",
       ".xr-dim-list {\n",
       "  display: inline-block !important;\n",
       "  list-style: none;\n",
       "  padding: 0 !important;\n",
       "  margin: 0;\n",
       "}\n",
       "\n",
       ".xr-dim-list li {\n",
       "  display: inline-block;\n",
       "  padding: 0;\n",
       "  margin: 0;\n",
       "}\n",
       "\n",
       ".xr-dim-list:before {\n",
       "  content: '(';\n",
       "}\n",
       "\n",
       ".xr-dim-list:after {\n",
       "  content: ')';\n",
       "}\n",
       "\n",
       ".xr-dim-list li:not(:last-child):after {\n",
       "  content: ',';\n",
       "  padding-right: 5px;\n",
       "}\n",
       "\n",
       ".xr-has-index {\n",
       "  font-weight: bold;\n",
       "}\n",
       "\n",
       ".xr-var-list,\n",
       ".xr-var-item {\n",
       "  display: contents;\n",
       "}\n",
       "\n",
       ".xr-var-item > div,\n",
       ".xr-var-item label,\n",
       ".xr-var-item > .xr-var-name span {\n",
       "  background-color: var(--xr-background-color-row-even);\n",
       "  margin-bottom: 0;\n",
       "}\n",
       "\n",
       ".xr-var-item > .xr-var-name:hover span {\n",
       "  padding-right: 5px;\n",
       "}\n",
       "\n",
       ".xr-var-list > li:nth-child(odd) > div,\n",
       ".xr-var-list > li:nth-child(odd) > label,\n",
       ".xr-var-list > li:nth-child(odd) > .xr-var-name span {\n",
       "  background-color: var(--xr-background-color-row-odd);\n",
       "}\n",
       "\n",
       ".xr-var-name {\n",
       "  grid-column: 1;\n",
       "}\n",
       "\n",
       ".xr-var-dims {\n",
       "  grid-column: 2;\n",
       "}\n",
       "\n",
       ".xr-var-dtype {\n",
       "  grid-column: 3;\n",
       "  text-align: right;\n",
       "  color: var(--xr-font-color2);\n",
       "}\n",
       "\n",
       ".xr-var-preview {\n",
       "  grid-column: 4;\n",
       "}\n",
       "\n",
       ".xr-index-preview {\n",
       "  grid-column: 2 / 5;\n",
       "  color: var(--xr-font-color2);\n",
       "}\n",
       "\n",
       ".xr-var-name,\n",
       ".xr-var-dims,\n",
       ".xr-var-dtype,\n",
       ".xr-preview,\n",
       ".xr-attrs dt {\n",
       "  white-space: nowrap;\n",
       "  overflow: hidden;\n",
       "  text-overflow: ellipsis;\n",
       "  padding-right: 10px;\n",
       "}\n",
       "\n",
       ".xr-var-name:hover,\n",
       ".xr-var-dims:hover,\n",
       ".xr-var-dtype:hover,\n",
       ".xr-attrs dt:hover {\n",
       "  overflow: visible;\n",
       "  width: auto;\n",
       "  z-index: 1;\n",
       "}\n",
       "\n",
       ".xr-var-attrs,\n",
       ".xr-var-data,\n",
       ".xr-index-data {\n",
       "  display: none;\n",
       "  background-color: var(--xr-background-color) !important;\n",
       "  padding-bottom: 5px !important;\n",
       "}\n",
       "\n",
       ".xr-var-attrs-in:checked ~ .xr-var-attrs,\n",
       ".xr-var-data-in:checked ~ .xr-var-data,\n",
       ".xr-index-data-in:checked ~ .xr-index-data {\n",
       "  display: block;\n",
       "}\n",
       "\n",
       ".xr-var-data > table {\n",
       "  float: right;\n",
       "}\n",
       "\n",
       ".xr-var-name span,\n",
       ".xr-var-data,\n",
       ".xr-index-name div,\n",
       ".xr-index-data,\n",
       ".xr-attrs {\n",
       "  padding-left: 25px !important;\n",
       "}\n",
       "\n",
       ".xr-attrs,\n",
       ".xr-var-attrs,\n",
       ".xr-var-data,\n",
       ".xr-index-data {\n",
       "  grid-column: 1 / -1;\n",
       "}\n",
       "\n",
       "dl.xr-attrs {\n",
       "  padding: 0;\n",
       "  margin: 0;\n",
       "  display: grid;\n",
       "  grid-template-columns: 125px auto;\n",
       "}\n",
       "\n",
       ".xr-attrs dt,\n",
       ".xr-attrs dd {\n",
       "  padding: 0;\n",
       "  margin: 0;\n",
       "  float: left;\n",
       "  padding-right: 10px;\n",
       "  width: auto;\n",
       "}\n",
       "\n",
       ".xr-attrs dt {\n",
       "  font-weight: normal;\n",
       "  grid-column: 1;\n",
       "}\n",
       "\n",
       ".xr-attrs dt:hover span {\n",
       "  display: inline-block;\n",
       "  background: var(--xr-background-color);\n",
       "  padding-right: 10px;\n",
       "}\n",
       "\n",
       ".xr-attrs dd {\n",
       "  grid-column: 2;\n",
       "  white-space: pre-wrap;\n",
       "  word-break: break-all;\n",
       "}\n",
       "\n",
       ".xr-icon-database,\n",
       ".xr-icon-file-text2,\n",
       ".xr-no-icon {\n",
       "  display: inline-block;\n",
       "  vertical-align: middle;\n",
       "  width: 1em;\n",
       "  height: 1.5em !important;\n",
       "  stroke-width: 0;\n",
       "  stroke: currentColor;\n",
       "  fill: currentColor;\n",
       "}\n",
       "</style><pre class='xr-text-repr-fallback'>&lt;TimeSeries (DataArray) (ds: 10908, component: 1, sample: 1)&gt; Size: 87kB\n",
       "array([[[ 9.]],\n",
       "\n",
       "       [[14.]],\n",
       "\n",
       "       [[14.]],\n",
       "\n",
       "       ...,\n",
       "\n",
       "       [[13.]],\n",
       "\n",
       "       [[ 5.]],\n",
       "\n",
       "       [[ 5.]]])\n",
       "Coordinates:\n",
       "  * ds         (ds) datetime64[ns] 87kB 2022-01-01T12:00:00 ... 2023-03-31T23...\n",
       "  * component  (component) object 8B &#x27;y&#x27;\n",
       "Dimensions without coordinates: sample\n",
       "Attributes:\n",
       "    static_covariates:  None\n",
       "    hierarchy:          None</pre><div class='xr-wrap' style='display:none'><div class='xr-header'><div class='xr-obj-type'>TimeSeries (DataArray)</div><div class='xr-array-name'></div><ul class='xr-dim-list'><li><span class='xr-has-index'>ds</span>: 10908</li><li><span class='xr-has-index'>component</span>: 1</li><li><span>sample</span>: 1</li></ul></div><ul class='xr-sections'><li class='xr-section-item'><div class='xr-array-wrap'><input id='section-d5aa8e3a-1f34-4c7b-9951-f9bf4e843acb' class='xr-array-in' type='checkbox' checked><label for='section-d5aa8e3a-1f34-4c7b-9951-f9bf4e843acb' title='Show/hide data repr'><svg class='icon xr-icon-database'><use xlink:href='#icon-database'></use></svg></label><div class='xr-array-preview xr-preview'><span>9.0 14.0 14.0 5.0 5.0 5.0 5.0 5.0 ... 8.0 8.0 8.0 13.0 13.0 5.0 5.0</span></div><div class='xr-array-data'><pre>array([[[ 9.]],\n",
       "\n",
       "       [[14.]],\n",
       "\n",
       "       [[14.]],\n",
       "\n",
       "       ...,\n",
       "\n",
       "       [[13.]],\n",
       "\n",
       "       [[ 5.]],\n",
       "\n",
       "       [[ 5.]]])</pre></div></div></li><li class='xr-section-item'><input id='section-00860f39-182a-4fdb-a4b8-c3c2d15eaee1' class='xr-section-summary-in' type='checkbox'  checked><label for='section-00860f39-182a-4fdb-a4b8-c3c2d15eaee1' class='xr-section-summary' >Coordinates: <span>(2)</span></label><div class='xr-section-inline-details'></div><div class='xr-section-details'><ul class='xr-var-list'><li class='xr-var-item'><div class='xr-var-name'><span class='xr-has-index'>ds</span></div><div class='xr-var-dims'>(ds)</div><div class='xr-var-dtype'>datetime64[ns]</div><div class='xr-var-preview xr-preview'>2022-01-01T12:00:00 ... 2023-03-...</div><input id='attrs-89756e41-a8ac-4f74-8c59-99222b168c11' class='xr-var-attrs-in' type='checkbox' disabled><label for='attrs-89756e41-a8ac-4f74-8c59-99222b168c11' title='Show/Hide attributes'><svg class='icon xr-icon-file-text2'><use xlink:href='#icon-file-text2'></use></svg></label><input id='data-16f7133b-5703-42e4-a8c3-6bb04fbe3079' class='xr-var-data-in' type='checkbox'><label for='data-16f7133b-5703-42e4-a8c3-6bb04fbe3079' title='Show/Hide data repr'><svg class='icon xr-icon-database'><use xlink:href='#icon-database'></use></svg></label><div class='xr-var-attrs'><dl class='xr-attrs'></dl></div><div class='xr-var-data'><pre>array([&#x27;2022-01-01T12:00:00.000000000&#x27;, &#x27;2022-01-01T13:00:00.000000000&#x27;,\n",
       "       &#x27;2022-01-01T14:00:00.000000000&#x27;, ..., &#x27;2023-03-31T21:00:00.000000000&#x27;,\n",
       "       &#x27;2023-03-31T22:00:00.000000000&#x27;, &#x27;2023-03-31T23:00:00.000000000&#x27;],\n",
       "      dtype=&#x27;datetime64[ns]&#x27;)</pre></div></li><li class='xr-var-item'><div class='xr-var-name'><span class='xr-has-index'>component</span></div><div class='xr-var-dims'>(component)</div><div class='xr-var-dtype'>object</div><div class='xr-var-preview xr-preview'>&#x27;y&#x27;</div><input id='attrs-a51105f9-aae1-4551-88c9-64f2b935b586' class='xr-var-attrs-in' type='checkbox' disabled><label for='attrs-a51105f9-aae1-4551-88c9-64f2b935b586' title='Show/Hide attributes'><svg class='icon xr-icon-file-text2'><use xlink:href='#icon-file-text2'></use></svg></label><input id='data-4c0af1b0-af15-4682-9a39-5ba308b1be4f' class='xr-var-data-in' type='checkbox'><label for='data-4c0af1b0-af15-4682-9a39-5ba308b1be4f' title='Show/Hide data repr'><svg class='icon xr-icon-database'><use xlink:href='#icon-database'></use></svg></label><div class='xr-var-attrs'><dl class='xr-attrs'></dl></div><div class='xr-var-data'><pre>array([&#x27;y&#x27;], dtype=object)</pre></div></li></ul></div></li><li class='xr-section-item'><input id='section-8945f4d7-c976-45b7-8d9e-e03a97078b0a' class='xr-section-summary-in' type='checkbox'  ><label for='section-8945f4d7-c976-45b7-8d9e-e03a97078b0a' class='xr-section-summary' >Indexes: <span>(2)</span></label><div class='xr-section-inline-details'></div><div class='xr-section-details'><ul class='xr-var-list'><li class='xr-var-item'><div class='xr-index-name'><div>ds</div></div><div class='xr-index-preview'>PandasIndex</div><div></div><input id='index-42f928bf-33c7-4f87-afbe-606d7f2427b9' class='xr-index-data-in' type='checkbox'/><label for='index-42f928bf-33c7-4f87-afbe-606d7f2427b9' title='Show/Hide index repr'><svg class='icon xr-icon-database'><use xlink:href='#icon-database'></use></svg></label><div class='xr-index-data'><pre>PandasIndex(DatetimeIndex([&#x27;2022-01-01 12:00:00&#x27;, &#x27;2022-01-01 13:00:00&#x27;,\n",
       "               &#x27;2022-01-01 14:00:00&#x27;, &#x27;2022-01-01 15:00:00&#x27;,\n",
       "               &#x27;2022-01-01 16:00:00&#x27;, &#x27;2022-01-01 17:00:00&#x27;,\n",
       "               &#x27;2022-01-01 18:00:00&#x27;, &#x27;2022-01-01 19:00:00&#x27;,\n",
       "               &#x27;2022-01-01 20:00:00&#x27;, &#x27;2022-01-01 21:00:00&#x27;,\n",
       "               ...\n",
       "               &#x27;2023-03-31 14:00:00&#x27;, &#x27;2023-03-31 15:00:00&#x27;,\n",
       "               &#x27;2023-03-31 16:00:00&#x27;, &#x27;2023-03-31 17:00:00&#x27;,\n",
       "               &#x27;2023-03-31 18:00:00&#x27;, &#x27;2023-03-31 19:00:00&#x27;,\n",
       "               &#x27;2023-03-31 20:00:00&#x27;, &#x27;2023-03-31 21:00:00&#x27;,\n",
       "               &#x27;2023-03-31 22:00:00&#x27;, &#x27;2023-03-31 23:00:00&#x27;],\n",
       "              dtype=&#x27;datetime64[ns]&#x27;, name=&#x27;ds&#x27;, length=10908, freq=&#x27;H&#x27;))</pre></div></li><li class='xr-var-item'><div class='xr-index-name'><div>component</div></div><div class='xr-index-preview'>PandasIndex</div><div></div><input id='index-5f9099ae-302a-45dd-8d5c-0feeda054841' class='xr-index-data-in' type='checkbox'/><label for='index-5f9099ae-302a-45dd-8d5c-0feeda054841' title='Show/Hide index repr'><svg class='icon xr-icon-database'><use xlink:href='#icon-database'></use></svg></label><div class='xr-index-data'><pre>PandasIndex(Index([&#x27;y&#x27;], dtype=&#x27;object&#x27;, name=&#x27;component&#x27;))</pre></div></li></ul></div></li><li class='xr-section-item'><input id='section-e3766c99-a7b8-4c1e-bead-25b3569b0041' class='xr-section-summary-in' type='checkbox'  checked><label for='section-e3766c99-a7b8-4c1e-bead-25b3569b0041' class='xr-section-summary' >Attributes: <span>(2)</span></label><div class='xr-section-inline-details'></div><div class='xr-section-details'><dl class='xr-attrs'><dt><span>static_covariates :</span></dt><dd>None</dd><dt><span>hierarchy :</span></dt><dd>None</dd></dl></div></li></ul></div></div>"
      ],
      "text/plain": [
       "<TimeSeries (DataArray) (ds: 10908, component: 1, sample: 1)> Size: 87kB\n",
       "array([[[ 9.]],\n",
       "\n",
       "       [[14.]],\n",
       "\n",
       "       [[14.]],\n",
       "\n",
       "       ...,\n",
       "\n",
       "       [[13.]],\n",
       "\n",
       "       [[ 5.]],\n",
       "\n",
       "       [[ 5.]]])\n",
       "Coordinates:\n",
       "  * ds         (ds) datetime64[ns] 87kB 2022-01-01T12:00:00 ... 2023-03-31T23...\n",
       "  * component  (component) object 8B 'y'\n",
       "Dimensions without coordinates: sample\n",
       "Attributes:\n",
       "    static_covariates:  None\n",
       "    hierarchy:          None"
      ]
     },
     "execution_count": 13,
     "metadata": {},
     "output_type": "execute_result"
    }
   ],
   "source": [
    "train_series = TimeSeries.from_dataframe(\n",
    "    df_train, time_col=\"ds\", value_cols=\"y\", freq=cfg.dataset.freq\n",
    ")\n",
    "train_series"
   ]
  },
  {
   "cell_type": "code",
   "execution_count": 14,
   "metadata": {},
   "outputs": [
    {
     "data": {
      "text/plain": [
       "NaiveSeasonal(K=24)"
      ]
     },
     "execution_count": 14,
     "metadata": {},
     "output_type": "execute_result"
    }
   ],
   "source": [
    "# --- fit model ---\n",
    "modelDaily.fit(\n",
    "    series=train_series,\n",
    ")"
   ]
  },
  {
   "cell_type": "code",
   "execution_count": 15,
   "metadata": {},
   "outputs": [],
   "source": [
    "df = TimeSeries.from_dataframe(Y_df, time_col=\"ds\", value_cols=\"y\", freq=cfg.dataset.freq)"
   ]
  },
  {
   "cell_type": "markdown",
   "metadata": {},
   "source": [
    "----\n",
    "\n",
    "evaluate"
   ]
  },
  {
   "cell_type": "markdown",
   "metadata": {},
   "source": [
    "```python\n",
    "# ed paper\n",
    "    # Adjust testbench\n",
    "    if MODEL in ['hwam', 'hwmm', 'hwdm', 'arimax', 'sn']:\n",
    "        train_length = 24*7\n",
    "        retrain = True\n",
    "```"
   ]
  },
  {
   "cell_type": "code",
   "execution_count": 16,
   "metadata": {},
   "outputs": [
    {
     "data": {
      "application/vnd.jupyter.widget-view+json": {
       "model_id": "5f3f24de38d04dd2a70f756dfe00532e",
       "version_major": 2,
       "version_minor": 0
      },
      "text/plain": [
       "  0%|          | 0/3 [00:00<?, ?it/s]"
      ]
     },
     "metadata": {},
     "output_type": "display_data"
    },
    {
     "name": "stdout",
     "output_type": "stream",
     "text": [
      "historical_forecasts output:\n"
     ]
    },
    {
     "data": {
      "text/html": [
       "<div>\n",
       "<style scoped>\n",
       "    .dataframe tbody tr th:only-of-type {\n",
       "        vertical-align: middle;\n",
       "    }\n",
       "\n",
       "    .dataframe tbody tr th {\n",
       "        vertical-align: top;\n",
       "    }\n",
       "\n",
       "    .dataframe thead th {\n",
       "        text-align: right;\n",
       "    }\n",
       "</style>\n",
       "<table border=\"1\" class=\"dataframe\">\n",
       "  <thead>\n",
       "    <tr style=\"text-align: right;\">\n",
       "      <th>component</th>\n",
       "      <th>y</th>\n",
       "    </tr>\n",
       "    <tr>\n",
       "      <th>ds</th>\n",
       "      <th></th>\n",
       "    </tr>\n",
       "  </thead>\n",
       "  <tbody>\n",
       "    <tr>\n",
       "      <th>2023-04-01 00:00:00</th>\n",
       "      <td>5.0</td>\n",
       "    </tr>\n",
       "    <tr>\n",
       "      <th>2023-04-01 01:00:00</th>\n",
       "      <td>5.0</td>\n",
       "    </tr>\n",
       "    <tr>\n",
       "      <th>2023-04-01 02:00:00</th>\n",
       "      <td>5.0</td>\n",
       "    </tr>\n",
       "    <tr>\n",
       "      <th>2023-04-01 03:00:00</th>\n",
       "      <td>5.0</td>\n",
       "    </tr>\n",
       "    <tr>\n",
       "      <th>2023-04-01 04:00:00</th>\n",
       "      <td>5.0</td>\n",
       "    </tr>\n",
       "    <tr>\n",
       "      <th>...</th>\n",
       "      <td>...</td>\n",
       "    </tr>\n",
       "    <tr>\n",
       "      <th>2023-06-29 19:00:00</th>\n",
       "      <td>9.0</td>\n",
       "    </tr>\n",
       "    <tr>\n",
       "      <th>2023-06-29 20:00:00</th>\n",
       "      <td>13.0</td>\n",
       "    </tr>\n",
       "    <tr>\n",
       "      <th>2023-06-29 21:00:00</th>\n",
       "      <td>13.0</td>\n",
       "    </tr>\n",
       "    <tr>\n",
       "      <th>2023-06-29 22:00:00</th>\n",
       "      <td>4.0</td>\n",
       "    </tr>\n",
       "    <tr>\n",
       "      <th>2023-06-29 23:00:00</th>\n",
       "      <td>4.0</td>\n",
       "    </tr>\n",
       "  </tbody>\n",
       "</table>\n",
       "<p>2160 rows × 1 columns</p>\n",
       "</div>"
      ],
      "text/plain": [
       "component               y\n",
       "ds                       \n",
       "2023-04-01 00:00:00   5.0\n",
       "2023-04-01 01:00:00   5.0\n",
       "2023-04-01 02:00:00   5.0\n",
       "2023-04-01 03:00:00   5.0\n",
       "2023-04-01 04:00:00   5.0\n",
       "...                   ...\n",
       "2023-06-29 19:00:00   9.0\n",
       "2023-06-29 20:00:00  13.0\n",
       "2023-06-29 21:00:00  13.0\n",
       "2023-06-29 22:00:00   4.0\n",
       "2023-06-29 23:00:00   4.0\n",
       "\n",
       "[2160 rows x 1 columns]"
      ]
     },
     "execution_count": 16,
     "metadata": {},
     "output_type": "execute_result"
    }
   ],
   "source": [
    "import pandas as pd\n",
    "\n",
    "l_timeseries = modelDaily.historical_forecasts(\n",
    "    series=df,\n",
    "    start=test_start_date,\n",
    "    forecast_horizon=cfg.evaluation.horizon,\n",
    "    stride=cfg.evaluation.horizon,\n",
    "    last_points_only=False,\n",
    "    verbose=True,\n",
    "    show_warnings=True,\n",
    "    retrain=True,\n",
    ")\n",
    "if isinstance(l_timeseries, list):\n",
    "    ts_df = pd.concat([t.pd_dataframe() for t in l_timeseries])\n",
    "else:\n",
    "    ts_df = l_timeseries.pd_dataframe()\n",
    "print(\"historical_forecasts output:\")\n",
    "ts_df"
   ]
  },
  {
   "cell_type": "code",
   "execution_count": 17,
   "metadata": {},
   "outputs": [
    {
     "data": {
      "text/html": [
       "<div>\n",
       "<style scoped>\n",
       "    .dataframe tbody tr th:only-of-type {\n",
       "        vertical-align: middle;\n",
       "    }\n",
       "\n",
       "    .dataframe tbody tr th {\n",
       "        vertical-align: top;\n",
       "    }\n",
       "\n",
       "    .dataframe thead th {\n",
       "        text-align: right;\n",
       "    }\n",
       "</style>\n",
       "<table border=\"1\" class=\"dataframe\">\n",
       "  <thead>\n",
       "    <tr style=\"text-align: right;\">\n",
       "      <th></th>\n",
       "      <th>ds</th>\n",
       "      <th>NaiveSeasonalDaily</th>\n",
       "      <th>y</th>\n",
       "      <th>Pflege Station 10.3 II. Med._planned_absences_personnel_count</th>\n",
       "      <th>Pflege Station 10.3 II. Med._unplanned_absences_personnel_count</th>\n",
       "      <th>Pflege Station 11.1_11.4_worked_personnel_count</th>\n",
       "      <th>Pflege Station 11.1_11.4_planned_absences_personnel_count</th>\n",
       "      <th>Pflege Station 11.1_11.4_unplanned_absences_personnel_count</th>\n",
       "      <th>Pflege Station 9.7 UCH_worked_personnel_count</th>\n",
       "      <th>Pflege Station 9.7 UCH_planned_absences_personnel_count</th>\n",
       "      <th>...</th>\n",
       "      <th>cos_day_of_week</th>\n",
       "      <th>sin_day_of_year</th>\n",
       "      <th>cos_day_of_year</th>\n",
       "      <th>sin_day_of_month</th>\n",
       "      <th>cos_day_of_month</th>\n",
       "      <th>sin_month_of_year</th>\n",
       "      <th>cos_month_of_year</th>\n",
       "      <th>sin_hour_of_day</th>\n",
       "      <th>cos_hour_of_day</th>\n",
       "      <th>unique_id</th>\n",
       "    </tr>\n",
       "  </thead>\n",
       "  <tbody>\n",
       "    <tr>\n",
       "      <th>0</th>\n",
       "      <td>2023-04-01 00:00:00</td>\n",
       "      <td>5.0</td>\n",
       "      <td>5</td>\n",
       "      <td>31</td>\n",
       "      <td>13</td>\n",
       "      <td>4</td>\n",
       "      <td>51</td>\n",
       "      <td>11</td>\n",
       "      <td>3</td>\n",
       "      <td>32</td>\n",
       "      <td>...</td>\n",
       "      <td>-0.222521</td>\n",
       "      <td>0.999991</td>\n",
       "      <td>0.004304</td>\n",
       "      <td>0.201299</td>\n",
       "      <td>0.979530</td>\n",
       "      <td>8.660254e-01</td>\n",
       "      <td>-0.5</td>\n",
       "      <td>0.000000</td>\n",
       "      <td>1.000000</td>\n",
       "      <td>Pflege Station 10.3 II. Med.</td>\n",
       "    </tr>\n",
       "    <tr>\n",
       "      <th>1</th>\n",
       "      <td>2023-04-01 01:00:00</td>\n",
       "      <td>5.0</td>\n",
       "      <td>5</td>\n",
       "      <td>31</td>\n",
       "      <td>13</td>\n",
       "      <td>4</td>\n",
       "      <td>51</td>\n",
       "      <td>11</td>\n",
       "      <td>3</td>\n",
       "      <td>32</td>\n",
       "      <td>...</td>\n",
       "      <td>-0.222521</td>\n",
       "      <td>0.999991</td>\n",
       "      <td>0.004304</td>\n",
       "      <td>0.201299</td>\n",
       "      <td>0.979530</td>\n",
       "      <td>8.660254e-01</td>\n",
       "      <td>-0.5</td>\n",
       "      <td>0.258819</td>\n",
       "      <td>0.965926</td>\n",
       "      <td>Pflege Station 10.3 II. Med.</td>\n",
       "    </tr>\n",
       "    <tr>\n",
       "      <th>2</th>\n",
       "      <td>2023-04-01 02:00:00</td>\n",
       "      <td>5.0</td>\n",
       "      <td>5</td>\n",
       "      <td>31</td>\n",
       "      <td>13</td>\n",
       "      <td>4</td>\n",
       "      <td>51</td>\n",
       "      <td>11</td>\n",
       "      <td>3</td>\n",
       "      <td>32</td>\n",
       "      <td>...</td>\n",
       "      <td>-0.222521</td>\n",
       "      <td>0.999991</td>\n",
       "      <td>0.004304</td>\n",
       "      <td>0.201299</td>\n",
       "      <td>0.979530</td>\n",
       "      <td>8.660254e-01</td>\n",
       "      <td>-0.5</td>\n",
       "      <td>0.500000</td>\n",
       "      <td>0.866025</td>\n",
       "      <td>Pflege Station 10.3 II. Med.</td>\n",
       "    </tr>\n",
       "    <tr>\n",
       "      <th>3</th>\n",
       "      <td>2023-04-01 03:00:00</td>\n",
       "      <td>5.0</td>\n",
       "      <td>5</td>\n",
       "      <td>31</td>\n",
       "      <td>13</td>\n",
       "      <td>4</td>\n",
       "      <td>51</td>\n",
       "      <td>11</td>\n",
       "      <td>3</td>\n",
       "      <td>32</td>\n",
       "      <td>...</td>\n",
       "      <td>-0.222521</td>\n",
       "      <td>0.999991</td>\n",
       "      <td>0.004304</td>\n",
       "      <td>0.201299</td>\n",
       "      <td>0.979530</td>\n",
       "      <td>8.660254e-01</td>\n",
       "      <td>-0.5</td>\n",
       "      <td>0.707107</td>\n",
       "      <td>0.707107</td>\n",
       "      <td>Pflege Station 10.3 II. Med.</td>\n",
       "    </tr>\n",
       "    <tr>\n",
       "      <th>4</th>\n",
       "      <td>2023-04-01 04:00:00</td>\n",
       "      <td>5.0</td>\n",
       "      <td>5</td>\n",
       "      <td>31</td>\n",
       "      <td>13</td>\n",
       "      <td>4</td>\n",
       "      <td>51</td>\n",
       "      <td>11</td>\n",
       "      <td>3</td>\n",
       "      <td>32</td>\n",
       "      <td>...</td>\n",
       "      <td>-0.222521</td>\n",
       "      <td>0.999991</td>\n",
       "      <td>0.004304</td>\n",
       "      <td>0.201299</td>\n",
       "      <td>0.979530</td>\n",
       "      <td>8.660254e-01</td>\n",
       "      <td>-0.5</td>\n",
       "      <td>0.866025</td>\n",
       "      <td>0.500000</td>\n",
       "      <td>Pflege Station 10.3 II. Med.</td>\n",
       "    </tr>\n",
       "    <tr>\n",
       "      <th>...</th>\n",
       "      <td>...</td>\n",
       "      <td>...</td>\n",
       "      <td>...</td>\n",
       "      <td>...</td>\n",
       "      <td>...</td>\n",
       "      <td>...</td>\n",
       "      <td>...</td>\n",
       "      <td>...</td>\n",
       "      <td>...</td>\n",
       "      <td>...</td>\n",
       "      <td>...</td>\n",
       "      <td>...</td>\n",
       "      <td>...</td>\n",
       "      <td>...</td>\n",
       "      <td>...</td>\n",
       "      <td>...</td>\n",
       "      <td>...</td>\n",
       "      <td>...</td>\n",
       "      <td>...</td>\n",
       "      <td>...</td>\n",
       "      <td>...</td>\n",
       "    </tr>\n",
       "    <tr>\n",
       "      <th>2155</th>\n",
       "      <td>2023-06-29 19:00:00</td>\n",
       "      <td>9.0</td>\n",
       "      <td>8</td>\n",
       "      <td>47</td>\n",
       "      <td>7</td>\n",
       "      <td>8</td>\n",
       "      <td>64</td>\n",
       "      <td>7</td>\n",
       "      <td>7</td>\n",
       "      <td>29</td>\n",
       "      <td>...</td>\n",
       "      <td>-0.900969</td>\n",
       "      <td>0.043022</td>\n",
       "      <td>-0.999074</td>\n",
       "      <td>-0.394356</td>\n",
       "      <td>0.918958</td>\n",
       "      <td>1.224647e-16</td>\n",
       "      <td>-1.0</td>\n",
       "      <td>-0.965926</td>\n",
       "      <td>0.258819</td>\n",
       "      <td>Pflege Station 10.3 II. Med.</td>\n",
       "    </tr>\n",
       "    <tr>\n",
       "      <th>2156</th>\n",
       "      <td>2023-06-29 20:00:00</td>\n",
       "      <td>13.0</td>\n",
       "      <td>13</td>\n",
       "      <td>47</td>\n",
       "      <td>8</td>\n",
       "      <td>12</td>\n",
       "      <td>64</td>\n",
       "      <td>7</td>\n",
       "      <td>7</td>\n",
       "      <td>29</td>\n",
       "      <td>...</td>\n",
       "      <td>-0.900969</td>\n",
       "      <td>0.043022</td>\n",
       "      <td>-0.999074</td>\n",
       "      <td>-0.394356</td>\n",
       "      <td>0.918958</td>\n",
       "      <td>1.224647e-16</td>\n",
       "      <td>-1.0</td>\n",
       "      <td>-0.866025</td>\n",
       "      <td>0.500000</td>\n",
       "      <td>Pflege Station 10.3 II. Med.</td>\n",
       "    </tr>\n",
       "    <tr>\n",
       "      <th>2157</th>\n",
       "      <td>2023-06-29 21:00:00</td>\n",
       "      <td>13.0</td>\n",
       "      <td>13</td>\n",
       "      <td>47</td>\n",
       "      <td>8</td>\n",
       "      <td>12</td>\n",
       "      <td>64</td>\n",
       "      <td>7</td>\n",
       "      <td>8</td>\n",
       "      <td>29</td>\n",
       "      <td>...</td>\n",
       "      <td>-0.900969</td>\n",
       "      <td>0.043022</td>\n",
       "      <td>-0.999074</td>\n",
       "      <td>-0.394356</td>\n",
       "      <td>0.918958</td>\n",
       "      <td>1.224647e-16</td>\n",
       "      <td>-1.0</td>\n",
       "      <td>-0.707107</td>\n",
       "      <td>0.707107</td>\n",
       "      <td>Pflege Station 10.3 II. Med.</td>\n",
       "    </tr>\n",
       "    <tr>\n",
       "      <th>2158</th>\n",
       "      <td>2023-06-29 22:00:00</td>\n",
       "      <td>4.0</td>\n",
       "      <td>5</td>\n",
       "      <td>47</td>\n",
       "      <td>8</td>\n",
       "      <td>4</td>\n",
       "      <td>64</td>\n",
       "      <td>7</td>\n",
       "      <td>3</td>\n",
       "      <td>29</td>\n",
       "      <td>...</td>\n",
       "      <td>-0.900969</td>\n",
       "      <td>0.043022</td>\n",
       "      <td>-0.999074</td>\n",
       "      <td>-0.394356</td>\n",
       "      <td>0.918958</td>\n",
       "      <td>1.224647e-16</td>\n",
       "      <td>-1.0</td>\n",
       "      <td>-0.500000</td>\n",
       "      <td>0.866025</td>\n",
       "      <td>Pflege Station 10.3 II. Med.</td>\n",
       "    </tr>\n",
       "    <tr>\n",
       "      <th>2159</th>\n",
       "      <td>2023-06-29 23:00:00</td>\n",
       "      <td>4.0</td>\n",
       "      <td>5</td>\n",
       "      <td>47</td>\n",
       "      <td>8</td>\n",
       "      <td>4</td>\n",
       "      <td>64</td>\n",
       "      <td>7</td>\n",
       "      <td>3</td>\n",
       "      <td>29</td>\n",
       "      <td>...</td>\n",
       "      <td>-0.900969</td>\n",
       "      <td>0.043022</td>\n",
       "      <td>-0.999074</td>\n",
       "      <td>-0.394356</td>\n",
       "      <td>0.918958</td>\n",
       "      <td>1.224647e-16</td>\n",
       "      <td>-1.0</td>\n",
       "      <td>-0.258819</td>\n",
       "      <td>0.965926</td>\n",
       "      <td>Pflege Station 10.3 II. Med.</td>\n",
       "    </tr>\n",
       "  </tbody>\n",
       "</table>\n",
       "<p>2160 rows × 30 columns</p>\n",
       "</div>"
      ],
      "text/plain": [
       "                      ds  NaiveSeasonalDaily   y  \\\n",
       "0    2023-04-01 00:00:00                 5.0   5   \n",
       "1    2023-04-01 01:00:00                 5.0   5   \n",
       "2    2023-04-01 02:00:00                 5.0   5   \n",
       "3    2023-04-01 03:00:00                 5.0   5   \n",
       "4    2023-04-01 04:00:00                 5.0   5   \n",
       "...                  ...                 ...  ..   \n",
       "2155 2023-06-29 19:00:00                 9.0   8   \n",
       "2156 2023-06-29 20:00:00                13.0  13   \n",
       "2157 2023-06-29 21:00:00                13.0  13   \n",
       "2158 2023-06-29 22:00:00                 4.0   5   \n",
       "2159 2023-06-29 23:00:00                 4.0   5   \n",
       "\n",
       "      Pflege Station 10.3 II. Med._planned_absences_personnel_count  \\\n",
       "0                                                    31               \n",
       "1                                                    31               \n",
       "2                                                    31               \n",
       "3                                                    31               \n",
       "4                                                    31               \n",
       "...                                                 ...               \n",
       "2155                                                 47               \n",
       "2156                                                 47               \n",
       "2157                                                 47               \n",
       "2158                                                 47               \n",
       "2159                                                 47               \n",
       "\n",
       "      Pflege Station 10.3 II. Med._unplanned_absences_personnel_count  \\\n",
       "0                                                    13                 \n",
       "1                                                    13                 \n",
       "2                                                    13                 \n",
       "3                                                    13                 \n",
       "4                                                    13                 \n",
       "...                                                 ...                 \n",
       "2155                                                  7                 \n",
       "2156                                                  8                 \n",
       "2157                                                  8                 \n",
       "2158                                                  8                 \n",
       "2159                                                  8                 \n",
       "\n",
       "      Pflege Station 11.1_11.4_worked_personnel_count  \\\n",
       "0                                                   4   \n",
       "1                                                   4   \n",
       "2                                                   4   \n",
       "3                                                   4   \n",
       "4                                                   4   \n",
       "...                                               ...   \n",
       "2155                                                8   \n",
       "2156                                               12   \n",
       "2157                                               12   \n",
       "2158                                                4   \n",
       "2159                                                4   \n",
       "\n",
       "      Pflege Station 11.1_11.4_planned_absences_personnel_count  \\\n",
       "0                                                    51           \n",
       "1                                                    51           \n",
       "2                                                    51           \n",
       "3                                                    51           \n",
       "4                                                    51           \n",
       "...                                                 ...           \n",
       "2155                                                 64           \n",
       "2156                                                 64           \n",
       "2157                                                 64           \n",
       "2158                                                 64           \n",
       "2159                                                 64           \n",
       "\n",
       "      Pflege Station 11.1_11.4_unplanned_absences_personnel_count  \\\n",
       "0                                                    11             \n",
       "1                                                    11             \n",
       "2                                                    11             \n",
       "3                                                    11             \n",
       "4                                                    11             \n",
       "...                                                 ...             \n",
       "2155                                                  7             \n",
       "2156                                                  7             \n",
       "2157                                                  7             \n",
       "2158                                                  7             \n",
       "2159                                                  7             \n",
       "\n",
       "      Pflege Station 9.7 UCH_worked_personnel_count  \\\n",
       "0                                                 3   \n",
       "1                                                 3   \n",
       "2                                                 3   \n",
       "3                                                 3   \n",
       "4                                                 3   \n",
       "...                                             ...   \n",
       "2155                                              7   \n",
       "2156                                              7   \n",
       "2157                                              8   \n",
       "2158                                              3   \n",
       "2159                                              3   \n",
       "\n",
       "      Pflege Station 9.7 UCH_planned_absences_personnel_count  ...  \\\n",
       "0                                                    32        ...   \n",
       "1                                                    32        ...   \n",
       "2                                                    32        ...   \n",
       "3                                                    32        ...   \n",
       "4                                                    32        ...   \n",
       "...                                                 ...        ...   \n",
       "2155                                                 29        ...   \n",
       "2156                                                 29        ...   \n",
       "2157                                                 29        ...   \n",
       "2158                                                 29        ...   \n",
       "2159                                                 29        ...   \n",
       "\n",
       "      cos_day_of_week  sin_day_of_year  cos_day_of_year  sin_day_of_month  \\\n",
       "0           -0.222521         0.999991         0.004304          0.201299   \n",
       "1           -0.222521         0.999991         0.004304          0.201299   \n",
       "2           -0.222521         0.999991         0.004304          0.201299   \n",
       "3           -0.222521         0.999991         0.004304          0.201299   \n",
       "4           -0.222521         0.999991         0.004304          0.201299   \n",
       "...               ...              ...              ...               ...   \n",
       "2155        -0.900969         0.043022        -0.999074         -0.394356   \n",
       "2156        -0.900969         0.043022        -0.999074         -0.394356   \n",
       "2157        -0.900969         0.043022        -0.999074         -0.394356   \n",
       "2158        -0.900969         0.043022        -0.999074         -0.394356   \n",
       "2159        -0.900969         0.043022        -0.999074         -0.394356   \n",
       "\n",
       "      cos_day_of_month  sin_month_of_year  cos_month_of_year  sin_hour_of_day  \\\n",
       "0             0.979530       8.660254e-01               -0.5         0.000000   \n",
       "1             0.979530       8.660254e-01               -0.5         0.258819   \n",
       "2             0.979530       8.660254e-01               -0.5         0.500000   \n",
       "3             0.979530       8.660254e-01               -0.5         0.707107   \n",
       "4             0.979530       8.660254e-01               -0.5         0.866025   \n",
       "...                ...                ...                ...              ...   \n",
       "2155          0.918958       1.224647e-16               -1.0        -0.965926   \n",
       "2156          0.918958       1.224647e-16               -1.0        -0.866025   \n",
       "2157          0.918958       1.224647e-16               -1.0        -0.707107   \n",
       "2158          0.918958       1.224647e-16               -1.0        -0.500000   \n",
       "2159          0.918958       1.224647e-16               -1.0        -0.258819   \n",
       "\n",
       "      cos_hour_of_day                     unique_id  \n",
       "0            1.000000  Pflege Station 10.3 II. Med.  \n",
       "1            0.965926  Pflege Station 10.3 II. Med.  \n",
       "2            0.866025  Pflege Station 10.3 II. Med.  \n",
       "3            0.707107  Pflege Station 10.3 II. Med.  \n",
       "4            0.500000  Pflege Station 10.3 II. Med.  \n",
       "...               ...                           ...  \n",
       "2155         0.258819  Pflege Station 10.3 II. Med.  \n",
       "2156         0.500000  Pflege Station 10.3 II. Med.  \n",
       "2157         0.707107  Pflege Station 10.3 II. Med.  \n",
       "2158         0.866025  Pflege Station 10.3 II. Med.  \n",
       "2159         0.965926  Pflege Station 10.3 II. Med.  \n",
       "\n",
       "[2160 rows x 30 columns]"
      ]
     },
     "execution_count": 17,
     "metadata": {},
     "output_type": "execute_result"
    }
   ],
   "source": [
    "ts_df = ts_df.reset_index()\n",
    "ts_df = ts_df.rename(columns={\"y\": \"NaiveSeasonalDaily\"})\n",
    "ts_df = ts_df.merge(df_test, how=\"left\", on=\"ds\")\n",
    "ts_df"
   ]
  },
  {
   "cell_type": "code",
   "execution_count": 18,
   "metadata": {},
   "outputs": [
    {
     "data": {
      "text/plain": [
       "{'mae': <function utilsforecast.losses.mae(df: Union[pandas.core.frame.DataFrame, utilsforecast.compat.pl_DataFrame], models: List[str], id_col: str = 'unique_id', target_col: str = 'y') -> Union[pandas.core.frame.DataFrame, utilsforecast.compat.pl_DataFrame]>,\n",
       " 'rmse': <function utilsforecast.losses.rmse(df: Union[pandas.core.frame.DataFrame, utilsforecast.compat.pl_DataFrame], models: List[str], id_col: str = 'unique_id', target_col: str = 'y') -> Union[float, numpy.ndarray]>,\n",
       " 'smape': <function utilsforecast.losses.smape(df: Union[pandas.core.frame.DataFrame, utilsforecast.compat.pl_DataFrame], models: List[str], id_col: str = 'unique_id', target_col: str = 'y') -> Union[float, numpy.ndarray]>}"
      ]
     },
     "execution_count": 18,
     "metadata": {},
     "output_type": "execute_result"
    }
   ],
   "source": [
    "metrics"
   ]
  },
  {
   "cell_type": "code",
   "execution_count": 20,
   "metadata": {},
   "outputs": [
    {
     "data": {
      "text/html": [
       "<div>\n",
       "<style scoped>\n",
       "    .dataframe tbody tr th:only-of-type {\n",
       "        vertical-align: middle;\n",
       "    }\n",
       "\n",
       "    .dataframe tbody tr th {\n",
       "        vertical-align: top;\n",
       "    }\n",
       "\n",
       "    .dataframe thead th {\n",
       "        text-align: right;\n",
       "    }\n",
       "</style>\n",
       "<table border=\"1\" class=\"dataframe\">\n",
       "  <thead>\n",
       "    <tr style=\"text-align: right;\">\n",
       "      <th></th>\n",
       "      <th>unique_id</th>\n",
       "      <th>metric</th>\n",
       "      <th>NaiveSeasonalDaily</th>\n",
       "    </tr>\n",
       "  </thead>\n",
       "  <tbody>\n",
       "    <tr>\n",
       "      <th>0</th>\n",
       "      <td>Pflege Station 10.3 II. Med.</td>\n",
       "      <td>mae</td>\n",
       "      <td>2.553241</td>\n",
       "    </tr>\n",
       "    <tr>\n",
       "      <th>1</th>\n",
       "      <td>Pflege Station 10.3 II. Med.</td>\n",
       "      <td>rmse</td>\n",
       "      <td>4.041738</td>\n",
       "    </tr>\n",
       "    <tr>\n",
       "      <th>2</th>\n",
       "      <td>Pflege Station 10.3 II. Med.</td>\n",
       "      <td>smape</td>\n",
       "      <td>0.103219</td>\n",
       "    </tr>\n",
       "  </tbody>\n",
       "</table>\n",
       "</div>"
      ],
      "text/plain": [
       "                      unique_id metric  NaiveSeasonalDaily\n",
       "0  Pflege Station 10.3 II. Med.    mae            2.553241\n",
       "1  Pflege Station 10.3 II. Med.   rmse            4.041738\n",
       "2  Pflege Station 10.3 II. Med.  smape            0.103219"
      ]
     },
     "execution_count": 20,
     "metadata": {},
     "output_type": "execute_result"
    }
   ],
   "source": [
    "evaluate(ts_df, metrics=list(metrics.values()), models=[\"NaiveSeasonalDaily\"])"
   ]
  },
  {
   "cell_type": "markdown",
   "metadata": {},
   "source": [
    "Let's try weekly seasonality "
   ]
  },
  {
   "cell_type": "code",
   "execution_count": 33,
   "metadata": {},
   "outputs": [],
   "source": [
    "modelWeekly = NaiveSeasonal(K=168)"
   ]
  },
  {
   "cell_type": "code",
   "execution_count": 34,
   "metadata": {},
   "outputs": [
    {
     "data": {
      "text/plain": [
       "NaiveSeasonal(K=168)"
      ]
     },
     "execution_count": 34,
     "metadata": {},
     "output_type": "execute_result"
    }
   ],
   "source": [
    "# --- fit model ---\n",
    "modelWeekly.fit(\n",
    "    series=train_series,\n",
    ")"
   ]
  },
  {
   "cell_type": "code",
   "execution_count": 35,
   "metadata": {},
   "outputs": [
    {
     "data": {
      "application/vnd.jupyter.widget-view+json": {
       "model_id": "d6e54e5245294cb0bb2bb0ea7b8d61e9",
       "version_major": 2,
       "version_minor": 0
      },
      "text/plain": [
       "  0%|          | 0/3 [00:00<?, ?it/s]"
      ]
     },
     "metadata": {},
     "output_type": "display_data"
    },
    {
     "name": "stdout",
     "output_type": "stream",
     "text": [
      "historical_forecasts output:\n"
     ]
    },
    {
     "data": {
      "text/html": [
       "<div>\n",
       "<style scoped>\n",
       "    .dataframe tbody tr th:only-of-type {\n",
       "        vertical-align: middle;\n",
       "    }\n",
       "\n",
       "    .dataframe tbody tr th {\n",
       "        vertical-align: top;\n",
       "    }\n",
       "\n",
       "    .dataframe thead th {\n",
       "        text-align: right;\n",
       "    }\n",
       "</style>\n",
       "<table border=\"1\" class=\"dataframe\">\n",
       "  <thead>\n",
       "    <tr style=\"text-align: right;\">\n",
       "      <th>component</th>\n",
       "      <th>y</th>\n",
       "    </tr>\n",
       "    <tr>\n",
       "      <th>ds</th>\n",
       "      <th></th>\n",
       "    </tr>\n",
       "  </thead>\n",
       "  <tbody>\n",
       "    <tr>\n",
       "      <th>2023-04-01 00:00:00</th>\n",
       "      <td>5.0</td>\n",
       "    </tr>\n",
       "    <tr>\n",
       "      <th>2023-04-01 01:00:00</th>\n",
       "      <td>5.0</td>\n",
       "    </tr>\n",
       "    <tr>\n",
       "      <th>2023-04-01 02:00:00</th>\n",
       "      <td>5.0</td>\n",
       "    </tr>\n",
       "    <tr>\n",
       "      <th>2023-04-01 03:00:00</th>\n",
       "      <td>5.0</td>\n",
       "    </tr>\n",
       "    <tr>\n",
       "      <th>2023-04-01 04:00:00</th>\n",
       "      <td>5.0</td>\n",
       "    </tr>\n",
       "    <tr>\n",
       "      <th>...</th>\n",
       "      <td>...</td>\n",
       "    </tr>\n",
       "    <tr>\n",
       "      <th>2023-06-29 19:00:00</th>\n",
       "      <td>8.0</td>\n",
       "    </tr>\n",
       "    <tr>\n",
       "      <th>2023-06-29 20:00:00</th>\n",
       "      <td>13.0</td>\n",
       "    </tr>\n",
       "    <tr>\n",
       "      <th>2023-06-29 21:00:00</th>\n",
       "      <td>13.0</td>\n",
       "    </tr>\n",
       "    <tr>\n",
       "      <th>2023-06-29 22:00:00</th>\n",
       "      <td>6.0</td>\n",
       "    </tr>\n",
       "    <tr>\n",
       "      <th>2023-06-29 23:00:00</th>\n",
       "      <td>5.0</td>\n",
       "    </tr>\n",
       "  </tbody>\n",
       "</table>\n",
       "<p>2160 rows × 1 columns</p>\n",
       "</div>"
      ],
      "text/plain": [
       "component               y\n",
       "ds                       \n",
       "2023-04-01 00:00:00   5.0\n",
       "2023-04-01 01:00:00   5.0\n",
       "2023-04-01 02:00:00   5.0\n",
       "2023-04-01 03:00:00   5.0\n",
       "2023-04-01 04:00:00   5.0\n",
       "...                   ...\n",
       "2023-06-29 19:00:00   8.0\n",
       "2023-06-29 20:00:00  13.0\n",
       "2023-06-29 21:00:00  13.0\n",
       "2023-06-29 22:00:00   6.0\n",
       "2023-06-29 23:00:00   5.0\n",
       "\n",
       "[2160 rows x 1 columns]"
      ]
     },
     "execution_count": 35,
     "metadata": {},
     "output_type": "execute_result"
    }
   ],
   "source": [
    "l_timeseries = modelWeekly.historical_forecasts(\n",
    "    series=df,\n",
    "    start=test_start_date,\n",
    "    forecast_horizon=cfg.evaluation.horizon,\n",
    "    stride=cfg.evaluation.horizon,\n",
    "    last_points_only=False,\n",
    "    verbose=True,\n",
    "    show_warnings=True,\n",
    "    retrain=True,\n",
    ")\n",
    "if isinstance(l_timeseries, list):\n",
    "    ts_df = pd.concat([t.pd_dataframe() for t in l_timeseries])\n",
    "else:\n",
    "    ts_df = l_timeseries.pd_dataframe()\n",
    "print(\"historical_forecasts output:\")\n",
    "ts_df"
   ]
  },
  {
   "cell_type": "code",
   "execution_count": 36,
   "metadata": {},
   "outputs": [
    {
     "data": {
      "text/html": [
       "<div>\n",
       "<style scoped>\n",
       "    .dataframe tbody tr th:only-of-type {\n",
       "        vertical-align: middle;\n",
       "    }\n",
       "\n",
       "    .dataframe tbody tr th {\n",
       "        vertical-align: top;\n",
       "    }\n",
       "\n",
       "    .dataframe thead th {\n",
       "        text-align: right;\n",
       "    }\n",
       "</style>\n",
       "<table border=\"1\" class=\"dataframe\">\n",
       "  <thead>\n",
       "    <tr style=\"text-align: right;\">\n",
       "      <th></th>\n",
       "      <th>ds</th>\n",
       "      <th>NaiveSeasonalWeekly</th>\n",
       "      <th>y</th>\n",
       "      <th>Pflege Station 10.3 II. Med._planned_absences_personnel_count</th>\n",
       "      <th>Pflege Station 10.3 II. Med._unplanned_absences_personnel_count</th>\n",
       "      <th>Pflege Station 11.1_11.4_worked_personnel_count</th>\n",
       "      <th>Pflege Station 11.1_11.4_planned_absences_personnel_count</th>\n",
       "      <th>Pflege Station 11.1_11.4_unplanned_absences_personnel_count</th>\n",
       "      <th>Pflege Station 9.7 UCH_worked_personnel_count</th>\n",
       "      <th>Pflege Station 9.7 UCH_planned_absences_personnel_count</th>\n",
       "      <th>...</th>\n",
       "      <th>cos_day_of_week</th>\n",
       "      <th>sin_day_of_year</th>\n",
       "      <th>cos_day_of_year</th>\n",
       "      <th>sin_day_of_month</th>\n",
       "      <th>cos_day_of_month</th>\n",
       "      <th>sin_month_of_year</th>\n",
       "      <th>cos_month_of_year</th>\n",
       "      <th>sin_hour_of_day</th>\n",
       "      <th>cos_hour_of_day</th>\n",
       "      <th>unique_id</th>\n",
       "    </tr>\n",
       "  </thead>\n",
       "  <tbody>\n",
       "    <tr>\n",
       "      <th>0</th>\n",
       "      <td>2023-04-01 00:00:00</td>\n",
       "      <td>5.0</td>\n",
       "      <td>5</td>\n",
       "      <td>31</td>\n",
       "      <td>13</td>\n",
       "      <td>4</td>\n",
       "      <td>51</td>\n",
       "      <td>11</td>\n",
       "      <td>3</td>\n",
       "      <td>32</td>\n",
       "      <td>...</td>\n",
       "      <td>-0.222521</td>\n",
       "      <td>0.999991</td>\n",
       "      <td>0.004304</td>\n",
       "      <td>0.201299</td>\n",
       "      <td>0.979530</td>\n",
       "      <td>8.660254e-01</td>\n",
       "      <td>-0.5</td>\n",
       "      <td>0.000000</td>\n",
       "      <td>1.000000</td>\n",
       "      <td>Pflege Station 10.3 II. Med.</td>\n",
       "    </tr>\n",
       "    <tr>\n",
       "      <th>1</th>\n",
       "      <td>2023-04-01 01:00:00</td>\n",
       "      <td>5.0</td>\n",
       "      <td>5</td>\n",
       "      <td>31</td>\n",
       "      <td>13</td>\n",
       "      <td>4</td>\n",
       "      <td>51</td>\n",
       "      <td>11</td>\n",
       "      <td>3</td>\n",
       "      <td>32</td>\n",
       "      <td>...</td>\n",
       "      <td>-0.222521</td>\n",
       "      <td>0.999991</td>\n",
       "      <td>0.004304</td>\n",
       "      <td>0.201299</td>\n",
       "      <td>0.979530</td>\n",
       "      <td>8.660254e-01</td>\n",
       "      <td>-0.5</td>\n",
       "      <td>0.258819</td>\n",
       "      <td>0.965926</td>\n",
       "      <td>Pflege Station 10.3 II. Med.</td>\n",
       "    </tr>\n",
       "    <tr>\n",
       "      <th>2</th>\n",
       "      <td>2023-04-01 02:00:00</td>\n",
       "      <td>5.0</td>\n",
       "      <td>5</td>\n",
       "      <td>31</td>\n",
       "      <td>13</td>\n",
       "      <td>4</td>\n",
       "      <td>51</td>\n",
       "      <td>11</td>\n",
       "      <td>3</td>\n",
       "      <td>32</td>\n",
       "      <td>...</td>\n",
       "      <td>-0.222521</td>\n",
       "      <td>0.999991</td>\n",
       "      <td>0.004304</td>\n",
       "      <td>0.201299</td>\n",
       "      <td>0.979530</td>\n",
       "      <td>8.660254e-01</td>\n",
       "      <td>-0.5</td>\n",
       "      <td>0.500000</td>\n",
       "      <td>0.866025</td>\n",
       "      <td>Pflege Station 10.3 II. Med.</td>\n",
       "    </tr>\n",
       "    <tr>\n",
       "      <th>3</th>\n",
       "      <td>2023-04-01 03:00:00</td>\n",
       "      <td>5.0</td>\n",
       "      <td>5</td>\n",
       "      <td>31</td>\n",
       "      <td>13</td>\n",
       "      <td>4</td>\n",
       "      <td>51</td>\n",
       "      <td>11</td>\n",
       "      <td>3</td>\n",
       "      <td>32</td>\n",
       "      <td>...</td>\n",
       "      <td>-0.222521</td>\n",
       "      <td>0.999991</td>\n",
       "      <td>0.004304</td>\n",
       "      <td>0.201299</td>\n",
       "      <td>0.979530</td>\n",
       "      <td>8.660254e-01</td>\n",
       "      <td>-0.5</td>\n",
       "      <td>0.707107</td>\n",
       "      <td>0.707107</td>\n",
       "      <td>Pflege Station 10.3 II. Med.</td>\n",
       "    </tr>\n",
       "    <tr>\n",
       "      <th>4</th>\n",
       "      <td>2023-04-01 04:00:00</td>\n",
       "      <td>5.0</td>\n",
       "      <td>5</td>\n",
       "      <td>31</td>\n",
       "      <td>13</td>\n",
       "      <td>4</td>\n",
       "      <td>51</td>\n",
       "      <td>11</td>\n",
       "      <td>3</td>\n",
       "      <td>32</td>\n",
       "      <td>...</td>\n",
       "      <td>-0.222521</td>\n",
       "      <td>0.999991</td>\n",
       "      <td>0.004304</td>\n",
       "      <td>0.201299</td>\n",
       "      <td>0.979530</td>\n",
       "      <td>8.660254e-01</td>\n",
       "      <td>-0.5</td>\n",
       "      <td>0.866025</td>\n",
       "      <td>0.500000</td>\n",
       "      <td>Pflege Station 10.3 II. Med.</td>\n",
       "    </tr>\n",
       "    <tr>\n",
       "      <th>...</th>\n",
       "      <td>...</td>\n",
       "      <td>...</td>\n",
       "      <td>...</td>\n",
       "      <td>...</td>\n",
       "      <td>...</td>\n",
       "      <td>...</td>\n",
       "      <td>...</td>\n",
       "      <td>...</td>\n",
       "      <td>...</td>\n",
       "      <td>...</td>\n",
       "      <td>...</td>\n",
       "      <td>...</td>\n",
       "      <td>...</td>\n",
       "      <td>...</td>\n",
       "      <td>...</td>\n",
       "      <td>...</td>\n",
       "      <td>...</td>\n",
       "      <td>...</td>\n",
       "      <td>...</td>\n",
       "      <td>...</td>\n",
       "      <td>...</td>\n",
       "    </tr>\n",
       "    <tr>\n",
       "      <th>2155</th>\n",
       "      <td>2023-06-29 19:00:00</td>\n",
       "      <td>8.0</td>\n",
       "      <td>8</td>\n",
       "      <td>47</td>\n",
       "      <td>7</td>\n",
       "      <td>8</td>\n",
       "      <td>64</td>\n",
       "      <td>7</td>\n",
       "      <td>7</td>\n",
       "      <td>29</td>\n",
       "      <td>...</td>\n",
       "      <td>-0.900969</td>\n",
       "      <td>0.043022</td>\n",
       "      <td>-0.999074</td>\n",
       "      <td>-0.394356</td>\n",
       "      <td>0.918958</td>\n",
       "      <td>1.224647e-16</td>\n",
       "      <td>-1.0</td>\n",
       "      <td>-0.965926</td>\n",
       "      <td>0.258819</td>\n",
       "      <td>Pflege Station 10.3 II. Med.</td>\n",
       "    </tr>\n",
       "    <tr>\n",
       "      <th>2156</th>\n",
       "      <td>2023-06-29 20:00:00</td>\n",
       "      <td>13.0</td>\n",
       "      <td>13</td>\n",
       "      <td>47</td>\n",
       "      <td>8</td>\n",
       "      <td>12</td>\n",
       "      <td>64</td>\n",
       "      <td>7</td>\n",
       "      <td>7</td>\n",
       "      <td>29</td>\n",
       "      <td>...</td>\n",
       "      <td>-0.900969</td>\n",
       "      <td>0.043022</td>\n",
       "      <td>-0.999074</td>\n",
       "      <td>-0.394356</td>\n",
       "      <td>0.918958</td>\n",
       "      <td>1.224647e-16</td>\n",
       "      <td>-1.0</td>\n",
       "      <td>-0.866025</td>\n",
       "      <td>0.500000</td>\n",
       "      <td>Pflege Station 10.3 II. Med.</td>\n",
       "    </tr>\n",
       "    <tr>\n",
       "      <th>2157</th>\n",
       "      <td>2023-06-29 21:00:00</td>\n",
       "      <td>13.0</td>\n",
       "      <td>13</td>\n",
       "      <td>47</td>\n",
       "      <td>8</td>\n",
       "      <td>12</td>\n",
       "      <td>64</td>\n",
       "      <td>7</td>\n",
       "      <td>8</td>\n",
       "      <td>29</td>\n",
       "      <td>...</td>\n",
       "      <td>-0.900969</td>\n",
       "      <td>0.043022</td>\n",
       "      <td>-0.999074</td>\n",
       "      <td>-0.394356</td>\n",
       "      <td>0.918958</td>\n",
       "      <td>1.224647e-16</td>\n",
       "      <td>-1.0</td>\n",
       "      <td>-0.707107</td>\n",
       "      <td>0.707107</td>\n",
       "      <td>Pflege Station 10.3 II. Med.</td>\n",
       "    </tr>\n",
       "    <tr>\n",
       "      <th>2158</th>\n",
       "      <td>2023-06-29 22:00:00</td>\n",
       "      <td>6.0</td>\n",
       "      <td>5</td>\n",
       "      <td>47</td>\n",
       "      <td>8</td>\n",
       "      <td>4</td>\n",
       "      <td>64</td>\n",
       "      <td>7</td>\n",
       "      <td>3</td>\n",
       "      <td>29</td>\n",
       "      <td>...</td>\n",
       "      <td>-0.900969</td>\n",
       "      <td>0.043022</td>\n",
       "      <td>-0.999074</td>\n",
       "      <td>-0.394356</td>\n",
       "      <td>0.918958</td>\n",
       "      <td>1.224647e-16</td>\n",
       "      <td>-1.0</td>\n",
       "      <td>-0.500000</td>\n",
       "      <td>0.866025</td>\n",
       "      <td>Pflege Station 10.3 II. Med.</td>\n",
       "    </tr>\n",
       "    <tr>\n",
       "      <th>2159</th>\n",
       "      <td>2023-06-29 23:00:00</td>\n",
       "      <td>5.0</td>\n",
       "      <td>5</td>\n",
       "      <td>47</td>\n",
       "      <td>8</td>\n",
       "      <td>4</td>\n",
       "      <td>64</td>\n",
       "      <td>7</td>\n",
       "      <td>3</td>\n",
       "      <td>29</td>\n",
       "      <td>...</td>\n",
       "      <td>-0.900969</td>\n",
       "      <td>0.043022</td>\n",
       "      <td>-0.999074</td>\n",
       "      <td>-0.394356</td>\n",
       "      <td>0.918958</td>\n",
       "      <td>1.224647e-16</td>\n",
       "      <td>-1.0</td>\n",
       "      <td>-0.258819</td>\n",
       "      <td>0.965926</td>\n",
       "      <td>Pflege Station 10.3 II. Med.</td>\n",
       "    </tr>\n",
       "  </tbody>\n",
       "</table>\n",
       "<p>2160 rows × 30 columns</p>\n",
       "</div>"
      ],
      "text/plain": [
       "                      ds  NaiveSeasonalWeekly   y  \\\n",
       "0    2023-04-01 00:00:00                  5.0   5   \n",
       "1    2023-04-01 01:00:00                  5.0   5   \n",
       "2    2023-04-01 02:00:00                  5.0   5   \n",
       "3    2023-04-01 03:00:00                  5.0   5   \n",
       "4    2023-04-01 04:00:00                  5.0   5   \n",
       "...                  ...                  ...  ..   \n",
       "2155 2023-06-29 19:00:00                  8.0   8   \n",
       "2156 2023-06-29 20:00:00                 13.0  13   \n",
       "2157 2023-06-29 21:00:00                 13.0  13   \n",
       "2158 2023-06-29 22:00:00                  6.0   5   \n",
       "2159 2023-06-29 23:00:00                  5.0   5   \n",
       "\n",
       "      Pflege Station 10.3 II. Med._planned_absences_personnel_count  \\\n",
       "0                                                    31               \n",
       "1                                                    31               \n",
       "2                                                    31               \n",
       "3                                                    31               \n",
       "4                                                    31               \n",
       "...                                                 ...               \n",
       "2155                                                 47               \n",
       "2156                                                 47               \n",
       "2157                                                 47               \n",
       "2158                                                 47               \n",
       "2159                                                 47               \n",
       "\n",
       "      Pflege Station 10.3 II. Med._unplanned_absences_personnel_count  \\\n",
       "0                                                    13                 \n",
       "1                                                    13                 \n",
       "2                                                    13                 \n",
       "3                                                    13                 \n",
       "4                                                    13                 \n",
       "...                                                 ...                 \n",
       "2155                                                  7                 \n",
       "2156                                                  8                 \n",
       "2157                                                  8                 \n",
       "2158                                                  8                 \n",
       "2159                                                  8                 \n",
       "\n",
       "      Pflege Station 11.1_11.4_worked_personnel_count  \\\n",
       "0                                                   4   \n",
       "1                                                   4   \n",
       "2                                                   4   \n",
       "3                                                   4   \n",
       "4                                                   4   \n",
       "...                                               ...   \n",
       "2155                                                8   \n",
       "2156                                               12   \n",
       "2157                                               12   \n",
       "2158                                                4   \n",
       "2159                                                4   \n",
       "\n",
       "      Pflege Station 11.1_11.4_planned_absences_personnel_count  \\\n",
       "0                                                    51           \n",
       "1                                                    51           \n",
       "2                                                    51           \n",
       "3                                                    51           \n",
       "4                                                    51           \n",
       "...                                                 ...           \n",
       "2155                                                 64           \n",
       "2156                                                 64           \n",
       "2157                                                 64           \n",
       "2158                                                 64           \n",
       "2159                                                 64           \n",
       "\n",
       "      Pflege Station 11.1_11.4_unplanned_absences_personnel_count  \\\n",
       "0                                                    11             \n",
       "1                                                    11             \n",
       "2                                                    11             \n",
       "3                                                    11             \n",
       "4                                                    11             \n",
       "...                                                 ...             \n",
       "2155                                                  7             \n",
       "2156                                                  7             \n",
       "2157                                                  7             \n",
       "2158                                                  7             \n",
       "2159                                                  7             \n",
       "\n",
       "      Pflege Station 9.7 UCH_worked_personnel_count  \\\n",
       "0                                                 3   \n",
       "1                                                 3   \n",
       "2                                                 3   \n",
       "3                                                 3   \n",
       "4                                                 3   \n",
       "...                                             ...   \n",
       "2155                                              7   \n",
       "2156                                              7   \n",
       "2157                                              8   \n",
       "2158                                              3   \n",
       "2159                                              3   \n",
       "\n",
       "      Pflege Station 9.7 UCH_planned_absences_personnel_count  ...  \\\n",
       "0                                                    32        ...   \n",
       "1                                                    32        ...   \n",
       "2                                                    32        ...   \n",
       "3                                                    32        ...   \n",
       "4                                                    32        ...   \n",
       "...                                                 ...        ...   \n",
       "2155                                                 29        ...   \n",
       "2156                                                 29        ...   \n",
       "2157                                                 29        ...   \n",
       "2158                                                 29        ...   \n",
       "2159                                                 29        ...   \n",
       "\n",
       "      cos_day_of_week  sin_day_of_year  cos_day_of_year  sin_day_of_month  \\\n",
       "0           -0.222521         0.999991         0.004304          0.201299   \n",
       "1           -0.222521         0.999991         0.004304          0.201299   \n",
       "2           -0.222521         0.999991         0.004304          0.201299   \n",
       "3           -0.222521         0.999991         0.004304          0.201299   \n",
       "4           -0.222521         0.999991         0.004304          0.201299   \n",
       "...               ...              ...              ...               ...   \n",
       "2155        -0.900969         0.043022        -0.999074         -0.394356   \n",
       "2156        -0.900969         0.043022        -0.999074         -0.394356   \n",
       "2157        -0.900969         0.043022        -0.999074         -0.394356   \n",
       "2158        -0.900969         0.043022        -0.999074         -0.394356   \n",
       "2159        -0.900969         0.043022        -0.999074         -0.394356   \n",
       "\n",
       "      cos_day_of_month  sin_month_of_year  cos_month_of_year  sin_hour_of_day  \\\n",
       "0             0.979530       8.660254e-01               -0.5         0.000000   \n",
       "1             0.979530       8.660254e-01               -0.5         0.258819   \n",
       "2             0.979530       8.660254e-01               -0.5         0.500000   \n",
       "3             0.979530       8.660254e-01               -0.5         0.707107   \n",
       "4             0.979530       8.660254e-01               -0.5         0.866025   \n",
       "...                ...                ...                ...              ...   \n",
       "2155          0.918958       1.224647e-16               -1.0        -0.965926   \n",
       "2156          0.918958       1.224647e-16               -1.0        -0.866025   \n",
       "2157          0.918958       1.224647e-16               -1.0        -0.707107   \n",
       "2158          0.918958       1.224647e-16               -1.0        -0.500000   \n",
       "2159          0.918958       1.224647e-16               -1.0        -0.258819   \n",
       "\n",
       "      cos_hour_of_day                     unique_id  \n",
       "0            1.000000  Pflege Station 10.3 II. Med.  \n",
       "1            0.965926  Pflege Station 10.3 II. Med.  \n",
       "2            0.866025  Pflege Station 10.3 II. Med.  \n",
       "3            0.707107  Pflege Station 10.3 II. Med.  \n",
       "4            0.500000  Pflege Station 10.3 II. Med.  \n",
       "...               ...                           ...  \n",
       "2155         0.258819  Pflege Station 10.3 II. Med.  \n",
       "2156         0.500000  Pflege Station 10.3 II. Med.  \n",
       "2157         0.707107  Pflege Station 10.3 II. Med.  \n",
       "2158         0.866025  Pflege Station 10.3 II. Med.  \n",
       "2159         0.965926  Pflege Station 10.3 II. Med.  \n",
       "\n",
       "[2160 rows x 30 columns]"
      ]
     },
     "execution_count": 36,
     "metadata": {},
     "output_type": "execute_result"
    }
   ],
   "source": [
    "ts_df = ts_df.reset_index()\n",
    "ts_df = ts_df.rename(columns={\"y\": \"NaiveSeasonalWeekly\"})\n",
    "ts_df = ts_df.merge(df_test, how=\"left\", on=\"ds\")\n",
    "ts_df"
   ]
  },
  {
   "cell_type": "code",
   "execution_count": 37,
   "metadata": {},
   "outputs": [
    {
     "data": {
      "text/plain": [
       "<Axes: >"
      ]
     },
     "execution_count": 37,
     "metadata": {},
     "output_type": "execute_result"
    },
    {
     "data": {
      "image/png": "[encoded data removed]",
      "text/plain": [
       "<Figure size 640x480 with 1 Axes>"
      ]
     },
     "metadata": {},
     "output_type": "display_data"
    }
   ],
   "source": [
    "ts_df[\"NaiveSeasonalWeekly\"][0:336].plot()\n",
    "ts_df[\"y\"][0:336].plot()"
   ]
  },
  {
   "cell_type": "code",
   "execution_count": 38,
   "metadata": {},
   "outputs": [
    {
     "data": {
      "text/html": [
       "<div>\n",
       "<style scoped>\n",
       "    .dataframe tbody tr th:only-of-type {\n",
       "        vertical-align: middle;\n",
       "    }\n",
       "\n",
       "    .dataframe tbody tr th {\n",
       "        vertical-align: top;\n",
       "    }\n",
       "\n",
       "    .dataframe thead th {\n",
       "        text-align: right;\n",
       "    }\n",
       "</style>\n",
       "<table border=\"1\" class=\"dataframe\">\n",
       "  <thead>\n",
       "    <tr style=\"text-align: right;\">\n",
       "      <th></th>\n",
       "      <th>unique_id</th>\n",
       "      <th>metric</th>\n",
       "      <th>NaiveSeasonalWeekly</th>\n",
       "    </tr>\n",
       "  </thead>\n",
       "  <tbody>\n",
       "    <tr>\n",
       "      <th>0</th>\n",
       "      <td>Pflege Station 10.3 II. Med.</td>\n",
       "      <td>mae</td>\n",
       "      <td>1.563889</td>\n",
       "    </tr>\n",
       "    <tr>\n",
       "      <th>1</th>\n",
       "      <td>Pflege Station 10.3 II. Med.</td>\n",
       "      <td>rmse</td>\n",
       "      <td>2.519553</td>\n",
       "    </tr>\n",
       "    <tr>\n",
       "      <th>2</th>\n",
       "      <td>Pflege Station 10.3 II. Med.</td>\n",
       "      <td>smape</td>\n",
       "      <td>0.066155</td>\n",
       "    </tr>\n",
       "  </tbody>\n",
       "</table>\n",
       "</div>"
      ],
      "text/plain": [
       "                      unique_id metric  NaiveSeasonalWeekly\n",
       "0  Pflege Station 10.3 II. Med.    mae             1.563889\n",
       "1  Pflege Station 10.3 II. Med.   rmse             2.519553\n",
       "2  Pflege Station 10.3 II. Med.  smape             0.066155"
      ]
     },
     "execution_count": 38,
     "metadata": {},
     "output_type": "execute_result"
    }
   ],
   "source": [
    "evaluate(ts_df, metrics=list(metrics.values()), models=[\"NaiveSeasonalWeekly\"])"
   ]
  }
 ],
 "metadata": {
  "kernelspec": {
   "display_name": "Python 3",
   "language": "python",
   "name": "python3"
  },
  "language_info": {
   "codemirror_mode": {
    "name": "ipython",
    "version": 3
   },
   "file_extension": ".py",
   "mimetype": "text/x-python",
   "name": "python",
   "nbconvert_exporter": "python",
   "pygments_lexer": "ipython3",
   "version": "3.10.12"
  }
 },
 "nbformat": 4,
 "nbformat_minor": 2
}
